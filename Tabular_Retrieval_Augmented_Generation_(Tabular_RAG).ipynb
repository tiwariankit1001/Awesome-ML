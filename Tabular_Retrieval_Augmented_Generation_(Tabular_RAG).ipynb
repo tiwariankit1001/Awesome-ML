{
  "nbformat": 4,
  "nbformat_minor": 0,
  "metadata": {
    "colab": {
      "provenance": [],
      "gpuType": "T4",
      "collapsed_sections": [
        "IPFMuY5esKgs",
        "TGC-xg7gwY8S",
        "ZSvfV2yyJnbl",
        "MOxz46MHJiLE",
        "aREB4tJSLxnK",
        "1pnAXUtOsKZa"
      ],
      "include_colab_link": true
    },
    "kernelspec": {
      "name": "python3",
      "display_name": "Python 3"
    },
    "language_info": {
      "name": "python"
    },
    "accelerator": "GPU",
    "widgets": {
      "application/vnd.jupyter.widget-state+json": {
        "837deb487aa74b4bbab937b59a41968f": {
          "model_module": "@jupyter-widgets/controls",
          "model_name": "HBoxModel",
          "model_module_version": "1.5.0",
          "state": {
            "_dom_classes": [],
            "_model_module": "@jupyter-widgets/controls",
            "_model_module_version": "1.5.0",
            "_model_name": "HBoxModel",
            "_view_count": null,
            "_view_module": "@jupyter-widgets/controls",
            "_view_module_version": "1.5.0",
            "_view_name": "HBoxView",
            "box_style": "",
            "children": [
              "IPY_MODEL_507d85a48ec64053bec1c4e190862915",
              "IPY_MODEL_3829c85c58e4453e9113d19292ca1f60",
              "IPY_MODEL_bd94b7bd134544bda6f16f1cbf964bf3"
            ],
            "layout": "IPY_MODEL_55b6e72152ad4c44a582c98b2d954f18"
          }
        },
        "507d85a48ec64053bec1c4e190862915": {
          "model_module": "@jupyter-widgets/controls",
          "model_name": "HTMLModel",
          "model_module_version": "1.5.0",
          "state": {
            "_dom_classes": [],
            "_model_module": "@jupyter-widgets/controls",
            "_model_module_version": "1.5.0",
            "_model_name": "HTMLModel",
            "_view_count": null,
            "_view_module": "@jupyter-widgets/controls",
            "_view_module_version": "1.5.0",
            "_view_name": "HTMLView",
            "description": "",
            "description_tooltip": null,
            "layout": "IPY_MODEL_ab66a528c9e0455d940446aff66a496d",
            "placeholder": "​",
            "style": "IPY_MODEL_82e0d1eca57146bf907f7bce1c32945c",
            "value": "100%"
          }
        },
        "3829c85c58e4453e9113d19292ca1f60": {
          "model_module": "@jupyter-widgets/controls",
          "model_name": "FloatProgressModel",
          "model_module_version": "1.5.0",
          "state": {
            "_dom_classes": [],
            "_model_module": "@jupyter-widgets/controls",
            "_model_module_version": "1.5.0",
            "_model_name": "FloatProgressModel",
            "_view_count": null,
            "_view_module": "@jupyter-widgets/controls",
            "_view_module_version": "1.5.0",
            "_view_name": "ProgressView",
            "bar_style": "success",
            "description": "",
            "description_tooltip": null,
            "layout": "IPY_MODEL_88b3cd1f5a0947cfb60e5324f29a1f97",
            "max": 7651,
            "min": 0,
            "orientation": "horizontal",
            "style": "IPY_MODEL_89aeb5f196bc43088ef40dd7336d06e0",
            "value": 7651
          }
        },
        "bd94b7bd134544bda6f16f1cbf964bf3": {
          "model_module": "@jupyter-widgets/controls",
          "model_name": "HTMLModel",
          "model_module_version": "1.5.0",
          "state": {
            "_dom_classes": [],
            "_model_module": "@jupyter-widgets/controls",
            "_model_module_version": "1.5.0",
            "_model_name": "HTMLModel",
            "_view_count": null,
            "_view_module": "@jupyter-widgets/controls",
            "_view_module_version": "1.5.0",
            "_view_name": "HTMLView",
            "description": "",
            "description_tooltip": null,
            "layout": "IPY_MODEL_96263d0a664f472481cf404b16871301",
            "placeholder": "​",
            "style": "IPY_MODEL_86195ff8b3a043c4b3e51de9fe627ffa",
            "value": " 7651/7651 [00:23&lt;00:00, 472.08it/s]"
          }
        },
        "55b6e72152ad4c44a582c98b2d954f18": {
          "model_module": "@jupyter-widgets/base",
          "model_name": "LayoutModel",
          "model_module_version": "1.2.0",
          "state": {
            "_model_module": "@jupyter-widgets/base",
            "_model_module_version": "1.2.0",
            "_model_name": "LayoutModel",
            "_view_count": null,
            "_view_module": "@jupyter-widgets/base",
            "_view_module_version": "1.2.0",
            "_view_name": "LayoutView",
            "align_content": null,
            "align_items": null,
            "align_self": null,
            "border": null,
            "bottom": null,
            "display": null,
            "flex": null,
            "flex_flow": null,
            "grid_area": null,
            "grid_auto_columns": null,
            "grid_auto_flow": null,
            "grid_auto_rows": null,
            "grid_column": null,
            "grid_gap": null,
            "grid_row": null,
            "grid_template_areas": null,
            "grid_template_columns": null,
            "grid_template_rows": null,
            "height": null,
            "justify_content": null,
            "justify_items": null,
            "left": null,
            "margin": null,
            "max_height": null,
            "max_width": null,
            "min_height": null,
            "min_width": null,
            "object_fit": null,
            "object_position": null,
            "order": null,
            "overflow": null,
            "overflow_x": null,
            "overflow_y": null,
            "padding": null,
            "right": null,
            "top": null,
            "visibility": null,
            "width": null
          }
        },
        "ab66a528c9e0455d940446aff66a496d": {
          "model_module": "@jupyter-widgets/base",
          "model_name": "LayoutModel",
          "model_module_version": "1.2.0",
          "state": {
            "_model_module": "@jupyter-widgets/base",
            "_model_module_version": "1.2.0",
            "_model_name": "LayoutModel",
            "_view_count": null,
            "_view_module": "@jupyter-widgets/base",
            "_view_module_version": "1.2.0",
            "_view_name": "LayoutView",
            "align_content": null,
            "align_items": null,
            "align_self": null,
            "border": null,
            "bottom": null,
            "display": null,
            "flex": null,
            "flex_flow": null,
            "grid_area": null,
            "grid_auto_columns": null,
            "grid_auto_flow": null,
            "grid_auto_rows": null,
            "grid_column": null,
            "grid_gap": null,
            "grid_row": null,
            "grid_template_areas": null,
            "grid_template_columns": null,
            "grid_template_rows": null,
            "height": null,
            "justify_content": null,
            "justify_items": null,
            "left": null,
            "margin": null,
            "max_height": null,
            "max_width": null,
            "min_height": null,
            "min_width": null,
            "object_fit": null,
            "object_position": null,
            "order": null,
            "overflow": null,
            "overflow_x": null,
            "overflow_y": null,
            "padding": null,
            "right": null,
            "top": null,
            "visibility": null,
            "width": null
          }
        },
        "82e0d1eca57146bf907f7bce1c32945c": {
          "model_module": "@jupyter-widgets/controls",
          "model_name": "DescriptionStyleModel",
          "model_module_version": "1.5.0",
          "state": {
            "_model_module": "@jupyter-widgets/controls",
            "_model_module_version": "1.5.0",
            "_model_name": "DescriptionStyleModel",
            "_view_count": null,
            "_view_module": "@jupyter-widgets/base",
            "_view_module_version": "1.2.0",
            "_view_name": "StyleView",
            "description_width": ""
          }
        },
        "88b3cd1f5a0947cfb60e5324f29a1f97": {
          "model_module": "@jupyter-widgets/base",
          "model_name": "LayoutModel",
          "model_module_version": "1.2.0",
          "state": {
            "_model_module": "@jupyter-widgets/base",
            "_model_module_version": "1.2.0",
            "_model_name": "LayoutModel",
            "_view_count": null,
            "_view_module": "@jupyter-widgets/base",
            "_view_module_version": "1.2.0",
            "_view_name": "LayoutView",
            "align_content": null,
            "align_items": null,
            "align_self": null,
            "border": null,
            "bottom": null,
            "display": null,
            "flex": null,
            "flex_flow": null,
            "grid_area": null,
            "grid_auto_columns": null,
            "grid_auto_flow": null,
            "grid_auto_rows": null,
            "grid_column": null,
            "grid_gap": null,
            "grid_row": null,
            "grid_template_areas": null,
            "grid_template_columns": null,
            "grid_template_rows": null,
            "height": null,
            "justify_content": null,
            "justify_items": null,
            "left": null,
            "margin": null,
            "max_height": null,
            "max_width": null,
            "min_height": null,
            "min_width": null,
            "object_fit": null,
            "object_position": null,
            "order": null,
            "overflow": null,
            "overflow_x": null,
            "overflow_y": null,
            "padding": null,
            "right": null,
            "top": null,
            "visibility": null,
            "width": null
          }
        },
        "89aeb5f196bc43088ef40dd7336d06e0": {
          "model_module": "@jupyter-widgets/controls",
          "model_name": "ProgressStyleModel",
          "model_module_version": "1.5.0",
          "state": {
            "_model_module": "@jupyter-widgets/controls",
            "_model_module_version": "1.5.0",
            "_model_name": "ProgressStyleModel",
            "_view_count": null,
            "_view_module": "@jupyter-widgets/base",
            "_view_module_version": "1.2.0",
            "_view_name": "StyleView",
            "bar_color": null,
            "description_width": ""
          }
        },
        "96263d0a664f472481cf404b16871301": {
          "model_module": "@jupyter-widgets/base",
          "model_name": "LayoutModel",
          "model_module_version": "1.2.0",
          "state": {
            "_model_module": "@jupyter-widgets/base",
            "_model_module_version": "1.2.0",
            "_model_name": "LayoutModel",
            "_view_count": null,
            "_view_module": "@jupyter-widgets/base",
            "_view_module_version": "1.2.0",
            "_view_name": "LayoutView",
            "align_content": null,
            "align_items": null,
            "align_self": null,
            "border": null,
            "bottom": null,
            "display": null,
            "flex": null,
            "flex_flow": null,
            "grid_area": null,
            "grid_auto_columns": null,
            "grid_auto_flow": null,
            "grid_auto_rows": null,
            "grid_column": null,
            "grid_gap": null,
            "grid_row": null,
            "grid_template_areas": null,
            "grid_template_columns": null,
            "grid_template_rows": null,
            "height": null,
            "justify_content": null,
            "justify_items": null,
            "left": null,
            "margin": null,
            "max_height": null,
            "max_width": null,
            "min_height": null,
            "min_width": null,
            "object_fit": null,
            "object_position": null,
            "order": null,
            "overflow": null,
            "overflow_x": null,
            "overflow_y": null,
            "padding": null,
            "right": null,
            "top": null,
            "visibility": null,
            "width": null
          }
        },
        "86195ff8b3a043c4b3e51de9fe627ffa": {
          "model_module": "@jupyter-widgets/controls",
          "model_name": "DescriptionStyleModel",
          "model_module_version": "1.5.0",
          "state": {
            "_model_module": "@jupyter-widgets/controls",
            "_model_module_version": "1.5.0",
            "_model_name": "DescriptionStyleModel",
            "_view_count": null,
            "_view_module": "@jupyter-widgets/base",
            "_view_module_version": "1.2.0",
            "_view_name": "StyleView",
            "description_width": ""
          }
        },
        "d1f27df86433480aa867362a272e22af": {
          "model_module": "@jupyter-widgets/controls",
          "model_name": "HBoxModel",
          "model_module_version": "1.5.0",
          "state": {
            "_dom_classes": [],
            "_model_module": "@jupyter-widgets/controls",
            "_model_module_version": "1.5.0",
            "_model_name": "HBoxModel",
            "_view_count": null,
            "_view_module": "@jupyter-widgets/controls",
            "_view_module_version": "1.5.0",
            "_view_name": "HBoxView",
            "box_style": "",
            "children": [
              "IPY_MODEL_2c2b3ce9423c40f7a445754ae067a327",
              "IPY_MODEL_a21393885014424b9f83e67a31ff89e4",
              "IPY_MODEL_a49ed88000e0493fb87ec5a76179a320"
            ],
            "layout": "IPY_MODEL_770a628bba0740f98b1dd75d0c44823d"
          }
        },
        "2c2b3ce9423c40f7a445754ae067a327": {
          "model_module": "@jupyter-widgets/controls",
          "model_name": "HTMLModel",
          "model_module_version": "1.5.0",
          "state": {
            "_dom_classes": [],
            "_model_module": "@jupyter-widgets/controls",
            "_model_module_version": "1.5.0",
            "_model_name": "HTMLModel",
            "_view_count": null,
            "_view_module": "@jupyter-widgets/controls",
            "_view_module_version": "1.5.0",
            "_view_name": "HTMLView",
            "description": "",
            "description_tooltip": null,
            "layout": "IPY_MODEL_bfc23b6e72b847dabb360a1edfe6e2c8",
            "placeholder": "​",
            "style": "IPY_MODEL_9b014788afcc4057a5aa4b39d7b13b16",
            "value": "100%"
          }
        },
        "a21393885014424b9f83e67a31ff89e4": {
          "model_module": "@jupyter-widgets/controls",
          "model_name": "FloatProgressModel",
          "model_module_version": "1.5.0",
          "state": {
            "_dom_classes": [],
            "_model_module": "@jupyter-widgets/controls",
            "_model_module_version": "1.5.0",
            "_model_name": "FloatProgressModel",
            "_view_count": null,
            "_view_module": "@jupyter-widgets/controls",
            "_view_module_version": "1.5.0",
            "_view_name": "ProgressView",
            "bar_style": "success",
            "description": "",
            "description_tooltip": null,
            "layout": "IPY_MODEL_12e6dbd1d56c4a9aafdd9a4387284717",
            "max": 2,
            "min": 0,
            "orientation": "horizontal",
            "style": "IPY_MODEL_bb5ae924600546d0896d6ae5fbc68770",
            "value": 2
          }
        },
        "a49ed88000e0493fb87ec5a76179a320": {
          "model_module": "@jupyter-widgets/controls",
          "model_name": "HTMLModel",
          "model_module_version": "1.5.0",
          "state": {
            "_dom_classes": [],
            "_model_module": "@jupyter-widgets/controls",
            "_model_module_version": "1.5.0",
            "_model_name": "HTMLModel",
            "_view_count": null,
            "_view_module": "@jupyter-widgets/controls",
            "_view_module_version": "1.5.0",
            "_view_name": "HTMLView",
            "description": "",
            "description_tooltip": null,
            "layout": "IPY_MODEL_a7688861b9c04805b889680491e07118",
            "placeholder": "​",
            "style": "IPY_MODEL_874f868d52cd485cb69e86c3c57d96ac",
            "value": " 2/2 [00:59&lt;00:00, 34.85s/it]"
          }
        },
        "770a628bba0740f98b1dd75d0c44823d": {
          "model_module": "@jupyter-widgets/base",
          "model_name": "LayoutModel",
          "model_module_version": "1.2.0",
          "state": {
            "_model_module": "@jupyter-widgets/base",
            "_model_module_version": "1.2.0",
            "_model_name": "LayoutModel",
            "_view_count": null,
            "_view_module": "@jupyter-widgets/base",
            "_view_module_version": "1.2.0",
            "_view_name": "LayoutView",
            "align_content": null,
            "align_items": null,
            "align_self": null,
            "border": null,
            "bottom": null,
            "display": null,
            "flex": null,
            "flex_flow": null,
            "grid_area": null,
            "grid_auto_columns": null,
            "grid_auto_flow": null,
            "grid_auto_rows": null,
            "grid_column": null,
            "grid_gap": null,
            "grid_row": null,
            "grid_template_areas": null,
            "grid_template_columns": null,
            "grid_template_rows": null,
            "height": null,
            "justify_content": null,
            "justify_items": null,
            "left": null,
            "margin": null,
            "max_height": null,
            "max_width": null,
            "min_height": null,
            "min_width": null,
            "object_fit": null,
            "object_position": null,
            "order": null,
            "overflow": null,
            "overflow_x": null,
            "overflow_y": null,
            "padding": null,
            "right": null,
            "top": null,
            "visibility": null,
            "width": null
          }
        },
        "bfc23b6e72b847dabb360a1edfe6e2c8": {
          "model_module": "@jupyter-widgets/base",
          "model_name": "LayoutModel",
          "model_module_version": "1.2.0",
          "state": {
            "_model_module": "@jupyter-widgets/base",
            "_model_module_version": "1.2.0",
            "_model_name": "LayoutModel",
            "_view_count": null,
            "_view_module": "@jupyter-widgets/base",
            "_view_module_version": "1.2.0",
            "_view_name": "LayoutView",
            "align_content": null,
            "align_items": null,
            "align_self": null,
            "border": null,
            "bottom": null,
            "display": null,
            "flex": null,
            "flex_flow": null,
            "grid_area": null,
            "grid_auto_columns": null,
            "grid_auto_flow": null,
            "grid_auto_rows": null,
            "grid_column": null,
            "grid_gap": null,
            "grid_row": null,
            "grid_template_areas": null,
            "grid_template_columns": null,
            "grid_template_rows": null,
            "height": null,
            "justify_content": null,
            "justify_items": null,
            "left": null,
            "margin": null,
            "max_height": null,
            "max_width": null,
            "min_height": null,
            "min_width": null,
            "object_fit": null,
            "object_position": null,
            "order": null,
            "overflow": null,
            "overflow_x": null,
            "overflow_y": null,
            "padding": null,
            "right": null,
            "top": null,
            "visibility": null,
            "width": null
          }
        },
        "9b014788afcc4057a5aa4b39d7b13b16": {
          "model_module": "@jupyter-widgets/controls",
          "model_name": "DescriptionStyleModel",
          "model_module_version": "1.5.0",
          "state": {
            "_model_module": "@jupyter-widgets/controls",
            "_model_module_version": "1.5.0",
            "_model_name": "DescriptionStyleModel",
            "_view_count": null,
            "_view_module": "@jupyter-widgets/base",
            "_view_module_version": "1.2.0",
            "_view_name": "StyleView",
            "description_width": ""
          }
        },
        "12e6dbd1d56c4a9aafdd9a4387284717": {
          "model_module": "@jupyter-widgets/base",
          "model_name": "LayoutModel",
          "model_module_version": "1.2.0",
          "state": {
            "_model_module": "@jupyter-widgets/base",
            "_model_module_version": "1.2.0",
            "_model_name": "LayoutModel",
            "_view_count": null,
            "_view_module": "@jupyter-widgets/base",
            "_view_module_version": "1.2.0",
            "_view_name": "LayoutView",
            "align_content": null,
            "align_items": null,
            "align_self": null,
            "border": null,
            "bottom": null,
            "display": null,
            "flex": null,
            "flex_flow": null,
            "grid_area": null,
            "grid_auto_columns": null,
            "grid_auto_flow": null,
            "grid_auto_rows": null,
            "grid_column": null,
            "grid_gap": null,
            "grid_row": null,
            "grid_template_areas": null,
            "grid_template_columns": null,
            "grid_template_rows": null,
            "height": null,
            "justify_content": null,
            "justify_items": null,
            "left": null,
            "margin": null,
            "max_height": null,
            "max_width": null,
            "min_height": null,
            "min_width": null,
            "object_fit": null,
            "object_position": null,
            "order": null,
            "overflow": null,
            "overflow_x": null,
            "overflow_y": null,
            "padding": null,
            "right": null,
            "top": null,
            "visibility": null,
            "width": null
          }
        },
        "bb5ae924600546d0896d6ae5fbc68770": {
          "model_module": "@jupyter-widgets/controls",
          "model_name": "ProgressStyleModel",
          "model_module_version": "1.5.0",
          "state": {
            "_model_module": "@jupyter-widgets/controls",
            "_model_module_version": "1.5.0",
            "_model_name": "ProgressStyleModel",
            "_view_count": null,
            "_view_module": "@jupyter-widgets/base",
            "_view_module_version": "1.2.0",
            "_view_name": "StyleView",
            "bar_color": null,
            "description_width": ""
          }
        },
        "a7688861b9c04805b889680491e07118": {
          "model_module": "@jupyter-widgets/base",
          "model_name": "LayoutModel",
          "model_module_version": "1.2.0",
          "state": {
            "_model_module": "@jupyter-widgets/base",
            "_model_module_version": "1.2.0",
            "_model_name": "LayoutModel",
            "_view_count": null,
            "_view_module": "@jupyter-widgets/base",
            "_view_module_version": "1.2.0",
            "_view_name": "LayoutView",
            "align_content": null,
            "align_items": null,
            "align_self": null,
            "border": null,
            "bottom": null,
            "display": null,
            "flex": null,
            "flex_flow": null,
            "grid_area": null,
            "grid_auto_columns": null,
            "grid_auto_flow": null,
            "grid_auto_rows": null,
            "grid_column": null,
            "grid_gap": null,
            "grid_row": null,
            "grid_template_areas": null,
            "grid_template_columns": null,
            "grid_template_rows": null,
            "height": null,
            "justify_content": null,
            "justify_items": null,
            "left": null,
            "margin": null,
            "max_height": null,
            "max_width": null,
            "min_height": null,
            "min_width": null,
            "object_fit": null,
            "object_position": null,
            "order": null,
            "overflow": null,
            "overflow_x": null,
            "overflow_y": null,
            "padding": null,
            "right": null,
            "top": null,
            "visibility": null,
            "width": null
          }
        },
        "874f868d52cd485cb69e86c3c57d96ac": {
          "model_module": "@jupyter-widgets/controls",
          "model_name": "DescriptionStyleModel",
          "model_module_version": "1.5.0",
          "state": {
            "_model_module": "@jupyter-widgets/controls",
            "_model_module_version": "1.5.0",
            "_model_name": "DescriptionStyleModel",
            "_view_count": null,
            "_view_module": "@jupyter-widgets/base",
            "_view_module_version": "1.2.0",
            "_view_name": "StyleView",
            "description_width": ""
          }
        }
      }
    }
  },
  "cells": [
    {
      "cell_type": "markdown",
      "metadata": {
        "id": "view-in-github",
        "colab_type": "text"
      },
      "source": [
        "<a href=\"https://colab.research.google.com/github/tiwariankit1001/Awesome-ML/blob/master/Tabular_Retrieval_Augmented_Generation_(Tabular_RAG).ipynb\" target=\"_parent\"><img src=\"https://colab.research.google.com/assets/colab-badge.svg\" alt=\"Open In Colab\"/></a>"
      ]
    },
    {
      "cell_type": "markdown",
      "source": [
        "# Tabular Retrieval-Augmented Generation (Tabular RAG)\n",
        "\n",
        "Welcome back, and congratulations on mastering the foundational concepts of Tabular RAG from our first session! You've successfully built a \"Cinephile Translator\" that can converse with a single movie table, using an LLM to generate precise SQL queries. Now, as we begin Session 2, we’re ready to evolve our system into a truly powerful and production-ready data assistant. This session is dedicated to unlocking the full potential of our movie universe.\n",
        "\n",
        "Our first major challenge is to move beyond isolated tables. The real magic lies in the relationships between our movie data—the connections between actors, directors, and genres. We will master the **SQL `JOIN`** operation, learning to seamlessly navigate these relationships to answer sophisticated multi-table queries. From there, we’ll dive into **advanced analytics**, using powerful clauses like `GROUP BY`, `HAVING`, and `ORDER BY` to extract deeper insights and rankings from our data, giving us the ability to go from simple facts to complex analytical summaries.\n",
        "\n",
        "But we won’t stop at what pure SQL can do. We'll confront the **semantic gap**—the limitation of using keywords for conceptual searches—by introducing the concept of a **Hybrid RAG system**. We'll learn how to design an orchestration layer that intelligently combines structured SQL with a powerful vector-based semantic search, allowing us to answer highly subjective questions like finding a \"thrilling sci-fi\" film. Finally, we'll address the critical real-world challenges of **security, robustness, and performance**, ensuring our system is not only smart but also resilient, secure, and ready for deployment. This session will transform your foundational skills into the expertise needed to build a truly masterful Tabular RAG solution."
      ],
      "metadata": {
        "id": "h5neJ9EMrguQ"
      }
    },
    {
      "cell_type": "markdown",
      "source": [
        "# Pre-req"
      ],
      "metadata": {
        "id": "kXidQXUdtS7i"
      }
    },
    {
      "cell_type": "markdown",
      "source": [
        "The pre-req steps to use the Gemini API key with Python:\n",
        "\n",
        "1.  **Get API Key:** Go to [aistudio.google.com](https://aistudio.google.com/), sign in, and create/copy your API key (secure it immediately).\n",
        "2.  **Install Library:** In your terminal, run `pip install -q -U google-generativeai`.\n",
        "3.  **Set API Key Securely:**\n",
        "    * **Recommended:** Set it as an environment variable (e.g., `export GOOGLE_API_KEY=\"YOUR_KEY\"` in terminal/shell config).\n",
        "    * **Colab:** Use Colab Secrets to store `GOOGLE_API_KEY`.\n",
        "4.  **Configure in Python:** In your script, retrieve the key (e.g., `os.getenv('GOOGLE_API_KEY')` or `userdata.get('GOOGLE_API_KEY')`) and then use `genai.configure(api_key=YOUR_KEY)`.\n",
        "\n",
        "[Gemini API Key](https://aistudio.google.com/u/1/apikey)"
      ],
      "metadata": {
        "id": "6mUMdmthtOyd"
      }
    },
    {
      "cell_type": "code",
      "source": [
        "!pip install -qq -U pandas \"numpy<2\" matplotlib seaborn tabulate psycopg2-binary sqlalchemy randomname google-generativeai python-dotenv --force\n",
        "!pip install --upgrade -qU langchain langchain-community sqlite-vec langchain-huggingface sentence-transformers\n",
        "!pip install --upgrade numpy scipy pandas scikit-learn # and any other relevant data science libraries you use\n"
      ],
      "metadata": {
        "id": "-8yxOKmDXohH",
        "colab": {
          "base_uri": "https://localhost:8080/",
          "height": 1000
        },
        "outputId": "2f300764-6ec1-40f0-dbb9-dc8fc0d9188d"
      },
      "execution_count": null,
      "outputs": [
        {
          "output_type": "stream",
          "name": "stdout",
          "text": [
            "\u001b[2K     \u001b[90m━━━━━━━━━━━━━━━━━━━━━━━━━━━━━━━━━━━━━━━━\u001b[0m \u001b[32m91.2/91.2 kB\u001b[0m \u001b[31m4.2 MB/s\u001b[0m eta \u001b[36m0:00:00\u001b[0m\n",
            "\u001b[2K     \u001b[90m━━━━━━━━━━━━━━━━━━━━━━━━━━━━━━━━━━━━━━━━\u001b[0m \u001b[32m61.0/61.0 kB\u001b[0m \u001b[31m3.7 MB/s\u001b[0m eta \u001b[36m0:00:00\u001b[0m\n",
            "\u001b[2K     \u001b[90m━━━━━━━━━━━━━━━━━━━━━━━━━━━━━━━━━━━━━━━━\u001b[0m \u001b[32m64.2/64.2 kB\u001b[0m \u001b[31m4.0 MB/s\u001b[0m eta \u001b[36m0:00:00\u001b[0m\n",
            "\u001b[?25h  Preparing metadata (setup.py) ... \u001b[?25l\u001b[?25hdone\n",
            "\u001b[2K     \u001b[90m━━━━━━━━━━━━━━━━━━━━━━━━━━━━━━━━━━━━━━━\u001b[0m \u001b[32m107.9/107.9 kB\u001b[0m \u001b[31m4.9 MB/s\u001b[0m eta \u001b[36m0:00:00\u001b[0m\n",
            "\u001b[2K     \u001b[90m━━━━━━━━━━━━━━━━━━━━━━━━━━━━━━━━━━━━━━━━\u001b[0m \u001b[32m87.2/87.2 kB\u001b[0m \u001b[31m7.1 MB/s\u001b[0m eta \u001b[36m0:00:00\u001b[0m\n",
            "\u001b[?25h  Preparing metadata (setup.py) ... \u001b[?25l\u001b[?25hdone\n",
            "\u001b[2K     \u001b[90m━━━━━━━━━━━━━━━━━━━━━━━━━━━━━━━━━━━━━━━━\u001b[0m \u001b[32m68.0/68.0 kB\u001b[0m \u001b[31m5.8 MB/s\u001b[0m eta \u001b[36m0:00:00\u001b[0m\n",
            "\u001b[2K     \u001b[90m━━━━━━━━━━━━━━━━━━━━━━━━━━━━━━━━━━━━━━━━\u001b[0m \u001b[32m57.7/57.7 kB\u001b[0m \u001b[31m5.0 MB/s\u001b[0m eta \u001b[36m0:00:00\u001b[0m\n",
            "\u001b[2K   \u001b[90m━━━━━━━━━━━━━━━━━━━━━━━━━━━━━━━━━━━━━━━━\u001b[0m \u001b[32m12.4/12.4 MB\u001b[0m \u001b[31m100.1 MB/s\u001b[0m eta \u001b[36m0:00:00\u001b[0m\n",
            "\u001b[2K   \u001b[90m━━━━━━━━━━━━━━━━━━━━━━━━━━━━━━━━━━━━━━━━\u001b[0m \u001b[32m18.3/18.3 MB\u001b[0m \u001b[31m88.0 MB/s\u001b[0m eta \u001b[36m0:00:00\u001b[0m\n",
            "\u001b[2K   \u001b[90m━━━━━━━━━━━━━━━━━━━━━━━━━━━━━━━━━━━━━━━━\u001b[0m \u001b[32m8.7/8.7 MB\u001b[0m \u001b[31m86.2 MB/s\u001b[0m eta \u001b[36m0:00:00\u001b[0m\n",
            "\u001b[2K   \u001b[90m━━━━━━━━━━━━━━━━━━━━━━━━━━━━━━━━━━━━━━━━\u001b[0m \u001b[32m294.9/294.9 kB\u001b[0m \u001b[31m21.5 MB/s\u001b[0m eta \u001b[36m0:00:00\u001b[0m\n",
            "\u001b[2K   \u001b[90m━━━━━━━━━━━━━━━━━━━━━━━━━━━━━━━━━━━━━━━━\u001b[0m \u001b[32m3.0/3.0 MB\u001b[0m \u001b[31m82.5 MB/s\u001b[0m eta \u001b[36m0:00:00\u001b[0m\n",
            "\u001b[2K   \u001b[90m━━━━━━━━━━━━━━━━━━━━━━━━━━━━━━━━━━━━━━━━\u001b[0m \u001b[32m3.3/3.3 MB\u001b[0m \u001b[31m82.6 MB/s\u001b[0m eta \u001b[36m0:00:00\u001b[0m\n",
            "\u001b[2K   \u001b[90m━━━━━━━━━━━━━━━━━━━━━━━━━━━━━━━━━━━━━━━━\u001b[0m \u001b[32m155.4/155.4 kB\u001b[0m \u001b[31m9.5 MB/s\u001b[0m eta \u001b[36m0:00:00\u001b[0m\n",
            "\u001b[2K   \u001b[90m━━━━━━━━━━━━━━━━━━━━━━━━━━━━━━━━━━━━━━━━\u001b[0m \u001b[32m1.3/1.3 MB\u001b[0m \u001b[31m50.7 MB/s\u001b[0m eta \u001b[36m0:00:00\u001b[0m\n",
            "\u001b[2K   \u001b[90m━━━━━━━━━━━━━━━━━━━━━━━━━━━━━━━━━━━━━━━━\u001b[0m \u001b[32m355.2/355.2 kB\u001b[0m \u001b[31m23.8 MB/s\u001b[0m eta \u001b[36m0:00:00\u001b[0m\n",
            "\u001b[2K   \u001b[90m━━━━━━━━━━━━━━━━━━━━━━━━━━━━━━━━━━━━━━━━\u001b[0m \u001b[32m5.0/5.0 MB\u001b[0m \u001b[31m68.8 MB/s\u001b[0m eta \u001b[36m0:00:00\u001b[0m\n",
            "\u001b[2K   \u001b[90m━━━━━━━━━━━━━━━━━━━━━━━━━━━━━━━━━━━━━━━━\u001b[0m \u001b[32m160.8/160.8 kB\u001b[0m \u001b[31m12.7 MB/s\u001b[0m eta \u001b[36m0:00:00\u001b[0m\n",
            "\u001b[2K   \u001b[90m━━━━━━━━━━━━━━━━━━━━━━━━━━━━━━━━━━━━━━━━\u001b[0m \u001b[32m216.1/216.1 kB\u001b[0m \u001b[31m16.4 MB/s\u001b[0m eta \u001b[36m0:00:00\u001b[0m\n",
            "\u001b[2K   \u001b[90m━━━━━━━━━━━━━━━━━━━━━━━━━━━━━━━━━━━━━━━━\u001b[0m \u001b[32m585.5/585.5 kB\u001b[0m \u001b[31m32.5 MB/s\u001b[0m eta \u001b[36m0:00:00\u001b[0m\n",
            "\u001b[2K   \u001b[90m━━━━━━━━━━━━━━━━━━━━━━━━━━━━━━━━━━━━━━━━\u001b[0m \u001b[32m1.4/1.4 MB\u001b[0m \u001b[31m32.5 MB/s\u001b[0m eta \u001b[36m0:00:00\u001b[0m\n",
            "\u001b[2K   \u001b[90m━━━━━━━━━━━━━━━━━━━━━━━━━━━━━━━━━━━━━━━━\u001b[0m \u001b[32m66.5/66.5 kB\u001b[0m \u001b[31m5.4 MB/s\u001b[0m eta \u001b[36m0:00:00\u001b[0m\n",
            "\u001b[2K   \u001b[90m━━━━━━━━━━━━━━━━━━━━━━━━━━━━━━━━━━━━━━━━\u001b[0m \u001b[32m6.6/6.6 MB\u001b[0m \u001b[31m69.6 MB/s\u001b[0m eta \u001b[36m0:00:00\u001b[0m\n",
            "\u001b[2K   \u001b[90m━━━━━━━━━━━━━━━━━━━━━━━━━━━━━━━━━━━━━━━━\u001b[0m \u001b[32m319.9/319.9 kB\u001b[0m \u001b[31m20.3 MB/s\u001b[0m eta \u001b[36m0:00:00\u001b[0m\n",
            "\u001b[2K   \u001b[90m━━━━━━━━━━━━━━━━━━━━━━━━━━━━━━━━━━━━━━━━\u001b[0m \u001b[32m111.1/111.1 kB\u001b[0m \u001b[31m10.1 MB/s\u001b[0m eta \u001b[36m0:00:00\u001b[0m\n",
            "\u001b[2K   \u001b[90m━━━━━━━━━━━━━━━━━━━━━━━━━━━━━━━━━━━━━━━━\u001b[0m \u001b[32m229.9/229.9 kB\u001b[0m \u001b[31m18.0 MB/s\u001b[0m eta \u001b[36m0:00:00\u001b[0m\n",
            "\u001b[2K   \u001b[90m━━━━━━━━━━━━━━━━━━━━━━━━━━━━━━━━━━━━━━━━\u001b[0m \u001b[32m509.2/509.2 kB\u001b[0m \u001b[31m33.0 MB/s\u001b[0m eta \u001b[36m0:00:00\u001b[0m\n",
            "\u001b[2K   \u001b[90m━━━━━━━━━━━━━━━━━━━━━━━━━━━━━━━━━━━━━━━━\u001b[0m \u001b[32m43.9/43.9 kB\u001b[0m \u001b[31m3.4 MB/s\u001b[0m eta \u001b[36m0:00:00\u001b[0m\n",
            "\u001b[2K   \u001b[90m━━━━━━━━━━━━━━━━━━━━━━━━━━━━━━━━━━━━━━━━\u001b[0m \u001b[32m347.8/347.8 kB\u001b[0m \u001b[31m25.7 MB/s\u001b[0m eta \u001b[36m0:00:00\u001b[0m\n",
            "\u001b[2K   \u001b[90m━━━━━━━━━━━━━━━━━━━━━━━━━━━━━━━━━━━━━━━━\u001b[0m \u001b[32m13.7/13.7 MB\u001b[0m \u001b[31m20.9 MB/s\u001b[0m eta \u001b[36m0:00:00\u001b[0m\n",
            "\u001b[2K   \u001b[90m━━━━━━━━━━━━━━━━━━━━━━━━━━━━━━━━━━━━━━━━\u001b[0m \u001b[32m444.8/444.8 kB\u001b[0m \u001b[31m30.4 MB/s\u001b[0m eta \u001b[36m0:00:00\u001b[0m\n",
            "\u001b[2K   \u001b[90m━━━━━━━━━━━━━━━━━━━━━━━━━━━━━━━━━━━━━━━━\u001b[0m \u001b[32m2.0/2.0 MB\u001b[0m \u001b[31m58.7 MB/s\u001b[0m eta \u001b[36m0:00:00\u001b[0m\n",
            "\u001b[2K   \u001b[90m━━━━━━━━━━━━━━━━━━━━━━━━━━━━━━━━━━━━━━━━\u001b[0m \u001b[32m78.5/78.5 kB\u001b[0m \u001b[31m6.0 MB/s\u001b[0m eta \u001b[36m0:00:00\u001b[0m\n",
            "\u001b[2K   \u001b[90m━━━━━━━━━━━━━━━━━━━━━━━━━━━━━━━━━━━━━━━━\u001b[0m \u001b[32m294.5/294.5 kB\u001b[0m \u001b[31m23.0 MB/s\u001b[0m eta \u001b[36m0:00:00\u001b[0m\n",
            "\u001b[2K   \u001b[90m━━━━━━━━━━━━━━━━━━━━━━━━━━━━━━━━━━━━━━━━\u001b[0m \u001b[32m96.9/96.9 kB\u001b[0m \u001b[31m9.2 MB/s\u001b[0m eta \u001b[36m0:00:00\u001b[0m\n",
            "\u001b[2K   \u001b[90m━━━━━━━━━━━━━━━━━━━━━━━━━━━━━━━━━━━━━━━━\u001b[0m \u001b[32m50.2/50.2 kB\u001b[0m \u001b[31m4.2 MB/s\u001b[0m eta \u001b[36m0:00:00\u001b[0m\n",
            "\u001b[2K   \u001b[90m━━━━━━━━━━━━━━━━━━━━━━━━━━━━━━━━━━━━━━━━\u001b[0m \u001b[32m181.3/181.3 kB\u001b[0m \u001b[31m13.9 MB/s\u001b[0m eta \u001b[36m0:00:00\u001b[0m\n",
            "\u001b[2K   \u001b[90m━━━━━━━━━━━━━━━━━━━━━━━━━━━━━━━━━━━━━━━━\u001b[0m \u001b[32m64.8/64.8 kB\u001b[0m \u001b[31m5.6 MB/s\u001b[0m eta \u001b[36m0:00:00\u001b[0m\n",
            "\u001b[2K   \u001b[90m━━━━━━━━━━━━━━━━━━━━━━━━━━━━━━━━━━━━━━━━\u001b[0m \u001b[32m161.2/161.2 kB\u001b[0m \u001b[31m11.6 MB/s\u001b[0m eta \u001b[36m0:00:00\u001b[0m\n",
            "\u001b[2K   \u001b[90m━━━━━━━━━━━━━━━━━━━━━━━━━━━━━━━━━━━━━━━━\u001b[0m \u001b[32m147.3/147.3 kB\u001b[0m \u001b[31m12.4 MB/s\u001b[0m eta \u001b[36m0:00:00\u001b[0m\n",
            "\u001b[2K   \u001b[90m━━━━━━━━━━━━━━━━━━━━━━━━━━━━━━━━━━━━━━━━\u001b[0m \u001b[32m6.2/6.2 MB\u001b[0m \u001b[31m66.2 MB/s\u001b[0m eta \u001b[36m0:00:00\u001b[0m\n",
            "\u001b[2K   \u001b[90m━━━━━━━━━━━━━━━━━━━━━━━━━━━━━━━━━━━━━━━━\u001b[0m \u001b[32m70.4/70.4 kB\u001b[0m \u001b[31m5.8 MB/s\u001b[0m eta \u001b[36m0:00:00\u001b[0m\n",
            "\u001b[2K   \u001b[90m━━━━━━━━━━━━━━━━━━━━━━━━━━━━━━━━━━━━━━━━\u001b[0m \u001b[32m83.1/83.1 kB\u001b[0m \u001b[31m6.0 MB/s\u001b[0m eta \u001b[36m0:00:00\u001b[0m\n",
            "\u001b[2K   \u001b[90m━━━━━━━━━━━━━━━━━━━━━━━━━━━━━━━━━━━━━━━━\u001b[0m \u001b[32m129.8/129.8 kB\u001b[0m \u001b[31m10.1 MB/s\u001b[0m eta \u001b[36m0:00:00\u001b[0m\n",
            "\u001b[?25h  Building wheel for randomname (setup.py) ... \u001b[?25l\u001b[?25hdone\n",
            "  Building wheel for fire (setup.py) ... \u001b[?25l\u001b[?25hdone\n",
            "\u001b[31mERROR: pip's dependency resolver does not currently take into account all the packages that are installed. This behaviour is the source of the following dependency conflicts.\n",
            "google-colab 1.0.0 requires google-auth==2.38.0, but you have google-auth 2.40.3 which is incompatible.\n",
            "google-colab 1.0.0 requires pandas==2.2.2, but you have pandas 2.3.1 which is incompatible.\n",
            "google-colab 1.0.0 requires requests==2.32.3, but you have requests 2.32.4 which is incompatible.\n",
            "opencv-python 4.12.0.88 requires numpy<2.3.0,>=2; python_version >= \"3.9\", but you have numpy 1.26.4 which is incompatible.\n",
            "opencv-python-headless 4.12.0.88 requires numpy<2.3.0,>=2; python_version >= \"3.9\", but you have numpy 1.26.4 which is incompatible.\n",
            "opencv-contrib-python 4.12.0.88 requires numpy<2.3.0,>=2; python_version >= \"3.9\", but you have numpy 1.26.4 which is incompatible.\n",
            "dask-cudf-cu12 25.6.0 requires pandas<2.2.4dev0,>=2.0, but you have pandas 2.3.1 which is incompatible.\n",
            "torch 2.6.0+cu124 requires nvidia-cublas-cu12==12.4.5.8; platform_system == \"Linux\" and platform_machine == \"x86_64\", but you have nvidia-cublas-cu12 12.5.3.2 which is incompatible.\n",
            "torch 2.6.0+cu124 requires nvidia-cuda-cupti-cu12==12.4.127; platform_system == \"Linux\" and platform_machine == \"x86_64\", but you have nvidia-cuda-cupti-cu12 12.5.82 which is incompatible.\n",
            "torch 2.6.0+cu124 requires nvidia-cuda-nvrtc-cu12==12.4.127; platform_system == \"Linux\" and platform_machine == \"x86_64\", but you have nvidia-cuda-nvrtc-cu12 12.5.82 which is incompatible.\n",
            "torch 2.6.0+cu124 requires nvidia-cuda-runtime-cu12==12.4.127; platform_system == \"Linux\" and platform_machine == \"x86_64\", but you have nvidia-cuda-runtime-cu12 12.5.82 which is incompatible.\n",
            "torch 2.6.0+cu124 requires nvidia-cudnn-cu12==9.1.0.70; platform_system == \"Linux\" and platform_machine == \"x86_64\", but you have nvidia-cudnn-cu12 9.3.0.75 which is incompatible.\n",
            "torch 2.6.0+cu124 requires nvidia-cufft-cu12==11.2.1.3; platform_system == \"Linux\" and platform_machine == \"x86_64\", but you have nvidia-cufft-cu12 11.2.3.61 which is incompatible.\n",
            "torch 2.6.0+cu124 requires nvidia-curand-cu12==10.3.5.147; platform_system == \"Linux\" and platform_machine == \"x86_64\", but you have nvidia-curand-cu12 10.3.6.82 which is incompatible.\n",
            "torch 2.6.0+cu124 requires nvidia-cusolver-cu12==11.6.1.9; platform_system == \"Linux\" and platform_machine == \"x86_64\", but you have nvidia-cusolver-cu12 11.6.3.83 which is incompatible.\n",
            "torch 2.6.0+cu124 requires nvidia-cusparse-cu12==12.3.1.170; platform_system == \"Linux\" and platform_machine == \"x86_64\", but you have nvidia-cusparse-cu12 12.5.1.3 which is incompatible.\n",
            "torch 2.6.0+cu124 requires nvidia-nvjitlink-cu12==12.4.127; platform_system == \"Linux\" and platform_machine == \"x86_64\", but you have nvidia-nvjitlink-cu12 12.5.82 which is incompatible.\n",
            "thinc 8.3.6 requires numpy<3.0.0,>=2.0.0, but you have numpy 1.26.4 which is incompatible.\n",
            "cudf-cu12 25.6.0 requires pandas<2.2.4dev0,>=2.0, but you have pandas 2.3.1 which is incompatible.\u001b[0m\u001b[31m\n",
            "\u001b[2K   \u001b[90m━━━━━━━━━━━━━━━━━━━━━━━━━━━━━━━━━━━━━━━━\u001b[0m \u001b[32m2.5/2.5 MB\u001b[0m \u001b[31m45.0 MB/s\u001b[0m eta \u001b[36m0:00:00\u001b[0m\n",
            "\u001b[2K   \u001b[90m━━━━━━━━━━━━━━━━━━━━━━━━━━━━━━━━━━━━━━━━\u001b[0m \u001b[32m151.6/151.6 kB\u001b[0m \u001b[31m11.9 MB/s\u001b[0m eta \u001b[36m0:00:00\u001b[0m\n",
            "\u001b[2K   \u001b[90m━━━━━━━━━━━━━━━━━━━━━━━━━━━━━━━━━━━━━━━━\u001b[0m \u001b[32m470.2/470.2 kB\u001b[0m \u001b[31m30.5 MB/s\u001b[0m eta \u001b[36m0:00:00\u001b[0m\n",
            "\u001b[2K   \u001b[90m━━━━━━━━━━━━━━━━━━━━━━━━━━━━━━━━━━━━━━━━\u001b[0m \u001b[32m45.2/45.2 kB\u001b[0m \u001b[31m3.8 MB/s\u001b[0m eta \u001b[36m0:00:00\u001b[0m\n",
            "\u001b[2K   \u001b[90m━━━━━━━━━━━━━━━━━━━━━━━━━━━━━━━━━━━━━━━━\u001b[0m \u001b[32m363.4/363.4 MB\u001b[0m \u001b[31m4.8 MB/s\u001b[0m eta \u001b[36m0:00:00\u001b[0m\n",
            "\u001b[2K   \u001b[90m━━━━━━━━━━━━━━━━━━━━━━━━━━━━━━━━━━━━━━━━\u001b[0m \u001b[32m13.8/13.8 MB\u001b[0m \u001b[31m66.2 MB/s\u001b[0m eta \u001b[36m0:00:00\u001b[0m\n",
            "\u001b[2K   \u001b[90m━━━━━━━━━━━━━━━━━━━━━━━━━━━━━━━━━━━━━━━━\u001b[0m \u001b[32m24.6/24.6 MB\u001b[0m \u001b[31m77.2 MB/s\u001b[0m eta \u001b[36m0:00:00\u001b[0m\n",
            "\u001b[2K   \u001b[90m━━━━━━━━━━━━━━━━━━━━━━━━━━━━━━━━━━━━━━━━\u001b[0m \u001b[32m883.7/883.7 kB\u001b[0m \u001b[31m50.7 MB/s\u001b[0m eta \u001b[36m0:00:00\u001b[0m\n",
            "\u001b[2K   \u001b[90m━━━━━━━━━━━━━━━━━━━━━━━━━━━━━━━━━━━━━━━━\u001b[0m \u001b[32m664.8/664.8 MB\u001b[0m \u001b[31m2.1 MB/s\u001b[0m eta \u001b[36m0:00:00\u001b[0m\n",
            "\u001b[2K   \u001b[90m━━━━━━━━━━━━━━━━━━━━━━━━━━━━━━━━━━━━━━━━\u001b[0m \u001b[32m211.5/211.5 MB\u001b[0m \u001b[31m5.4 MB/s\u001b[0m eta \u001b[36m0:00:00\u001b[0m\n",
            "\u001b[2K   \u001b[90m━━━━━━━━━━━━━━━━━━━━━━━━━━━━━━━━━━━━━━━━\u001b[0m \u001b[32m56.3/56.3 MB\u001b[0m \u001b[31m14.1 MB/s\u001b[0m eta \u001b[36m0:00:00\u001b[0m\n",
            "\u001b[2K   \u001b[90m━━━━━━━━━━━━━━━━━━━━━━━━━━━━━━━━━━━━━━━━\u001b[0m \u001b[32m127.9/127.9 MB\u001b[0m \u001b[31m7.5 MB/s\u001b[0m eta \u001b[36m0:00:00\u001b[0m\n",
            "\u001b[2K   \u001b[90m━━━━━━━━━━━━━━━━━━━━━━━━━━━━━━━━━━━━━━━━\u001b[0m \u001b[32m207.5/207.5 MB\u001b[0m \u001b[31m6.0 MB/s\u001b[0m eta \u001b[36m0:00:00\u001b[0m\n",
            "\u001b[2K   \u001b[90m━━━━━━━━━━━━━━━━━━━━━━━━━━━━━━━━━━━━━━━━\u001b[0m \u001b[32m21.1/21.1 MB\u001b[0m \u001b[31m85.6 MB/s\u001b[0m eta \u001b[36m0:00:00\u001b[0m\n",
            "\u001b[2K   \u001b[90m━━━━━━━━━━━━━━━━━━━━━━━━━━━━━━━━━━━━━━━━\u001b[0m \u001b[32m50.9/50.9 kB\u001b[0m \u001b[31m3.2 MB/s\u001b[0m eta \u001b[36m0:00:00\u001b[0m\n",
            "\u001b[?25h\u001b[31mERROR: pip's dependency resolver does not currently take into account all the packages that are installed. This behaviour is the source of the following dependency conflicts.\n",
            "cudf-cu12 25.6.0 requires pandas<2.2.4dev0,>=2.0, but you have pandas 2.3.1 which is incompatible.\u001b[0m\u001b[31m\n",
            "\u001b[0mRequirement already satisfied: numpy in /usr/local/lib/python3.11/dist-packages (1.26.4)\n",
            "Collecting numpy\n",
            "  Downloading numpy-2.3.2-cp311-cp311-manylinux_2_27_x86_64.manylinux_2_28_x86_64.whl.metadata (62 kB)\n",
            "\u001b[2K     \u001b[90m━━━━━━━━━━━━━━━━━━━━━━━━━━━━━━━━━━━━━━━━\u001b[0m \u001b[32m62.1/62.1 kB\u001b[0m \u001b[31m2.9 MB/s\u001b[0m eta \u001b[36m0:00:00\u001b[0m\n",
            "\u001b[?25hRequirement already satisfied: scipy in /usr/local/lib/python3.11/dist-packages (1.16.0)\n",
            "Collecting scipy\n",
            "  Downloading scipy-1.16.1-cp311-cp311-manylinux2014_x86_64.manylinux_2_17_x86_64.whl.metadata (61 kB)\n",
            "\u001b[2K     \u001b[90m━━━━━━━━━━━━━━━━━━━━━━━━━━━━━━━━━━━━━━━━\u001b[0m \u001b[32m62.0/62.0 kB\u001b[0m \u001b[31m3.9 MB/s\u001b[0m eta \u001b[36m0:00:00\u001b[0m\n",
            "\u001b[?25hRequirement already satisfied: pandas in /usr/local/lib/python3.11/dist-packages (2.3.1)\n",
            "Requirement already satisfied: scikit-learn in /usr/local/lib/python3.11/dist-packages (1.6.1)\n",
            "Collecting scikit-learn\n",
            "  Downloading scikit_learn-1.7.1-cp311-cp311-manylinux2014_x86_64.manylinux_2_17_x86_64.whl.metadata (11 kB)\n",
            "Requirement already satisfied: python-dateutil>=2.8.2 in /usr/local/lib/python3.11/dist-packages (from pandas) (2.9.0.post0)\n",
            "Requirement already satisfied: pytz>=2020.1 in /usr/local/lib/python3.11/dist-packages (from pandas) (2025.2)\n",
            "Requirement already satisfied: tzdata>=2022.7 in /usr/local/lib/python3.11/dist-packages (from pandas) (2025.2)\n",
            "Requirement already satisfied: joblib>=1.2.0 in /usr/local/lib/python3.11/dist-packages (from scikit-learn) (1.5.1)\n",
            "Requirement already satisfied: threadpoolctl>=3.1.0 in /usr/local/lib/python3.11/dist-packages (from scikit-learn) (3.6.0)\n",
            "Requirement already satisfied: six>=1.5 in /usr/local/lib/python3.11/dist-packages (from python-dateutil>=2.8.2->pandas) (1.17.0)\n",
            "Downloading numpy-2.3.2-cp311-cp311-manylinux_2_27_x86_64.manylinux_2_28_x86_64.whl (16.9 MB)\n",
            "\u001b[2K   \u001b[90m━━━━━━━━━━━━━━━━━━━━━━━━━━━━━━━━━━━━━━━━\u001b[0m \u001b[32m16.9/16.9 MB\u001b[0m \u001b[31m67.8 MB/s\u001b[0m eta \u001b[36m0:00:00\u001b[0m\n",
            "\u001b[?25hDownloading scipy-1.16.1-cp311-cp311-manylinux2014_x86_64.manylinux_2_17_x86_64.whl (35.4 MB)\n",
            "\u001b[2K   \u001b[90m━━━━━━━━━━━━━━━━━━━━━━━━━━━━━━━━━━━━━━━━\u001b[0m \u001b[32m35.4/35.4 MB\u001b[0m \u001b[31m15.9 MB/s\u001b[0m eta \u001b[36m0:00:00\u001b[0m\n",
            "\u001b[?25hDownloading scikit_learn-1.7.1-cp311-cp311-manylinux2014_x86_64.manylinux_2_17_x86_64.whl (9.7 MB)\n",
            "\u001b[2K   \u001b[90m━━━━━━━━━━━━━━━━━━━━━━━━━━━━━━━━━━━━━━━━\u001b[0m \u001b[32m9.7/9.7 MB\u001b[0m \u001b[31m83.5 MB/s\u001b[0m eta \u001b[36m0:00:00\u001b[0m\n",
            "\u001b[?25hInstalling collected packages: numpy, scipy, scikit-learn\n",
            "  Attempting uninstall: numpy\n",
            "    Found existing installation: numpy 1.26.4\n",
            "    Uninstalling numpy-1.26.4:\n",
            "      Successfully uninstalled numpy-1.26.4\n",
            "  Attempting uninstall: scipy\n",
            "    Found existing installation: scipy 1.16.0\n",
            "    Uninstalling scipy-1.16.0:\n",
            "      Successfully uninstalled scipy-1.16.0\n",
            "  Attempting uninstall: scikit-learn\n",
            "    Found existing installation: scikit-learn 1.6.1\n",
            "    Uninstalling scikit-learn-1.6.1:\n",
            "      Successfully uninstalled scikit-learn-1.6.1\n",
            "\u001b[31mERROR: pip's dependency resolver does not currently take into account all the packages that are installed. This behaviour is the source of the following dependency conflicts.\n",
            "google-colab 1.0.0 requires google-auth==2.38.0, but you have google-auth 2.40.3 which is incompatible.\n",
            "google-colab 1.0.0 requires pandas==2.2.2, but you have pandas 2.3.1 which is incompatible.\n",
            "google-colab 1.0.0 requires requests==2.32.3, but you have requests 2.32.4 which is incompatible.\n",
            "opencv-python 4.12.0.88 requires numpy<2.3.0,>=2; python_version >= \"3.9\", but you have numpy 2.3.2 which is incompatible.\n",
            "cupy-cuda12x 13.3.0 requires numpy<2.3,>=1.22, but you have numpy 2.3.2 which is incompatible.\n",
            "opencv-python-headless 4.12.0.88 requires numpy<2.3.0,>=2; python_version >= \"3.9\", but you have numpy 2.3.2 which is incompatible.\n",
            "opencv-contrib-python 4.12.0.88 requires numpy<2.3.0,>=2; python_version >= \"3.9\", but you have numpy 2.3.2 which is incompatible.\n",
            "sklearn-compat 0.1.3 requires scikit-learn<1.7,>=1.2, but you have scikit-learn 1.7.1 which is incompatible.\n",
            "dask-cudf-cu12 25.6.0 requires pandas<2.2.4dev0,>=2.0, but you have pandas 2.3.1 which is incompatible.\n",
            "tensorflow 2.18.0 requires numpy<2.1.0,>=1.26.0, but you have numpy 2.3.2 which is incompatible.\n",
            "numba 0.60.0 requires numpy<2.1,>=1.22, but you have numpy 2.3.2 which is incompatible.\n",
            "cudf-cu12 25.6.0 requires pandas<2.2.4dev0,>=2.0, but you have pandas 2.3.1 which is incompatible.\u001b[0m\u001b[31m\n",
            "\u001b[0mSuccessfully installed numpy-2.3.2 scikit-learn-1.7.1 scipy-1.16.1\n"
          ]
        },
        {
          "output_type": "display_data",
          "data": {
            "application/vnd.colab-display-data+json": {
              "pip_warning": {
                "packages": [
                  "numpy"
                ]
              },
              "id": "b4b27374bb114543bf7c4a52c3b0c93c"
            }
          },
          "metadata": {}
        }
      ]
    },
    {
      "cell_type": "code",
      "source": [
        "\n",
        "import os\n",
        "from dotenv import load_dotenv  # For loading API key from a .env file\n",
        "import google.generativeai as genai\n",
        "from google.colab import userdata\n",
        "import pandas as pd\n",
        "import random\n",
        "from datetime import datetime, timedelta\n",
        "import randomname  # Make sure to install this: pip install random-name\n",
        "from sqlalchemy import create_engine\n",
        "from tqdm.auto import trange\n",
        "load_dotenv()\n",
        "\n",
        "model_name = 'gemini-2.5-flash' #@param\n",
        "\n",
        "api_key = os.getenv(\"GOOGLE_API_KEY\") or userdata.get('GOOGLE_API_KEY')\n",
        "\n",
        "genai.configure(api_key=api_key)\n",
        "\n",
        "model = genai.GenerativeModel(model_name)\n",
        "\n",
        "DB_NAME = 'movies.db' #@param\n",
        "\n",
        "engine = create_engine(f'sqlite:///{DB_NAME}')\n",
        "\n",
        "# api_key\n"
      ],
      "metadata": {
        "id": "uDELH26UtRdw",
        "cellView": "form"
      },
      "execution_count": null,
      "outputs": []
    },
    {
      "cell_type": "code",
      "source": [
        "#@title Data Synthesis\n",
        "\n",
        "# --- Configuration ---\n",
        "\n",
        "NUM_DIRECTORS = 36 #@param{type:\"slider\", max:100, min:1, step:5}\n",
        "NUM_ACTORS = 50 #@param{type:\"slider\", max:100, min:1, step:5}\n",
        "NUM_STUDIOS = 20 #@param{type:\"slider\", max:100, min:1, step:5}\n",
        "NUM_MOVIES = 100 #@param{type:\"slider\", max:1000, min:1, step:5}\n",
        "\n",
        "# Total cast entries, not unique actor-movie pairs\n",
        "NUM_CAST_MEMBERS = 716  #@param{type:\"slider\", max:1000, min:1, step:5}\n",
        "\n",
        "# Total genre assignments\n",
        "NUM_MOVIE_GENRES = 20  #@param{type:\"slider\", max:100, min:1, step:5}\n",
        "NUM_REVIEWS = 7651 #@param{type:\"slider\", max:10000, min:1, step:5}\n",
        "\n",
        "# Lists for random selection\n",
        "NATIONALITIES = [\"American\", \"British\", \"French\", \"Japanese\",\n",
        "                 \"Indian\", \"Canadian\", \"German\", \"Korean\", \"Australian\", \"Spanish\"]\n",
        "GENRE_NAMES = [\"Action\", \"Comedy\", \"Drama\", \"Sci-Fi\", \"Horror\", \"Thriller\",\n",
        "               \"Animation\", \"Documentary\", \"Romance\", \"Fantasy\", \"Mystery\", \"Crime\", \"Adventure\"]\n",
        "ROLE_NAMES = [\"Protagonist\", \"Sidekick\", \"Antagonist\", \"Supporting Role\",\n",
        "              \"Cameo\", \"Hero\", \"Villain\", \"Love Interest\", \"Mentor\"]\n",
        "ADJECTIVES = randomname.ADJECTIVES\n",
        "\n",
        "NOUNS = randomname.NOUNS\n",
        "\n",
        "REVIEW_SNIPPETS = [\n",
        "    \"A must-watch! Captivating story and brilliant performances.\",\n",
        "    \"Decent movie, but a bit slow in the middle.\",\n",
        "    \"Absolutely terrible, wasted my time.\",\n",
        "    \"Visually stunning, highly recommend!\",\n",
        "    \"The plot twists kept me on the edge of my seat.\",\n",
        "    \"An instant classic, I'll watch it again.\",\n",
        "    \"Overrated and predictable.\",\n",
        "    \"Great acting, weak script.\",\n",
        "    \"Surprisingly good, exceeded my expectations.\",\n",
        "    \"A true cinematic masterpiece.\"\n",
        "]\n",
        "\n",
        "\n",
        "# --- Helper Functions for Random Data Generation ---\n",
        "\n",
        "\n",
        "def random_date(start_year, end_year):\n",
        "    \"\"\"Generates a random date string within a given year range.\"\"\"\n",
        "    start_date = datetime(start_year, 1, 1)\n",
        "    end_date = datetime(end_year, 12, 31)\n",
        "    time_between_dates = end_date - start_date\n",
        "    days_between_dates = time_between_dates.days\n",
        "    random_number_of_days = random.randrange(days_between_dates)\n",
        "    return (start_date + timedelta(days=random_number_of_days)).strftime('%Y-%m-%d')\n",
        "\n",
        "\n",
        "def generate_random_title():\n",
        "    \"\"\"Generates a random movie title.\"\"\"\n",
        "    return f\"{random.choice(ADJECTIVES)} {random.choice(NOUNS)} of the {random.choice(ADJECTIVES)} {random.choice(NOUNS)}\".title().replace('_', ' ')\n",
        "\n",
        "\n",
        "def generate_directors_data(num_directors):\n",
        "    data = []\n",
        "    for i in range(1, num_directors + 1):\n",
        "        data.append({\n",
        "            'director_id': i,\n",
        "            'director_name': randomname.get_name(),\n",
        "            'birth_date': random_date(1940, 2000),\n",
        "            'nationality': random.choice(NATIONALITIES)\n",
        "        })\n",
        "    return pd.DataFrame(data)\n",
        "\n",
        "\n",
        "def generate_actors_data(num_actors):\n",
        "    data = []\n",
        "    for i in range(1, num_actors + 1):\n",
        "        data.append({\n",
        "            'actor_id': i,\n",
        "            'actor_name': randomname.get_name(),\n",
        "            'birth_date': random_date(1950, 2005),\n",
        "            'nationality': random.choice(NATIONALITIES)\n",
        "        })\n",
        "    return pd.DataFrame(data)\n",
        "\n",
        "\n",
        "def generate_studios_data(num_studios):\n",
        "    data = []\n",
        "    for i in range(1, num_studios + 1):\n",
        "        data.append({\n",
        "            'studio_id': i,\n",
        "            'studio_name': f\"{random.choice(ADJECTIVES)} {random.choice(['Pictures', 'Studios', 'Films', 'Entertainment'])}\",\n",
        "            'founded_year': random.randint(1920, 2010),\n",
        "            # Using nationalities list for countries too\n",
        "            'country': random.choice(NATIONALITIES)\n",
        "        })\n",
        "    return pd.DataFrame(data)\n",
        "\n",
        "\n",
        "def generate_genres_data(genre_names):\n",
        "    data = [{'genre_id': i + 1, 'genre_name': name}\n",
        "            for i, name in enumerate(genre_names)]\n",
        "    return pd.DataFrame(data)\n",
        "\n",
        "\n",
        "def generate_movies_data(num_movies, director_ids, studio_ids):\n",
        "    data = []\n",
        "    for i in range(1, num_movies + 1):\n",
        "        budget = round(random.uniform(1_000_000, 200_000_000), 2)\n",
        "        # Box office is at least budget\n",
        "        box_office = round(budget * random.uniform(1.0, 10.0), 2)\n",
        "        data.append({\n",
        "            'movie_id': i,\n",
        "            'title': generate_random_title(),\n",
        "            'release_year': random.randint(1980, 2024),\n",
        "            'duration_minutes': random.randint(80, 180),\n",
        "            'synopsis': f\"A thrilling story about {random.choice(ADJECTIVES).lower()} {random.choice(NOUNS).lower()} and its {random.choice(ROLE_NAMES).lower()}s. {random.choice(REVIEW_SNIPPETS)}\",\n",
        "            'budget_usd': budget,\n",
        "            'box_office_gross_usd': box_office,\n",
        "            'director_id': random.choice(director_ids),\n",
        "            'studio_id': random.choice(studio_ids)\n",
        "        })\n",
        "    return pd.DataFrame(data)\n",
        "\n",
        "\n",
        "def generate_cast_members_data(num_cast_members, movie_ids, actor_ids):\n",
        "    data = []\n",
        "    # To ensure unique movie-actor pairs for cast_members\n",
        "    seen_pairs = set()\n",
        "    cast_id_counter = 1\n",
        "\n",
        "    while cast_id_counter <= num_cast_members:\n",
        "        movie_id = random.choice(movie_ids)\n",
        "        actor_id = random.choice(actor_ids)\n",
        "        if (movie_id, actor_id) not in seen_pairs:\n",
        "            seen_pairs.add((movie_id, actor_id))\n",
        "            data.append({\n",
        "                'cast_id': cast_id_counter,\n",
        "                'movie_id': movie_id,\n",
        "                'actor_id': actor_id,\n",
        "                'role_name': random.choice(ROLE_NAMES)\n",
        "            })\n",
        "            cast_id_counter += 1\n",
        "        # Prevent infinite loops if all combinations are exhausted\n",
        "        if len(seen_pairs) == len(movie_ids) * len(actor_ids) and len(movie_ids) * len(actor_ids) < num_cast_members:\n",
        "            print(\"Warning: Exhausted all unique movie-actor combinations before reaching desired cast_members count.\")\n",
        "            break\n",
        "    return pd.DataFrame(data)\n",
        "\n",
        "\n",
        "def generate_movie_genres_data(num_movie_genres, movie_ids, genre_ids):\n",
        "    data = []\n",
        "    # To ensure unique movie-genre pairs\n",
        "    seen_pairs = set()\n",
        "\n",
        "    while len(seen_pairs) < num_movie_genres:\n",
        "        movie_id = random.choice(movie_ids)\n",
        "        genre_id = random.choice(genre_ids)\n",
        "        if (movie_id, genre_id) not in seen_pairs:\n",
        "            seen_pairs.add((movie_id, genre_id))\n",
        "            data.append({\n",
        "                'movie_id': movie_id,\n",
        "                'genre_id': genre_id\n",
        "            })\n",
        "        # Prevent infinite loops if all combinations are exhausted\n",
        "        if len(seen_pairs) == len(movie_ids) * len(genre_ids) and len(movie_ids) * len(genre_ids) < num_movie_genres:\n",
        "            print(\"Warning: Exhausted all unique movie-genre combinations before reaching desired movie_genres count.\")\n",
        "            break\n",
        "    return pd.DataFrame(data)\n",
        "\n",
        "def generate_reviews_data(num_reviews, movie_ids):\n",
        "    data = []\n",
        "    for i in trange(1, num_reviews + 1):\n",
        "        data.append({\n",
        "            'review_id': i,\n",
        "            'movie_id': random.choice(movie_ids),\n",
        "            'reviewer_name': randomname.get_name(),\n",
        "            'rating': random.randint(1, 10),\n",
        "            'review_text': random.choice(REVIEW_SNIPPETS) + \" \" + random.choice(REVIEW_SNIPPETS),\n",
        "            'review_date': random_date(2000, 2024)\n",
        "        })\n",
        "    return pd.DataFrame(data)\n",
        "\n",
        "# --- Main Data Generation and Database Population ---\n",
        "\n",
        "\n",
        "def populate_movie_database(engine=engine):\n",
        "    \"\"\"Generates all data and populates the SQLite database.\"\"\"\n",
        "    print(f\"Creating database: {DB_NAME}\")\n",
        "\n",
        "    # Generate data for each table\n",
        "    print(\"Generating data...\")\n",
        "    df_directors = generate_directors_data(NUM_DIRECTORS)\n",
        "    df_actors = generate_actors_data(NUM_ACTORS)\n",
        "    df_studios = generate_studios_data(NUM_STUDIOS)\n",
        "    df_genres = generate_genres_data(GENRE_NAMES)\n",
        "\n",
        "    # Get IDs for foreign key references\n",
        "    director_ids = df_directors['director_id'].tolist()\n",
        "    actor_ids = df_actors['actor_id'].tolist()\n",
        "    studio_ids = df_studios['studio_id'].tolist()\n",
        "    genre_ids = df_genres['genre_id'].tolist()\n",
        "    df_movies = generate_movies_data(NUM_MOVIES, director_ids, studio_ids)\n",
        "\n",
        "    # Get movie IDs after generation\n",
        "    movie_ids = df_movies['movie_id'].tolist()\n",
        "\n",
        "    df_cast_members = generate_cast_members_data(\n",
        "        NUM_CAST_MEMBERS, movie_ids, actor_ids)\n",
        "    df_movie_genres = generate_movie_genres_data(\n",
        "        NUM_MOVIE_GENRES, movie_ids, genre_ids)\n",
        "    df_reviews = generate_reviews_data(NUM_REVIEWS, movie_ids)\n",
        "\n",
        "    # Populate tables using pandas to_sql\n",
        "    print(\"Populating tables...\")\n",
        "\n",
        "    df_directors.to_sql('directors', engine, if_exists='replace', index=False)\n",
        "    df_actors.to_sql('actors', engine, if_exists='replace', index=False)\n",
        "    df_studios.to_sql('studios', engine, if_exists='replace', index=False)\n",
        "    df_genres.to_sql('genres', engine, if_exists='replace', index=False)\n",
        "    df_movies.to_sql('movies', engine, if_exists='replace', index=False)\n",
        "    df_cast_members.to_sql('cast_members', engine,\n",
        "                           if_exists='replace', index=False)\n",
        "    df_movie_genres.to_sql('movie_genres', engine,\n",
        "                           if_exists='replace', index=False)\n",
        "    df_reviews.to_sql('reviews', engine, if_exists='replace', index=False)\n",
        "\n",
        "    print(\n",
        "        f\"Database '{DB_NAME}' populated successfully with randomized movie data!\")\n",
        "    print(\"\\n--- Data Summary ---\")\n",
        "    print(f\"Directors: {len(df_directors)} records\")\n",
        "    print(f\"Actors: {len(df_actors)} records\")\n",
        "    print(f\"Studios: {len(df_studios)} records\")\n",
        "    print(f\"Genres: {len(df_genres)} records\")\n",
        "    print(f\"Movies: {len(df_movies)} records\")\n",
        "    print(f\"Cast Members: {len(df_cast_members)} records\")\n",
        "    print(f\"Movie Genres: {len(df_movie_genres)} records\")\n",
        "    print(f\"Reviews: {len(df_reviews)} records\")\n",
        "\n",
        "\n",
        "populate_movie_database(engine=engine)"
      ],
      "metadata": {
        "cellView": "form",
        "id": "7hCYZxzLtXRK",
        "colab": {
          "base_uri": "https://localhost:8080/",
          "height": 302,
          "referenced_widgets": [
            "837deb487aa74b4bbab937b59a41968f",
            "507d85a48ec64053bec1c4e190862915",
            "3829c85c58e4453e9113d19292ca1f60",
            "bd94b7bd134544bda6f16f1cbf964bf3",
            "55b6e72152ad4c44a582c98b2d954f18",
            "ab66a528c9e0455d940446aff66a496d",
            "82e0d1eca57146bf907f7bce1c32945c",
            "88b3cd1f5a0947cfb60e5324f29a1f97",
            "89aeb5f196bc43088ef40dd7336d06e0",
            "96263d0a664f472481cf404b16871301",
            "86195ff8b3a043c4b3e51de9fe627ffa"
          ]
        },
        "outputId": "a8d43563-c804-4c0c-cd4a-a156d4e81813"
      },
      "execution_count": null,
      "outputs": [
        {
          "output_type": "stream",
          "name": "stdout",
          "text": [
            "Creating database: movies.db\n",
            "Generating data...\n"
          ]
        },
        {
          "output_type": "display_data",
          "data": {
            "text/plain": [
              "  0%|          | 0/7651 [00:00<?, ?it/s]"
            ],
            "application/vnd.jupyter.widget-view+json": {
              "version_major": 2,
              "version_minor": 0,
              "model_id": "837deb487aa74b4bbab937b59a41968f"
            }
          },
          "metadata": {}
        },
        {
          "output_type": "stream",
          "name": "stdout",
          "text": [
            "Populating tables...\n",
            "Database 'movies.db' populated successfully with randomized movie data!\n",
            "\n",
            "--- Data Summary ---\n",
            "Directors: 36 records\n",
            "Actors: 50 records\n",
            "Studios: 20 records\n",
            "Genres: 13 records\n",
            "Movies: 100 records\n",
            "Cast Members: 716 records\n",
            "Movie Genres: 20 records\n",
            "Reviews: 7651 records\n"
          ]
        }
      ]
    },
    {
      "cell_type": "markdown",
      "source": [
        "# Session 1"
      ],
      "metadata": {
        "id": "f-V6OBlHtBt-"
      }
    },
    {
      "cell_type": "markdown",
      "source": [
        "## Module 1: Foundational Concepts & Your First Query\n",
        "\n"
      ],
      "metadata": {
        "id": "IPFMuY5esKgs"
      }
    },
    {
      "cell_type": "markdown",
      "source": [
        "### The Big Idea: The Data Divide & The Cinephile Translator\n",
        "Welcome to the course! Our journey begins by understanding the central problem: the data divide. While our database holds all the intricate details about movies, an LLM alone can't access it. It's a classic case of having the knowledge but no way to read the book. We'll introduce the LLM as our Cinephile Translator—a powerful tool that can convert your natural language questions, like \"What's the release year of 'Inception'?\", into precise SQL queries that our SQLite database can understand.\n",
        "\n"
      ],
      "metadata": {
        "id": "LgtHEzcLttvW"
      }
    },
    {
      "cell_type": "markdown",
      "source": [
        "### Setting Up Our Movie Archive\n",
        "To get started, we need to set up our movie data archive. This section focuses on the practical steps of connecting to our SQLite database using Python's sqlite3 library. We'll confirm the database is open, understand the basic structure of our core tables (movies, actors, and directors), and confirm our data is ready to be queried. This foundational setup ensures we have a stable environment before we ask our first question.\n",
        "\n"
      ],
      "metadata": {
        "id": "tSAY3EdoturS"
      }
    },
    {
      "cell_type": "markdown",
      "source": [
        "### Detailed Movies Database Structure\n",
        "\n",
        "This database schema is designed to represent various aspects of movies, their cast, crew, genres, studios, and user reviews. Each table serves a specific purpose, and relationships are established using primary and foreign keys.\n"
      ],
      "metadata": {
        "id": "QkWXnfPsuAVb"
      }
    },
    {
      "cell_type": "markdown",
      "source": [
        "\n",
        "#### 1\\. `movies` Table\n",
        "\n",
        "  * **Description:** Stores core information about each movie.\n",
        "  * **Columns:**\n",
        "      * `movie_id` (INTEGER, Primary Key): Unique identifier for the movie.\n",
        "      * `title` (TEXT, NOT NULL): The title of the movie.\n",
        "      * `release_year` (INTEGER): The year the movie was released.\n",
        "      * `duration_minutes` (INTEGER): The length of the movie in minutes.\n",
        "      * `synopsis` (TEXT): A brief summary of the movie's plot.\n",
        "      * `budget_usd` (REAL): The production budget of the movie in USD.\n",
        "      * `box_office_gross_usd` (REAL): The worldwide box office revenue in USD.\n",
        "      * `director_id` (INTEGER, Foreign Key to `directors.director_id`): The director of the movie.\n",
        "      * `studio_id` (INTEGER, Foreign Key to `studios.studio_id`): The studio that produced the movie.\n",
        "\n",
        "#### 2\\. `actors` Table\n",
        "\n",
        "  * **Description:** Stores information about individual actors.\n",
        "  * **Columns:**\n",
        "      * `actor_id` (INTEGER, Primary Key): Unique identifier for the actor.\n",
        "      * `actor_name` (TEXT, NOT NULL): The full name of the actor.\n",
        "      * `birth_date` (TEXT): The actor's birth date (YYYY-MM-DD format).\n",
        "      * `nationality` (TEXT): The actor's nationality.\n",
        "\n",
        "#### 3\\. `directors` Table\n",
        "\n",
        "  * **Description:** Stores information about movie directors.\n",
        "  * **Columns:**\n",
        "      * `director_id` (INTEGER, Primary Key): Unique identifier for the director.\n",
        "      * `director_name` (TEXT, NOT NULL): The full name of the director.\n",
        "      * `birth_date` (TEXT): The director's birth date (YYYY-MM-DD format).\n",
        "      * `nationality` (TEXT): The director's nationality.\n",
        "\n",
        "#### 4\\. `studios` Table\n",
        "\n",
        "  * **Description:** Stores information about movie production studios.\n",
        "  * **Columns:**\n",
        "      * `studio_id` (INTEGER, Primary Key): Unique identifier for the studio.\n",
        "      * `studio_name` (TEXT, NOT NULL): The name of the studio.\n",
        "      * `founded_year` (INTEGER): The year the studio was founded.\n",
        "      * `country` (TEXT): The country where the studio is primarily based.\n",
        "\n",
        "#### 5\\. `genres` Table\n",
        "\n",
        "  * **Description:** Stores a list of movie genres.\n",
        "  * **Columns:**\n",
        "      * `genre_id` (INTEGER, Primary Key): Unique identifier for the genre.\n",
        "      * `genre_name` (TEXT, NOT NULL, UNIQUE): The name of the genre (e.g., \"Action\", \"Drama\", \"Sci-Fi\").\n",
        "\n",
        "#### 6\\. `cast_members` Table (Junction Table)\n",
        "\n",
        "  * **Description:** Links movies to actors, specifying the role an actor played in a particular movie. This handles the many-to-many relationship between `movies` and `actors`.\n",
        "  * **Columns:**\n",
        "      * `cast_id` (INTEGER, Primary Key): Unique identifier for a cast entry.\n",
        "      * `movie_id` (INTEGER, Foreign Key to `movies.movie_id`): The movie ID.\n",
        "      * `actor_id` (INTEGER, Foreign Key to `actors.actor_id`): The actor ID.\n",
        "      * `role_name` (TEXT): The name of the character played by the actor in that movie.\n",
        "\n",
        "#### 7\\. `movie_genres` Table (Junction Table)\n",
        "\n",
        "  * **Description:** Links movies to genres, allowing a movie to have multiple genres. This handles the many-to-many relationship between `movies` and `genres`.\n",
        "  * **Columns:**\n",
        "      * `movie_id` (INTEGER, Foreign Key to `movies.movie_id`): The movie ID.\n",
        "      * `genre_id` (INTEGER, Foreign Key to `genres.genre_id`): The genre ID.\n",
        "      * (Composite Primary Key: `movie_id`, `genre_id` to ensure unique genre assignments per movie).\n",
        "\n",
        "#### 8\\. `reviews` Table\n",
        "\n",
        "  * **Description:** Stores user reviews and ratings for movies.\n",
        "  * **Columns:**\n",
        "      * `review_id` (INTEGER, Primary Key): Unique identifier for the review.\n",
        "      * `movie_id` (INTEGER, Foreign Key to `movies.movie_id`): The movie being reviewed.\n",
        "      * `reviewer_name` (TEXT): The name or alias of the reviewer.\n",
        "      * `rating` (INTEGER): The numerical rating given (e.g., 1-10).\n",
        "      * `review_text` (TEXT): The full text of the review.\n",
        "      * `review_date` (TEXT): The date the review was posted (YYYY-MM-DD format).\n",
        "\n"
      ],
      "metadata": {
        "id": "QTyYpDa-uGW-"
      }
    },
    {
      "cell_type": "markdown",
      "source": [
        "### ASCII-Based Database Connection Graph\n"
      ],
      "metadata": {
        "id": "TGC-xg7gwY8S"
      }
    },
    {
      "cell_type": "markdown",
      "source": [
        "\n",
        "\n",
        "This graph visually represents the tables and their relationships within the movie database schema. Primary Keys (PK) and Foreign Keys (FK) indicate how tables are linked.\n",
        "\n",
        "```plaintext\n",
        "+----------------+       +------------+                 +------------+      +------------+\n",
        "|  directors.    |       |   actors   |                 |  studios   |      |   genres   |\n",
        "+----------------+       +------------+                 +------------+      +------------+\n",
        "| director_id PK |       | actor_id   | PK  <----+      | studio_id  | PK   | genre_id PK|\n",
        "| director_name  |       | actor_name |          |      | studio_name|      | genre_name |\n",
        "| birth_date     |       | birth_date |          |      | founded_yr |      +------------+\n",
        "| nationality    |       | nationality|          |      | country    |          ^\n",
        "+----------------+       +------------+          |      +------------+          |\n",
        "      ^                     ^                    |       ^                      |\n",
        "      |                     |                    |       |                      |\n",
        "      |                     |                    |       |                      |\n",
        "      |                     |                    |       |                      |\n",
        "      | director_id FK.     | actor_id FK        |       | studio_id FK         | genre_id FK\n",
        "      |                     |                    |       |                      |\n",
        "+-------------------------------------------------------------------------+\n",
        "|                                    movies                               |\n",
        "+-------------------------------------------------------------------------+\n",
        "| movie_id PK                                                             |\n",
        "| title                                                                   |\n",
        "| release_year                                                            |\n",
        "| duration_minutes                                                        |\n",
        "| synopsis                                                                |\n",
        "| budget_usd                                                              |\n",
        "| box_office_gross_usd                                                    |\n",
        "| director_id FK -------------------------------------------------------->|\n",
        "| studio_id FK ---------------------------------------------------------->|\n",
        "+-------------------------------------------------------------------------+\n",
        "      ^           ^                   ^\n",
        "      |           |                   | movie_id FK\n",
        "      |           |                   |\n",
        "      |           |                   |\n",
        "+-------------------+           +-------------------+           +-------------------+\n",
        "|   cast_members    |           |    movie_genres   |           |      reviews      |\n",
        "+-------------------+           +-------------------+           +-------------------+\n",
        "| cast_id PK        |           | movie_id FK       |<--------+ | review_id PK      |\n",
        "| movie_id FK       |<----------+ genre_id FK       |<--------+ | movie_id FK       |<--+\n",
        "| actor_id FK       |           +-------------------+           | reviewer_name     |   |\n",
        "| role_name         |                                           | rating            |   |\n",
        "+-------------------+                                           | review_text       |   |\n",
        "                                                                | review_date       |   |\n",
        "                                                                +-------------------+   |\n",
        "                                                                                        |\n",
        "                                                                                        |\n",
        "```"
      ],
      "metadata": {
        "id": "k2xV0W82uKWc"
      }
    },
    {
      "cell_type": "code",
      "source": [
        "import pandas as pd\n",
        "import random\n",
        "from datetime import datetime, timedelta\n",
        "import randomname  # Make sure to install this: pip install random-name\n",
        "from sqlalchemy import create_engine\n",
        "\n",
        "DB_NAME = 'movies.db'\n",
        "\n",
        "engine = create_engine(f'sqlite:///{DB_NAME}')"
      ],
      "metadata": {
        "id": "slbUIhuHtylx"
      },
      "execution_count": null,
      "outputs": []
    },
    {
      "cell_type": "markdown",
      "source": [
        "## SQL Crash Course"
      ],
      "metadata": {
        "id": "ZSvfV2yyJnbl"
      }
    },
    {
      "cell_type": "markdown",
      "source": [
        "### Before the LLM, You should know what is SQL\n",
        "\n",
        "Learning SQL with SQLite is a fantastic way to grasp database fundamentals without the headache of setting up a complex server. SQLite is a self-contained, serverless database engine, which means it's incredibly easy to get started with. You can think of it as a database in a single file on your computer. 🚀\n",
        "\n",
        "-----\n",
        "\n",
        "## Why SQLite is Perfect for Beginners\n",
        "\n",
        "  * **Zero Configuration:** There's no installation process or server to manage. You just download a single file and you're ready to go.\n",
        "  * **Portability:** Since your entire database (tables, data, and all) is stored in one file, you can easily copy, move, or email it.\n",
        "  * **Standard SQL:** SQLite uses a standard, widely understood version of the SQL language. The skills you learn with SQLite are directly transferable to more powerful database systems like PostgreSQL, MySQL, and SQL Server.\n",
        "\n",
        "-----\n",
        "\n",
        "## Getting Started\n",
        "\n",
        "1.  **Download SQLite:** Go to the official [SQLite download page](https://www.sqlite.org/download.html) and grab the precompiled binary for your operating system. It's just a single executable file.\n",
        "2.  **Open the Command Line:** Open your terminal or command prompt, navigate to the folder where you saved the SQLite file.\n",
        "3.  **Create a Database:** To create and open a new database file, simply type:\n",
        "    ```\n",
        "    sqlite3 my_first_database.db\n",
        "    ```\n",
        "    This command starts the SQLite program and creates a file named `my_first_database.db`. You are now inside the SQLite shell, ready to enter SQL commands.\n",
        "\n",
        "-----\n",
        "\n",
        "## Core SQL Commands to Practice\n",
        "\n",
        "Let's learn the basic SQL commands by creating and managing a simple `students` table.\n",
        "\n",
        "### **CREATE TABLE**\n",
        "\n",
        "This command builds the structure, or \"schema,\" for your table. You define the columns and the type of data they will hold (e.g., `INTEGER`, `TEXT`, `REAL`).\n",
        "\n",
        "```sql\n",
        "CREATE TABLE students (\n",
        "    id INTEGER PRIMARY KEY,\n",
        "    first_name TEXT,\n",
        "    last_name TEXT,\n",
        "    age INTEGER\n",
        ");\n",
        "```\n",
        "\n",
        "Here, `id` is the **primary key**, which is a unique identifier for each row.\n",
        "\n",
        "### **INSERT INTO**\n",
        "\n",
        "Now that you have a table, you can add data (rows) into it using the `INSERT INTO` statement.\n",
        "\n",
        "```sql\n",
        "INSERT INTO students (first_name, last_name, age) VALUES ('Alex', 'Smith', 22);\n",
        "INSERT INTO students (first_name, last_name, age) VALUES ('Jane', 'Doe', 21);\n",
        "```\n",
        "\n",
        "### **SELECT**\n",
        "\n",
        "The `SELECT` command is used to retrieve data. It's the command you'll use most often.\n",
        "\n",
        "  * **To see all data:** The asterisk `*` is a wildcard for \"all columns.\"\n",
        "    ```sql\n",
        "    SELECT * FROM students;\n",
        "    ```\n",
        "  * **To filter data with `WHERE`:** Use the `WHERE` clause to specify conditions.\n",
        "    ```sql\n",
        "    SELECT first_name, age FROM students WHERE age > 21;\n",
        "    ```\n",
        "  * **To sort data with `ORDER BY`:**\n",
        "    ```sql\n",
        "    SELECT * FROM students ORDER BY last_name ASC; -- ASC for ascending, DESC for descending\n",
        "    ```\n",
        "\n",
        "### **UPDATE**\n",
        "\n",
        "To modify data that's already in a table, use `UPDATE`. It's crucial to use a `WHERE` clause, otherwise, you'll update all rows in the table\\!\n",
        "\n",
        "```sql\n",
        "UPDATE students\n",
        "SET age = 23\n",
        "WHERE first_name = 'Alex';\n",
        "```\n",
        "\n",
        "### **DELETE**\n",
        "\n",
        "This command removes rows from a table. Just like `UPDATE`, always use a `WHERE` clause to specify which row(s) to delete.\n",
        "\n",
        "```sql\n",
        "DELETE FROM students WHERE id = 2;\n",
        "```\n",
        "\n",
        "### **JOIN**\n",
        "\n",
        "Databases are powerful because they can relate different pieces of information. Let's create a `courses` table and link it to `students`.\n",
        "\n",
        "```sql\n",
        "CREATE TABLE courses (\n",
        "    course_id INTEGER PRIMARY KEY,\n",
        "    student_id INTEGER,\n",
        "    course_name TEXT,\n",
        "    FOREIGN KEY(student_id) REFERENCES students(id)\n",
        ");\n",
        "\n",
        "INSERT INTO courses (student_id, course_name) VALUES (1, 'Data Science');\n",
        "```\n",
        "\n",
        "Now, use a `JOIN` to retrieve the name of the student and the course they are enrolled in.\n",
        "\n",
        "```sql\n",
        "SELECT\n",
        "    s.first_name,\n",
        "    c.course_name\n",
        "FROM\n",
        "    students s\n",
        "JOIN\n",
        "    courses c ON s.id = c.student_id;\n",
        "```\n",
        "\n",
        "This query combines rows from `students` (aliased as `s`) and `courses` (aliased as `c`) where the student IDs match.\n",
        "\n",
        "-----\n",
        "\n",
        "## Next Steps\n",
        "\n",
        "Once you're comfortable with these basic commands, you can explore more advanced topics:\n",
        "\n",
        "  * **Aggregate Functions:** Learn functions like `COUNT()`, `SUM()`, `AVG()`, and `MAX()` to perform calculations on your data.\n",
        "  * **GROUP BY:** Use this clause with aggregate functions to group rows that have the same values into summary rows.\n",
        "  * **GUI Tools:** Try a graphical user interface like **DB Browser for SQLite**. It allows you to see your database structure, browse data, and test queries in a more visual environment, which can be very helpful for learning."
      ],
      "metadata": {
        "id": "G3m4Fa5RIgNa"
      }
    },
    {
      "cell_type": "markdown",
      "source": [
        "### Lets do this again in Python + SQLLite\n",
        "\n",
        "\n",
        "You can master SQL concepts by using the powerful Python libraries **pandas** and **SQLAlchemy**. This approach lets you write familiar Python code to manipulate data and see how it translates directly to SQL database operations. It's a fantastic way to bridge the gap between data analysis in Python and structured database querying. 🐍\n",
        "\n",
        "-----\n",
        "\n",
        "## Why Use pandas and SQLAlchemy?\n",
        "\n",
        "  * **pandas DataFrames:** A DataFrame is a two-dimensional table, much like a SQL table or a spreadsheet. Pandas provides intuitive, high-performance functions for filtering, transforming, and analyzing this data in memory.\n",
        "  * **SQLAlchemy Core:** It provides a universal way to connect to almost any SQL database (we'll use SQLite). It lets you execute raw SQL strings or build queries programmatically.\n",
        "  * **The Synergy:** You can create a DataFrame in pandas, push it to a SQL database with a single command, and then query it back into a DataFrame. This workflow makes it easy to understand how DataFrame operations correspond to SQL commands.\n",
        "\n",
        "-----\n",
        "\n",
        "## Getting Started\n",
        "\n",
        "First, you need to install the libraries. You can also install `ipython-sql` to run SQL commands magically in environments like Jupyter notebooks.\n",
        "\n",
        "```bash\n",
        "pip install pandas sqlalchemy\n",
        "```\n",
        "\n",
        "Next, let's create a database \"engine.\" We'll use an in-memory SQLite database, which is perfect for practice because it's temporary and requires no cleanup.\n",
        "\n",
        "```python\n",
        "import pandas as pd\n",
        "from sqlalchemy import create_engine\n",
        "\n",
        "# Create an in-memory SQLite database engine\n",
        "engine = create_engine('sqlite:///:memory:')\n",
        "```\n",
        "\n",
        "This `engine` object is your connection to the database.\n",
        "\n",
        "-----\n",
        "\n",
        "## Mapping SQL to pandas Operations\n",
        "\n",
        "Let's see how common SQL commands map to the pandas/SQLAlchemy workflow.\n",
        "\n",
        "### **CREATE TABLE & INSERT INTO**\n",
        "\n",
        "Instead of writing `CREATE` and `INSERT` manually, you can create a pandas DataFrame and use the `.to_sql()` method to do both at once.\n",
        "\n",
        "```python\n",
        "# Create a DataFrame\n",
        "students_df = pd.DataFrame({\n",
        "    'id': [1, 2],\n",
        "    'first_name': ['Alex', 'Jane'],\n",
        "    'last_name': ['Smith', 'Doe'],\n",
        "    'age': [22, 21]\n",
        "}).set_index('id') # Set a primary key\n",
        "\n",
        "# Create a SQL table and insert data from the DataFrame\n",
        "students_df.to_sql('students', con=engine, index_label='id')\n",
        "\n",
        "print(engine.execute(\"SELECT * FROM students\").fetchall())\n",
        "# Output: [(1, 'Alex', 'Smith', 22), (2, 'Jane', 'Doe', 21)]\n",
        "```\n",
        "\n",
        "The `.to_sql()` method automatically generates and executes the `CREATE TABLE` and `INSERT INTO` statements based on the DataFrame's structure and data.\n",
        "\n",
        "### **SELECT**\n",
        "\n",
        "The `pd.read_sql()` function is the equivalent of `SELECT`. It runs a query and loads the result directly into a new DataFrame.\n",
        "\n",
        "  * **To see all data (`SELECT *`):**\n",
        "\n",
        "    ```python\n",
        "    df_from_sql = pd.read_sql('students', con=engine, index_col='id')\n",
        "    print(df_from_sql)\n",
        "    ```\n",
        "\n",
        "  * **To filter data (`WHERE`) and sort (`ORDER BY`):** You can write a full SQL query.\n",
        "\n",
        "    ```python\n",
        "    query = \"SELECT first_name, age FROM students WHERE age > 21 ORDER BY first_name\"\n",
        "    filtered_df = pd.read_sql_query(query, con=engine)\n",
        "    print(filtered_df)\n",
        "    ```\n",
        "\n",
        "### **UPDATE**\n",
        "\n",
        "The \"pandas way\" to update is to modify the DataFrame first, then replace the entire SQL table with the updated DataFrame.\n",
        "\n",
        "```python\n",
        "# 1. Read the table into a DataFrame\n",
        "update_df = pd.read_sql('students', con=engine, index_col='id')\n",
        "\n",
        "# 2. Modify the DataFrame in pandas\n",
        "update_df.loc[update_df['first_name'] == 'Alex', 'age'] = 23\n",
        "\n",
        "# 3. Write the entire updated DataFrame back, replacing the old table\n",
        "update_df.to_sql('students', con=engine, if_exists='replace', index_label='id')\n",
        "\n",
        "print(engine.execute(\"SELECT * FROM students\").fetchall())\n",
        "# Output: [(1, 'Alex', 'Smith', 23), (2, 'Jane', 'Doe', 21)]\n",
        "```\n",
        "\n",
        "The `if_exists='replace'` argument drops the old table and creates a new one with the updated data.\n",
        "\n",
        "### **DELETE**\n",
        "\n",
        "Similarly, you can delete rows in pandas and then overwrite the database table.\n",
        "\n",
        "```python\n",
        "# 1. Read the table\n",
        "delete_df = pd.read_sql('students', con=engine, index_col='id')\n",
        "\n",
        "# 2. Drop the row in pandas (where id is 2)\n",
        "delete_df = delete_df.drop(2)\n",
        "\n",
        "# 3. Overwrite the table in the database\n",
        "delete_df.to_sql('students', con=engine, if_exists='replace', index_label='id')\n",
        "\n",
        "print(engine.execute(\"SELECT * FROM students\").fetchall())\n",
        "# Output: [(1, 'Alex', 'Smith', 23)]\n",
        "```\n",
        "\n",
        "### **JOIN**\n",
        "\n",
        "You can perform joins using pandas' `merge` function or by writing a `JOIN` query directly.\n",
        "\n",
        "```python\n",
        "# Create a second DataFrame and push it to SQL\n",
        "courses_df = pd.DataFrame({\n",
        "    'course_id': [101, 102],\n",
        "    'student_id': [1, 2],\n",
        "    'course_name': ['Data Science', 'Web Development']\n",
        "})\n",
        "courses_df.to_sql('courses', con=engine, index=False)\n",
        "\n",
        "# Now, perform the join with a SQL query\n",
        "join_query = \"\"\"\n",
        "SELECT\n",
        "    s.first_name,\n",
        "    c.course_name\n",
        "FROM\n",
        "    students s\n",
        "JOIN\n",
        "    courses c ON s.id = c.student_id;\n",
        "\"\"\"\n",
        "joined_df = pd.read_sql_query(join_query, con=engine)\n",
        "print(joined_df)\n",
        "```\n",
        "\n",
        "-----\n",
        "\n",
        "## The Power of this Approach\n",
        "\n",
        "Using pandas with SQLAlchemy provides a dynamic environment for learning SQL. You can seamlessly switch between high-level DataFrame manipulations and low-level SQL queries. Performing an operation in pandas and then figuring out the corresponding SQL query (or vice versa) is an incredibly effective way to solidify your understanding of both data manipulation paradigms."
      ],
      "metadata": {
        "id": "UkWkNu73JJlK"
      }
    },
    {
      "cell_type": "markdown",
      "source": [
        "## Exploring the data"
      ],
      "metadata": {
        "id": "MOxz46MHJiLE"
      }
    },
    {
      "cell_type": "code",
      "source": [
        "\n",
        "#@title Execute sample queries to confirm the database is populated and ready for use.\n",
        "\n",
        "# count movies\n",
        "movie_count = pd.read_sql_query(\"SELECT COUNT(*) AS count FROM movies\", engine)\n",
        "print(f\"Total movies in database: {movie_count['count'][0]}\")\n",
        "\n",
        "# count directors\n",
        "director_count = pd.read_sql_query(\n",
        "    \"SELECT COUNT(*) AS count FROM directors\", engine)\n",
        "print(f\"Total directors in database: {director_count['count'][0]}\")\n",
        "\n",
        "# count actors\n",
        "actor_count = pd.read_sql_query(\"SELECT COUNT(*) AS count FROM actors\", engine)\n",
        "print(f\"Total actors in database: {actor_count['count'][0]}\")\n",
        "\n",
        "# count studios\n",
        "studio_count = pd.read_sql_query(\n",
        "    \"SELECT COUNT(*) AS count FROM studios\", engine)\n",
        "print(f\"Total studios in database: {studio_count['count'][0]}\")\n",
        "\n",
        "# count genres\n",
        "genre_count = pd.read_sql_query(\"SELECT COUNT(*) AS count FROM genres\", engine)\n",
        "print(f\"Total genres in database: {genre_count['count'][0]}\")"
      ],
      "metadata": {
        "id": "kQ5AImsRuTMd",
        "colab": {
          "base_uri": "https://localhost:8080/"
        },
        "outputId": "76045d0f-a6e5-4911-9909-6bbc3a8b0ffb",
        "cellView": "form"
      },
      "execution_count": null,
      "outputs": [
        {
          "output_type": "stream",
          "name": "stdout",
          "text": [
            "Total movies in database: 100\n",
            "Total directors in database: 36\n",
            "Total actors in database: 50\n",
            "Total studios in database: 20\n",
            "Total genres in database: 13\n"
          ]
        }
      ]
    },
    {
      "cell_type": "code",
      "source": [
        "\n",
        "#@title Show Sample Movie Data\n",
        "\n",
        "sample_movies = pd.read_sql_query(\"SELECT * FROM movies LIMIT 5\", engine)\n",
        "print(\"\\nSample Movies Data:\")\n",
        "print(sample_movies.to_markdown(index=False))"
      ],
      "metadata": {
        "id": "zWhS6PX5uY3I",
        "cellView": "form",
        "colab": {
          "base_uri": "https://localhost:8080/"
        },
        "outputId": "f3ab91e8-25dd-4568-d408-f062d77460a6"
      },
      "execution_count": null,
      "outputs": [
        {
          "output_type": "stream",
          "name": "stdout",
          "text": [
            "\n",
            "Sample Movies Data:\n",
            "|   movie_id | title                                               |   release_year |   duration_minutes | synopsis                                                                                                    |   budget_usd |   box_office_gross_usd |   director_id |   studio_id |\n",
            "|-----------:|:----------------------------------------------------|---------------:|-------------------:|:------------------------------------------------------------------------------------------------------------|-------------:|-----------------------:|--------------:|------------:|\n",
            "|          1 | Colors Screenwriting Of The Emotions Linear Algebra |           2011 |                142 | A thrilling story about geometry meat and its cameos. The plot twists kept me on the edge of my seat.       |  1.79738e+08 |            1.40486e+09 |            14 |           2 |\n",
            "|          2 | Age Corporate Job Of The Speed Spirits              |           2003 |                157 | A thrilling story about quantity car_parts and its heros. Absolutely terrible, wasted my time.              |  1.10402e+08 |            8.70611e+08 |            30 |          19 |\n",
            "|          3 | Size Fortifications Of The Music Theory Astronomy   |           2016 |                147 | A thrilling story about emotions spirits and its heros. Great acting, weak script.                          |  1.70752e+08 |            8.38707e+08 |            19 |          13 |\n",
            "|          4 | Taste Linear Algebra Of The Complexity Sports       |           2003 |                152 | A thrilling story about weather corporate and its protagonists. Decent movie, but a bit slow in the middle. |  8.39161e+06 |            5.46053e+07 |            15 |           8 |\n",
            "|          5 | Algorithms Wood Of The Emotions Water               |           2019 |                145 | A thrilling story about sound ghosts and its love interests. Great acting, weak script.                     |  4.81275e+07 |            2.33291e+08 |             9 |           5 |\n"
          ]
        }
      ]
    },
    {
      "cell_type": "code",
      "source": [
        "\n",
        "#@title show sample directors data\n",
        "sample_movies = pd.read_sql_query(\"SELECT * FROM directors LIMIT 5\", engine)\n",
        "print(\"\\nSample Movies Data:\")\n",
        "print(sample_movies.to_markdown(index=False))"
      ],
      "metadata": {
        "id": "qMdJCQ89uepd",
        "cellView": "form",
        "colab": {
          "base_uri": "https://localhost:8080/"
        },
        "outputId": "1cdc48b0-2c0a-4501-a4af-48297050d624"
      },
      "execution_count": null,
      "outputs": [
        {
          "output_type": "stream",
          "name": "stdout",
          "text": [
            "\n",
            "Sample Movies Data:\n",
            "|   director_id | director_name    | birth_date   | nationality   |\n",
            "|--------------:|:-----------------|:-------------|:--------------|\n",
            "|             1 | generous-skylark | 1940-05-03   | Canadian      |\n",
            "|             2 | optical-yard     | 1957-08-06   | Australian    |\n",
            "|             3 | tall-plugin      | 1977-11-23   | Indian        |\n",
            "|             4 | plumb-origin     | 1973-02-27   | Canadian      |\n",
            "|             5 | candied-mountain | 1943-04-14   | Japanese      |\n"
          ]
        }
      ]
    },
    {
      "cell_type": "code",
      "source": [
        "\n",
        "#@title show sample directors data\n",
        "sample_movies = pd.read_sql_query(\"SELECT * FROM reviews LIMIT 5\", engine)\n",
        "print(\"\\nSample Reviews Data:\")\n",
        "print(sample_movies.to_markdown(index=False))"
      ],
      "metadata": {
        "id": "6aCpNNdduemE",
        "cellView": "form",
        "colab": {
          "base_uri": "https://localhost:8080/"
        },
        "outputId": "e116ef3c-1c7e-4a21-d96b-49438e80b3cd"
      },
      "execution_count": null,
      "outputs": [
        {
          "output_type": "stream",
          "name": "stdout",
          "text": [
            "\n",
            "Sample Reviews Data:\n",
            "|   review_id |   movie_id | reviewer_name      |   rating | review_text                                                                                                 | review_date   |\n",
            "|------------:|-----------:|:-------------------|---------:|:------------------------------------------------------------------------------------------------------------|:--------------|\n",
            "|           1 |         97 | investor-capital   |       10 | An instant classic, I'll watch it again. Visually stunning, highly recommend!                               | 2009-05-02    |\n",
            "|           2 |         17 | oriented-occlusion |        1 | A must-watch! Captivating story and brilliant performances. The plot twists kept me on the edge of my seat. | 2014-12-20    |\n",
            "|           3 |          4 | sizzling-citron    |        7 | Decent movie, but a bit slow in the middle. A must-watch! Captivating story and brilliant performances.     | 2007-04-18    |\n",
            "|           4 |         64 | leather-karate     |        1 | Overrated and predictable. Absolutely terrible, wasted my time.                                             | 2018-02-25    |\n",
            "|           5 |         36 | braised-pantone    |        6 | Great acting, weak script. Great acting, weak script.                                                       | 2005-03-24    |\n"
          ]
        }
      ]
    },
    {
      "cell_type": "code",
      "source": [
        "#@title Sample Reviews per Movie Data\n",
        "sample_movies = pd.read_sql_query(\"SELECT movie_id, count(1) as cnt FROM reviews group by movie_id order by 2 desc limit 20\", engine)\n",
        "print(\"\\n:\\n\")\n",
        "print(sample_movies.to_markdown(index=False))"
      ],
      "metadata": {
        "id": "fuNlEPinuej2",
        "cellView": "form",
        "colab": {
          "base_uri": "https://localhost:8080/"
        },
        "outputId": "f0926d8b-f3df-439c-cd0c-f2bdc767e4bf"
      },
      "execution_count": null,
      "outputs": [
        {
          "output_type": "stream",
          "name": "stdout",
          "text": [
            "\n",
            ":\n",
            "\n",
            "|   movie_id |   cnt |\n",
            "|-----------:|------:|\n",
            "|         10 |   107 |\n",
            "|         89 |    92 |\n",
            "|         45 |    92 |\n",
            "|         28 |    92 |\n",
            "|         46 |    91 |\n",
            "|          5 |    90 |\n",
            "|         62 |    89 |\n",
            "|         25 |    89 |\n",
            "|         74 |    87 |\n",
            "|         99 |    86 |\n",
            "|         95 |    86 |\n",
            "|         84 |    86 |\n",
            "|         79 |    86 |\n",
            "|         42 |    86 |\n",
            "|         30 |    86 |\n",
            "|         23 |    86 |\n",
            "|         98 |    85 |\n",
            "|         58 |    84 |\n",
            "|         49 |    84 |\n",
            "|         41 |    84 |\n"
          ]
        }
      ]
    },
    {
      "cell_type": "code",
      "source": [
        "#@title Sample Average Review per Movie Data\n",
        "sample_movies = pd.read_sql_query(\"SELECT movie_id, avg(rating) as rating FROM reviews group by movie_id order by 2 desc limit 20\", engine)\n",
        "print(sample_movies.round(2).to_markdown(index=False))"
      ],
      "metadata": {
        "id": "i7hIp2Y1ueh2",
        "cellView": "form",
        "colab": {
          "base_uri": "https://localhost:8080/"
        },
        "outputId": "dab19cf5-b4e7-40d9-959f-d784984f24c7"
      },
      "execution_count": null,
      "outputs": [
        {
          "output_type": "stream",
          "name": "stdout",
          "text": [
            "|   movie_id |   rating |\n",
            "|-----------:|---------:|\n",
            "|         48 |     6.24 |\n",
            "|         30 |     6.12 |\n",
            "|         75 |     6.06 |\n",
            "|         32 |     6.06 |\n",
            "|         18 |     6    |\n",
            "|          9 |     5.97 |\n",
            "|         78 |     5.92 |\n",
            "|         70 |     5.91 |\n",
            "|         27 |     5.88 |\n",
            "|         81 |     5.85 |\n",
            "|         44 |     5.84 |\n",
            "|          5 |     5.8  |\n",
            "|         87 |     5.76 |\n",
            "|         69 |     5.76 |\n",
            "|         72 |     5.74 |\n",
            "|         73 |     5.74 |\n",
            "|         52 |     5.74 |\n",
            "|         46 |     5.74 |\n",
            "|         49 |     5.71 |\n",
            "|         42 |     5.69 |\n"
          ]
        }
      ]
    },
    {
      "cell_type": "code",
      "source": [
        "#@title Sample Average Review per Movie Data:\n",
        "sample_movies = pd.read_sql_query(\n",
        "    \"\"\"\n",
        "SELECT\n",
        "  movies.movie_id,\n",
        "  movies.title,\n",
        "  avg(rating) as rating\n",
        "FROM reviews\n",
        "inner join movies\n",
        "on reviews.movie_id = movies.movie_id\n",
        "group by movies.movie_id\n",
        "order by 3 desc\n",
        "limit 20\n",
        "\"\"\", engine)\n",
        "print(sample_movies.to_markdown(index=False))"
      ],
      "metadata": {
        "id": "cVpmhdyjuefL",
        "cellView": "form",
        "colab": {
          "base_uri": "https://localhost:8080/"
        },
        "outputId": "37e77e74-c5ad-4107-c12d-d3552eed547c"
      },
      "execution_count": null,
      "outputs": [
        {
          "output_type": "stream",
          "name": "stdout",
          "text": [
            "|   movie_id | title                                                               |   rating |\n",
            "|-----------:|:--------------------------------------------------------------------|---------:|\n",
            "|         48 | Corporate Prefixes Radio Of The Algorithms Corporate Job            |  6.23611 |\n",
            "|         30 | Algorithms Driving Of The Linguistics Travel                        |  6.11628 |\n",
            "|         75 | Algorithms Geometry Of The Linguistics Birds                        |  6.06329 |\n",
            "|         32 | Age Infrastructure Of The Weather Military Airforce                 |  6.06329 |\n",
            "|         18 | Food Buildings Of The Materials Construction                        |  6       |\n",
            "|          9 | Emotions Storage Of The Construction Music Production               |  5.96923 |\n",
            "|         78 | Corporate Prefixes Buildings Of The Corporate Prefixes Architecture |  5.91566 |\n",
            "|         70 | Quantity Water Of The Colors Gaming                                 |  5.90625 |\n",
            "|         27 | Age Sports Of The Algorithms Car Parts                              |  5.87952 |\n",
            "|         81 | Appearance Apex Predators Of The Weather Fortifications             |  5.85294 |\n",
            "|         44 | Corporate Prefixes Construction Of The Shape Phones                 |  5.83544 |\n",
            "|          5 | Algorithms Wood Of The Emotions Water                               |  5.8     |\n",
            "|         87 | Materials Fish Of The Physics Geometry                              |  5.75949 |\n",
            "|         69 | Physics Corporate Job Of The Colors 3D Graphics                     |  5.75641 |\n",
            "|         72 | Algorithms Cats Of The Shape Automobiles                            |  5.74359 |\n",
            "|         73 | Geometry Military Airforce Of The Corporate Prefixes Meat           |  5.74074 |\n",
            "|         52 | Weather Cheese Of The Appearance Screenwriting                      |  5.73973 |\n",
            "|         46 | Temperature Music Production Of The Size Meat                       |  5.73626 |\n",
            "|         49 | Taste Spirits Of The Complexity Minerals                            |  5.71429 |\n",
            "|         42 | Shape Typography Of The Linguistics Automobiles                     |  5.68605 |\n"
          ]
        }
      ]
    },
    {
      "cell_type": "markdown",
      "source": [
        "### Your First End-to-End Query\n",
        "This is where we bring the core idea to life. We'll walk through a complete, end-to-end example of asking your first question. We'll introduce the basics of Prompt Engineering to guide the LLM, craft a simple request, see how the LLM generates the corresponding SQL, and then execute that query against our database. Finally, we'll synthesize the raw data into a clear, conversational answer for the user, demonstrating a complete Tabular RAG loop in a live demo.\n",
        "\n"
      ],
      "metadata": {
        "id": "69OffvvPtuls"
      }
    },
    {
      "cell_type": "code",
      "source": [
        "user_query =  'What was the budget of my studios movies in the year 2020?' #@param\n",
        "\n",
        "# '''What are the top 5 movies in the database? Provide their titles, release years, and directors. Include a brief synopsis for each movie.'''\n",
        "\n",
        "prompt = f\"\"\"\n",
        "You are an AI assistant that can answer questions about a movie database. The database contains information about movies, directors, actors, studios, genres, cast members, and reviews.\n",
        "Your task is to answer the user's query based on the provided database information.\n",
        "\n",
        "User Query: {user_query}\n",
        "\n",
        "Generate a SQL query to retrieve the requested information from the database.\n",
        "\"\"\"\n",
        "\n",
        "response = model.generate_content(prompt,).text\n",
        "\n",
        "print(response)"
      ],
      "metadata": {
        "id": "10KgMcpDty_p",
        "colab": {
          "base_uri": "https://localhost:8080/",
          "height": 182
        },
        "outputId": "1e8d849f-d195-4a86-c16a-98c57b9d8fe2"
      },
      "execution_count": null,
      "outputs": [
        {
          "output_type": "stream",
          "name": "stdout",
          "text": [
            "```sql\n",
            "SELECT\n",
            "  SUM(M.budget)\n",
            "FROM Movies AS M\n",
            "JOIN Studios AS S\n",
            "  ON M.studio_id = S.studio_id\n",
            "WHERE\n",
            "  S.studio_name = 'my studios' AND M.release_year = 2020;\n",
            "```\n"
          ]
        }
      ]
    },
    {
      "cell_type": "code",
      "source": [
        "#@title ## Can We Execute This?\n",
        "try:\n",
        "  sql = response.split('```sql')[1].split('```')[0]\n",
        "  print(pd.read_sql(sql, engine).to_markdown())\n",
        "except Exception as e:\n",
        "  print(e)\n",
        "  print(response)"
      ],
      "metadata": {
        "id": "UQ_O-kmavLIm",
        "colab": {
          "base_uri": "https://localhost:8080/"
        },
        "outputId": "a65776be-bf5a-4f6c-9c2a-f64091768599"
      },
      "execution_count": null,
      "outputs": [
        {
          "output_type": "stream",
          "name": "stdout",
          "text": [
            "(sqlite3.OperationalError) no such column: M.budget\n",
            "[SQL: \n",
            "SELECT\n",
            "  SUM(M.budget)\n",
            "FROM Movies AS M\n",
            "JOIN Studios AS S\n",
            "  ON M.studio_id = S.studio_id\n",
            "WHERE\n",
            "  S.studio_name = 'my studios' AND M.release_year = 2020;\n",
            "]\n",
            "(Background on this error at: https://sqlalche.me/e/20/e3q8)\n",
            "```sql\n",
            "SELECT\n",
            "  SUM(M.budget)\n",
            "FROM Movies AS M\n",
            "JOIN Studios AS S\n",
            "  ON M.studio_id = S.studio_id\n",
            "WHERE\n",
            "  S.studio_name = 'my studios' AND M.release_year = 2020;\n",
            "```\n"
          ]
        }
      ]
    },
    {
      "cell_type": "markdown",
      "source": [
        "## Module 2: Unlocking Complexity with Schema & Aggregates\n"
      ],
      "metadata": {
        "id": "GJC1IBZ3sKeM"
      }
    },
    {
      "cell_type": "markdown",
      "source": [
        "\n",
        "### The LLM's Script: The Importance of Database Schema\n",
        "As a \"cinephile translator,\" the LLM needs a script—the database schema—to truly understand our movie universe. We'll discuss why providing this schema context is crucial for generating accurate and sophisticated queries. We'll explore two primary methods for doing this: providing a static, inline schema and a more flexible, dynamic method that uses Python to discover the schema in real-time. This dynamic approach ensures our LLM always has the most up-to-date information, regardless of any changes to the database structure.\n",
        "\n"
      ],
      "metadata": {
        "id": "ovUV2vlkt1pk"
      }
    },
    {
      "cell_type": "code",
      "source": [
        "user_query = '''What's the release year of 'X'?'''\n",
        "\n",
        "prompt = f\"\"\"\n",
        "User Query: {user_query}\n",
        "\"\"\"\n",
        "\n",
        "response = model.generate_content(prompt,).text\n",
        "\n",
        "print(response)"
      ],
      "metadata": {
        "id": "f-LfsZuGwBAi",
        "colab": {
          "base_uri": "https://localhost:8080/",
          "height": 71
        },
        "outputId": "63859295-e262-429a-b480-2f2c3a8952fb"
      },
      "execution_count": null,
      "outputs": [
        {
          "output_type": "stream",
          "name": "stdout",
          "text": [
            "To tell you the release year, I need to know what 'X' refers to!\n",
            "\n",
            "Please tell me the name of the movie, song, book, game, product, or whatever 'X' is, and I'll be happy to find its release year for you.\n"
          ]
        }
      ]
    },
    {
      "cell_type": "markdown",
      "source": [
        "#### Prompt Engineering 101: Guiding the LLM's Movie Knowledge\n",
        "\n",
        "Prompt engineering is the art and science of crafting effective instructions for LLMs. To ensure our LLM generates accurate SQL for our movie database, we need to provide it with clear, concise guidance. This segment introduces the fundamental principles of prompt engineering, focusing on how to structure our requests to the LLM, provide necessary context, and specify the desired output format (SQL). It's about giving the LLM the right \"script\" to perform its translation task effectively for our movie data."
      ],
      "metadata": {
        "id": "DZch2OxOytya"
      }
    },
    {
      "cell_type": "code",
      "source": [
        "user_query = '''What's the release year of 'X'?'''\n",
        "\n",
        "prompt = f\"\"\"\n",
        "You are an AI assistant that can answer questions about a movie database.\n",
        "The database contains information about movies, directors, actors, studios, genres, cast members, and reviews.\n",
        "Your task is to answer the user's query based on the provided database information.\n",
        "\n",
        "User Query: {user_query}\n",
        "\n",
        "Generate a SQL query to retrieve the requested information from the database.\n",
        "\"\"\"\n",
        "\n",
        "response = model.generate_content(prompt,).text\n",
        "\n",
        "print(response)"
      ],
      "metadata": {
        "id": "IDiWOEuhwJmo",
        "colab": {
          "base_uri": "https://localhost:8080/",
          "height": 72
        },
        "outputId": "28f1a8cb-4a89-4829-fc02-5cf3c8f92617"
      },
      "execution_count": null,
      "outputs": [
        {
          "output_type": "stream",
          "name": "stdout",
          "text": [
            "```sql\n",
            "SELECT release_year FROM Movies WHERE title = 'X';\n",
            "```\n"
          ]
        }
      ]
    },
    {
      "cell_type": "markdown",
      "source": [
        "#### Crafting the Request: Our Initial Simple Movie Prompt\n",
        "Building on the principles of prompt engineering, this segment focuses on constructing our very first practical prompt. We'll design a simple, yet effective, instruction set for the LLM that includes our question (\"What's the release year of 'Inception'?\"). This initial prompt will be concise, aiming for a direct SQL output, and will serve as the foundation upon which we build more complex and sophisticated queries throughout the course. It's our first direct communication with the LLM to get movie data."
      ],
      "metadata": {
        "id": "7pAuGU8Yy3yp"
      }
    },
    {
      "cell_type": "code",
      "source": [
        "movie_name = pd.read_sql('select title from movies', engine).sample(1).title.values[0]\n",
        "\n",
        "print('Working with Movie Name: ', movie_name )"
      ],
      "metadata": {
        "id": "A6mWdiqzy6DZ",
        "colab": {
          "base_uri": "https://localhost:8080/"
        },
        "outputId": "6b8e50ac-ff2d-4adc-b215-dff41fca3221"
      },
      "execution_count": null,
      "outputs": [
        {
          "output_type": "stream",
          "name": "stdout",
          "text": [
            "Working with Movie Name:  Emotions Software Of The Materials Algorithms\n"
          ]
        }
      ]
    },
    {
      "cell_type": "code",
      "source": [
        "# Sample Queries\n",
        "prompt = \"\"\"\n",
        "You are an AI assistant that can answer questions about a movie database.\n",
        "The database contains information about movies, directors, actors, studios, genres, cast members, and reviews.\n",
        "Your task is to answer the user's query based on the provided database information.\n",
        "\n",
        "User Query: {user_query}\n",
        "\n",
        "Generate a SQL query to retrieve the requested information from the database.\n",
        "database: sqlite:///movies.db\n",
        "\"\"\"\n",
        "\n",
        "user_queries = [\n",
        "    f\"What's the release year of '{movie_name}'?\",\n",
        "    # f\"Who directed the movie '{movie_name}'?\",\n",
        "    # f\"List all actors in the movie '{movie_name}'.\",\n",
        "    # f\"What are the genres of the movie '{movie_name}'?\",\n",
        "]\n",
        "sql_queries = []\n",
        "for user_query in user_queries:\n",
        "    resp = model.generate_content(prompt.format(user_query=user_query)).text\n",
        "    sql = resp.strip().split('```sql')[1].split(\n",
        "        '```')[0].strip()  # Extract SQL query from response\n",
        "    sql_queries.append(sql)\n",
        "    print(user_query, ':', sql)\n",
        "    print('-' * 80)\n",
        "    print()"
      ],
      "metadata": {
        "id": "i_KM6LSTwJkL",
        "colab": {
          "base_uri": "https://localhost:8080/",
          "height": 71
        },
        "outputId": "e2bf432b-e5f2-46ef-ef09-6dd72d726d6e"
      },
      "execution_count": null,
      "outputs": [
        {
          "output_type": "stream",
          "name": "stdout",
          "text": [
            "What's the release year of 'Emotions Software Of The Materials Algorithms'? : SELECT release_year FROM movies WHERE title = 'Emotions Software Of The Materials Algorithms';\n",
            "--------------------------------------------------------------------------------\n",
            "\n"
          ]
        }
      ]
    },
    {
      "cell_type": "markdown",
      "source": [
        "#### Executing the Query: Running LLM-Generated Movie SQL\n",
        "Once our Large Language Model (LLM) has successfully translated your natural language question into a precise SQL query, the next critical step is to execute that query against our SQLite movie database. This segment focuses on the practical aspects of taking the LLM's generated SQL string and running it using Python's sqlite3 module. We'll ensure the query is syntactically correct and then retrieve the raw results directly from the database. This is where the theoretical understanding of SQL generation transforms into tangible data retrieval."
      ],
      "metadata": {
        "id": "kfT-iFlezNLd"
      }
    },
    {
      "cell_type": "code",
      "source": [
        "\n",
        "for sql in sql_queries:\n",
        "    try:\n",
        "        print(pd.read_sql(sql, engine).to_markdown(index=False))\n",
        "    except Exception as e:\n",
        "        print(f\"Error executing query: {e}\")\n",
        "    print('-' * 80)\n",
        "    print()"
      ],
      "metadata": {
        "id": "amL1AIwJwJh7",
        "colab": {
          "base_uri": "https://localhost:8080/"
        },
        "outputId": "ea13778d-2ac7-4d81-d69d-8e0b22384e6c"
      },
      "execution_count": null,
      "outputs": [
        {
          "output_type": "stream",
          "name": "stdout",
          "text": [
            "|   release_year |\n",
            "|---------------:|\n",
            "|           1991 |\n",
            "--------------------------------------------------------------------------------\n",
            "\n"
          ]
        }
      ]
    },
    {
      "cell_type": "code",
      "source": [
        "#@title #### Lets Retry with schema details/data dictionary\n",
        "\n",
        "database_schema = '''\n",
        "\n",
        "#### 1\\. `movies` Table\n",
        "\n",
        "  * **Description:** Stores core information about each movie.\n",
        "  * **Columns:**\n",
        "      * `movie_id` (INTEGER, Primary Key): Unique identifier for the movie.\n",
        "      * `title` (TEXT, NOT NULL): The title of the movie.\n",
        "      * `release_year` (INTEGER): The year the movie was released.\n",
        "      * `duration_minutes` (INTEGER): The length of the movie in minutes.\n",
        "      * `synopsis` (TEXT): A brief summary of the movie's plot.\n",
        "      * `budget_usd` (REAL): The production budget of the movie in USD.\n",
        "      * `box_office_gross_usd` (REAL): The worldwide box office revenue in USD.\n",
        "      * `director_id` (INTEGER, Foreign Key to `directors.director_id`): The director of the movie.\n",
        "      * `studio_id` (INTEGER, Foreign Key to `studios.studio_id`): The studio that produced the movie.\n",
        "\n",
        "#### 2\\. `actors` Table\n",
        "\n",
        "  * **Description:** Stores information about individual actors.\n",
        "  * **Columns:**\n",
        "      * `actor_id` (INTEGER, Primary Key): Unique identifier for the actor.\n",
        "      * `actor_name` (TEXT, NOT NULL): The full name of the actor.\n",
        "      * `birth_date` (TEXT): The actor's birth date (YYYY-MM-DD format).\n",
        "      * `nationality` (TEXT): The actor's nationality.\n",
        "\n",
        "#### 3\\. `directors` Table\n",
        "\n",
        "  * **Description:** Stores information about movie directors.\n",
        "  * **Columns:**\n",
        "      * `director_id` (INTEGER, Primary Key): Unique identifier for the director.\n",
        "      * `director_name` (TEXT, NOT NULL): The full name of the director.\n",
        "      * `birth_date` (TEXT): The director's birth date (YYYY-MM-DD format).\n",
        "      * `nationality` (TEXT): The director's nationality.\n",
        "\n",
        "#### 4\\. `studios` Table\n",
        "\n",
        "  * **Description:** Stores information about movie production studios.\n",
        "  * **Columns:**\n",
        "      * `studio_id` (INTEGER, Primary Key): Unique identifier for the studio.\n",
        "      * `studio_name` (TEXT, NOT NULL): The name of the studio.\n",
        "      * `founded_year` (INTEGER): The year the studio was founded.\n",
        "      * `country` (TEXT): The country where the studio is primarily based.\n",
        "\n",
        "#### 5\\. `genres` Table\n",
        "\n",
        "  * **Description:** Stores a list of movie genres.\n",
        "  * **Columns:**\n",
        "      * `genre_id` (INTEGER, Primary Key): Unique identifier for the genre.\n",
        "      * `genre_name` (TEXT, NOT NULL, UNIQUE): The name of the genre (e.g., \"Action\", \"Drama\", \"Sci-Fi\").\n",
        "\n",
        "#### 6\\. `cast_members` Table (Junction Table)\n",
        "\n",
        "  * **Description:** Links movies to actors, specifying the role an actor played in a particular movie. This handles the many-to-many relationship between `movies` and `actors`.\n",
        "  * **Columns:**\n",
        "      * `cast_id` (INTEGER, Primary Key): Unique identifier for a cast entry.\n",
        "      * `movie_id` (INTEGER, Foreign Key to `movies.movie_id`): The movie ID.\n",
        "      * `actor_id` (INTEGER, Foreign Key to `actors.actor_id`): The actor ID.\n",
        "      * `role_name` (TEXT): The name of the character played by the actor in that movie.\n",
        "\n",
        "#### 7\\. `movie_genres` Table (Junction Table)\n",
        "\n",
        "  * **Description:** Links movies to genres, allowing a movie to have multiple genres. This handles the many-to-many relationship between `movies` and `genres`.\n",
        "  * **Columns:**\n",
        "      * `movie_id` (INTEGER, Foreign Key to `movies.movie_id`): The movie ID.\n",
        "      * `genre_id` (INTEGER, Foreign Key to `genres.genre_id`): The genre ID.\n",
        "      * (Composite Primary Key: `movie_id`, `genre_id` to ensure unique genre assignments per movie).\n",
        "\n",
        "#### 8\\. `reviews` Table\n",
        "\n",
        "  * **Description:** Stores user reviews and ratings for movies.\n",
        "  * **Columns:**\n",
        "      * `review_id` (INTEGER, Primary Key): Unique identifier for the review.\n",
        "      * `movie_id` (INTEGER, Foreign Key to `movies.movie_id`): The movie being reviewed.\n",
        "      * `reviewer_name` (TEXT): The name or alias of the reviewer.\n",
        "      * `rating` (INTEGER): The numerical rating given (e.g., 1-10).\n",
        "      * `review_text` (TEXT): The full text of the review.\n",
        "      * `review_date` (TEXT): The date the review was posted (YYYY-MM-DD format).\n",
        "\n",
        "'''\n",
        "\n",
        "# Sample Queries\n",
        "prompt = \"\"\"\n",
        "You are an AI assistant that can answer questions about a movie database.\n",
        "The database contains information about movies, directors, actors, studios, genres, cast members, and reviews.\n",
        "Your task is to answer the user's query based on the provided database information.\n",
        "\n",
        "User Query: {user_query}\n",
        "\n",
        "Generate a SQL query to retrieve the requested information from the database.\n",
        "database: sqlite:///movies.db\n",
        "schema details:\n",
        "{database_schema}\n",
        "\"\"\"\n",
        "\n",
        "user_queries = [\n",
        "    f\"What's the release year of '{movie_name}'?\",\n",
        "    # f\"Who directed the movie '{movie_name}'?\",\n",
        "    # f\"List all actors in the movie '{movie_name}'.\",\n",
        "    # f\"What are the genres of the movie '{movie_name}'?\",\n",
        "]\n",
        "sql_queries = []\n",
        "for user_query in user_queries:\n",
        "    resp = model.generate_content(prompt.format(user_query=user_query, database_schema=database_schema)).text\n",
        "    sql = resp.strip().split('```sql')[1].split(\n",
        "        '```')[0].strip()  # Extract SQL query from response\n",
        "    sql_queries.append(sql)\n",
        "    print(user_query, ':', sql)\n",
        "    print('-' * 80)\n",
        "    print()\n",
        "\n"
      ],
      "metadata": {
        "id": "VBZ8amCVz38z",
        "colab": {
          "base_uri": "https://localhost:8080/",
          "height": 144
        },
        "outputId": "8a66126e-9c01-4c2e-936a-a41513f78d57"
      },
      "execution_count": null,
      "outputs": [
        {
          "output_type": "stream",
          "name": "stdout",
          "text": [
            "What's the release year of 'Emotions Software Of The Materials Algorithms'? : SELECT\n",
            "  release_year\n",
            "FROM movies\n",
            "WHERE\n",
            "  title = 'Emotions Software Of The Materials Algorithms';\n",
            "--------------------------------------------------------------------------------\n",
            "\n"
          ]
        }
      ]
    },
    {
      "cell_type": "code",
      "source": [
        "#@title retry execution\n",
        "\n",
        "for sql in sql_queries:\n",
        "    try:\n",
        "        print(pd.read_sql(sql, engine).to_markdown(index=False))\n",
        "    except Exception as e:\n",
        "        print(f\"Error executing query: {e}\")\n",
        "    print('-' * 80)\n",
        "    print()"
      ],
      "metadata": {
        "id": "ZTJ9Zrqc0LPo",
        "colab": {
          "base_uri": "https://localhost:8080/"
        },
        "outputId": "44327170-3c32-4bbb-ef34-44e42b3e7334"
      },
      "execution_count": null,
      "outputs": [
        {
          "output_type": "stream",
          "name": "stdout",
          "text": [
            "|   release_year |\n",
            "|---------------:|\n",
            "|           1991 |\n",
            "--------------------------------------------------------------------------------\n",
            "\n"
          ]
        }
      ]
    },
    {
      "cell_type": "markdown",
      "source": [
        "### Retrieving Specific Details & Summarizing Data\n",
        "With the full database schema as our guide, we can tackle more complex questions. This section focuses on two key capabilities. First, we'll learn how to ask for multiple specific details at once, such as a movie's title and duration, and see how the LLM generates a multi-column SELECT statement. Second, we'll explore the power of SQL aggregate functions (COUNT, SUM, AVG, MIN, MAX) to summarize our data, answering broader questions like \"How many movies are in the database?\" or \"What's the average movie duration?\".\n",
        "\n"
      ],
      "metadata": {
        "id": "SpSe29y_t1nI"
      }
    },
    {
      "cell_type": "code",
      "source": [
        "\n",
        "user_queries = [\n",
        "    f\"what is the number of reviews for '{movie_name}'?\",\n",
        "    f\"How many actors are there in '{movie_name}'?\",\n",
        "]\n",
        "sql_queries = []\n",
        "\n",
        "import time\n",
        "for user_query in user_queries:\n",
        "    resp = model.generate_content(prompt.format(user_query=user_query, database_schema=database_schema)).text\n",
        "    sql = resp.strip().split('```sql')[1].split(\n",
        "        '```')[0].strip()  # Extract SQL query from response\n",
        "    sql_queries.append(sql)\n",
        "    print(user_query, ':', sql, '\\n\\n')\n",
        "    try:\n",
        "        print(pd.read_sql(sql, engine).to_markdown(index=False),'\\n\\n', )\n",
        "    except Exception as e:\n",
        "        print(f\"Error executing query: {e}\")\n",
        "    print('-' * 80)\n",
        "    print()\n",
        "    time.sleep(2)"
      ],
      "metadata": {
        "id": "-K_d0bTU1VFW",
        "colab": {
          "base_uri": "https://localhost:8080/",
          "height": 603
        },
        "outputId": "e2f1c840-ad55-4174-b2db-bbf8fcaaebf1"
      },
      "execution_count": null,
      "outputs": [
        {
          "output_type": "stream",
          "name": "stdout",
          "text": [
            "what is the number of reviews for 'Food Buildings Of The Materials Construction'? : SELECT\n",
            "  COUNT(T1.review_id)\n",
            "FROM reviews AS T1\n",
            "INNER JOIN movies AS T2\n",
            "  ON T1.movie_id = T2.movie_id\n",
            "WHERE\n",
            "  T2.title = 'Food Buildings Of The Materials Construction'; \n",
            "\n",
            "\n",
            "|   COUNT(T1.review_id) |\n",
            "|----------------------:|\n",
            "|                    76 | \n",
            "\n",
            "\n",
            "--------------------------------------------------------------------------------\n",
            "\n",
            "How many actors are there in 'Food Buildings Of The Materials Construction'? : SELECT\n",
            "  COUNT(T1.actor_id)\n",
            "FROM cast_members AS T1\n",
            "INNER JOIN movies AS T2\n",
            "  ON T1.movie_id = T2.movie_id\n",
            "WHERE\n",
            "  T2.title = 'Food Buildings Of The Materials Construction'; \n",
            "\n",
            "\n",
            "|   COUNT(T1.actor_id) |\n",
            "|---------------------:|\n",
            "|                    3 | \n",
            "\n",
            "\n",
            "--------------------------------------------------------------------------------\n",
            "\n"
          ]
        }
      ]
    },
    {
      "cell_type": "markdown",
      "source": [
        "### Live Demo: Advanced Queries & Aggregations on Demand\n",
        "This live demonstration brings all these concepts together. We'll pose advanced natural language questions that require the LLM to generate more sophisticated SQL. You'll see the LLM generate multi-column queries, aggregate functions, and even filter data to retrieve the exact information we're looking for. This demo will visually reinforce how providing the schema empowers the LLM to provide richer and more insightful answers from our movie database.\n",
        "\n"
      ],
      "metadata": {
        "id": "OQB3iBT3t05N"
      }
    },
    {
      "cell_type": "code",
      "source": [
        "user_query = 'How many movies do we have in total per director' #@param\n",
        "\n",
        "resp = model.generate_content(prompt.format(user_query=user_query, database_schema=database_schema)).text\n",
        "sql = resp.strip().split('```sql')[1].split(\n",
        "    '```')[0].strip()  # Extract SQL query from response\n",
        "print(user_query, ':', sql, '\\n\\n')\n",
        "try:\n",
        "    print(pd.read_sql(sql, engine).to_markdown(index=False),'\\n\\n', )\n",
        "except Exception as e:\n",
        "    print(f\"Error executing query: {e}\")\n",
        "print('-' * 80)\n",
        "print()"
      ],
      "metadata": {
        "id": "Bz31DVWb2koM",
        "colab": {
          "base_uri": "https://localhost:8080/",
          "height": 987
        },
        "outputId": "aaf6b106-1954-421c-dcf0-580c287d2526"
      },
      "execution_count": null,
      "outputs": [
        {
          "output_type": "stream",
          "name": "stdout",
          "text": [
            "How many movies do we have in total per director : SELECT\n",
            "  d.director_name,\n",
            "  COUNT(m.movie_id) AS total_movies\n",
            "FROM directors AS d\n",
            "JOIN movies AS m\n",
            "  ON d.director_id = m.director_id\n",
            "GROUP BY\n",
            "  d.director_name\n",
            "ORDER BY\n",
            "  total_movies DESC; \n",
            "\n",
            "\n",
            "| director_name          |   total_movies |\n",
            "|:-----------------------|---------------:|\n",
            "| caramelized-tag        |              6 |\n",
            "| rank-language          |              5 |\n",
            "| loud-coffee            |              5 |\n",
            "| brutal-suv             |              5 |\n",
            "| sensitive-cyclotron    |              4 |\n",
            "| parallel-width         |              4 |\n",
            "| jet-path               |              4 |\n",
            "| generous-skylark       |              4 |\n",
            "| bone-pilaster          |              4 |\n",
            "| best-hoops             |              4 |\n",
            "| taxonomic-flamingo     |              3 |\n",
            "| some-bulldozer         |              3 |\n",
            "| partial-tributary      |              3 |\n",
            "| oriented-instructor    |              3 |\n",
            "| optical-yard           |              3 |\n",
            "| noisy-hull             |              3 |\n",
            "| muted-dither           |              3 |\n",
            "| mute-scrub             |              3 |\n",
            "| great-empowerment      |              3 |\n",
            "| fixed-meter            |              3 |\n",
            "| exothermic-certificate |              3 |\n",
            "| every-pass             |              3 |\n",
            "| azure-gorgonzola       |              3 |\n",
            "| wide-vibration         |              2 |\n",
            "| tall-plugin            |              2 |\n",
            "| symmetric-fluid        |              2 |\n",
            "| numerous-reverb        |              2 |\n",
            "| savory-electron        |              1 |\n",
            "| plumb-origin           |              1 |\n",
            "| little-value           |              1 |\n",
            "| coincident-fluid       |              1 |\n",
            "| candied-mountain       |              1 |\n",
            "| burgundy-sectional     |              1 |\n",
            "| brave-pot              |              1 |\n",
            "| azure-mortar           |              1 | \n",
            "\n",
            "\n",
            "--------------------------------------------------------------------------------\n",
            "\n"
          ]
        }
      ]
    },
    {
      "cell_type": "code",
      "source": [
        "user_query = 'what are the top rated directors on the roster?' #@param\n",
        "sql_break_query_prompt = '''\n",
        "write a sql to detect the tables and views available to us.\n",
        "\n",
        "database:\n",
        "\n",
        "respond with only an executable query.\n",
        "this outout needs to be used downstream in sql connection\n",
        "\n",
        "'''\n",
        "queries = model.generate_content(sql_break_query_prompt).text\n",
        "print(queries)\n"
      ],
      "metadata": {
        "colab": {
          "base_uri": "https://localhost:8080/",
          "height": 200
        },
        "id": "gdzhQReRbNCT",
        "outputId": "efd5d540-706e-4b2e-929c-b3c99da74358"
      },
      "execution_count": null,
      "outputs": [
        {
          "output_type": "stream",
          "name": "stdout",
          "text": [
            "```sql\n",
            "SELECT\n",
            "    TABLE_SCHEMA,\n",
            "    TABLE_NAME,\n",
            "    TABLE_TYPE\n",
            "FROM\n",
            "    INFORMATION_SCHEMA.TABLES\n",
            "WHERE\n",
            "    TABLE_TYPE IN ('BASE TABLE', 'VIEW');\n",
            "```\n"
          ]
        }
      ]
    },
    {
      "cell_type": "code",
      "source": [
        "\n",
        "resp = model.generate_content(prompt.format(user_query=user_query, database_schema=database_schema)).text\n",
        "sql = resp.strip().split('```sql')[1].split(\n",
        "    '```')[0].strip()  # Extract SQL query from response\n",
        "print(user_query, ':', sql, '\\n\\n')\n",
        "top_directors = None\n",
        "\n",
        "try:\n",
        "    top_directors = pd.read_sql(sql, engine).to_markdown(index=False)\n",
        "    print(pd.read_sql(sql, engine).to_markdown(index=False),'\\n\\n', )\n",
        "except Exception as e:\n",
        "    print(f\"Error executing query: {e}\")\n",
        "print('-' * 80)\n",
        "print()"
      ],
      "metadata": {
        "colab": {
          "base_uri": "https://localhost:8080/",
          "height": 270
        },
        "id": "th3t42aJX0gf",
        "outputId": "66e466f9-d26e-4549-84c1-516f51c9a6a9"
      },
      "execution_count": null,
      "outputs": [
        {
          "output_type": "stream",
          "name": "stdout",
          "text": [
            "What's the release year of 'Emotions Software Of The Materials Algorithms'? : SELECT\n",
            "  release_year\n",
            "FROM movies\n",
            "WHERE\n",
            "  title = 'Emotions Software Of The Materials Algorithms'; \n",
            "\n",
            "\n",
            "|   release_year |\n",
            "|---------------:|\n",
            "|           1991 | \n",
            "\n",
            "\n",
            "--------------------------------------------------------------------------------\n",
            "\n"
          ]
        }
      ]
    },
    {
      "cell_type": "code",
      "source": [
        "prompt = '''\n",
        "You are an executive assistant answering to a CXO level boss.\n",
        "\n",
        "summarize and respond in the best and most professional way possible.\n",
        "\n",
        "query: {user_query}\n",
        "\n",
        "context: {data_response}\n",
        "\n",
        "additional context: {top_directors}\n",
        "'''\n",
        "\n",
        "data_response = pd.read_sql(sql, engine).to_markdown(index=False)\n",
        "\n",
        "cxo_resp = model.generate_content(\n",
        "    prompt.format(user_query=user_query, data_response=data_response, top_directors=top_directors)\n",
        ").text\n",
        "\n",
        "print(cxo_resp)"
      ],
      "metadata": {
        "colab": {
          "base_uri": "https://localhost:8080/",
          "height": 238
        },
        "id": "DphNSdAiW9sm",
        "outputId": "a2472787-83d5-4a2e-c6af-02df273ff85f"
      },
      "execution_count": null,
      "outputs": [
        {
          "output_type": "stream",
          "name": "stdout",
          "text": [
            "Certainly. Based on the provided data, here are the top-rated directors on the roster:\n",
            "\n",
            "The highest-rated director is **candied-mountain** with an average rating of 6.0.\n",
            "\n",
            "Following closely are:\n",
            "*   **symmetric-fluid**: 5.798\n",
            "*   **rank-language**: 5.755\n",
            "*   **caramelized-tag**: 5.736\n",
            "*   **oriented-instructor**: 5.655\n",
            "\n",
            "I have rounded the ratings for conciseness. Please let me know if you would like to see the full list or require a deeper dive into any specific director's performance data.\n"
          ]
        }
      ]
    },
    {
      "cell_type": "markdown",
      "source": [
        "## Module 3: Building a Robust & Resilient System\n"
      ],
      "metadata": {
        "id": "cz3Iz8PZsKbv"
      }
    },
    {
      "cell_type": "markdown",
      "source": [
        "\n",
        "### Graceful Error Handling & Responding to the Unknown\n",
        "Building a reliable system means preparing for things to go wrong. This section focuses on error handling and how to craft graceful responses. We'll cover scenarios where a query might return no results (and how to politely inform the user) and instances where the LLM might generate invalid SQL (and how to catch and handle these errors programmatically). A robust system anticipates these challenges to provide a smooth user experience.\n"
      ],
      "metadata": {
        "id": "6V-vKf6j3Iju"
      }
    },
    {
      "cell_type": "code",
      "source": [
        "\n",
        "# Sample Queries\n",
        "prompt = \"\"\"\n",
        "You are an AI assistant that can answer questions about a movie database.\n",
        "The database contains information about movies, directors, actors, studios, genres, cast members, and reviews.\n",
        "Your task is to answer the user's query based on the provided database information.\n",
        "\n",
        "User Query: {user_query}\n",
        "\n",
        "Generate a SQL query to retrieve the requested information from the database.\n",
        "database: sqlite:///movies.db\n",
        "schema details:\n",
        "{database_schema}\n",
        "\n",
        "\"\"\"\n",
        "\n",
        "special_instructions = '''\n",
        "\n",
        "SPECIAL INSTRUCTIONS:\n",
        "\n",
        "MAKE AN ERROR IN THE SQL FORMATION, I WANT TO TEST ERROR HANDLING THE SQL QUERY\n",
        "'''\n",
        "\n",
        "user_queries = [\n",
        "    f\"What's the release year of '{movie_name}'?\",\n",
        "    # f\"Who directed the movie '{movie_name}'?\",\n",
        "    # f\"List all actors in the movie '{movie_name}'.\",\n",
        "    # f\"What are the genres of the movie '{movie_name}'?\",\n",
        "]\n",
        "\n",
        "for user_query in user_queries:\n",
        "    resp = model.generate_content(\n",
        "        prompt.format(user_query=user_query, database_schema=database_schema) + special_instructions\n",
        "        ).text\n",
        "    sql = resp.strip().split('```sql')[1].split(\n",
        "        '```')[0].strip()  # Extract SQL query from response\n",
        "    print(user_query, ':', sql, '\\n\\n')\n",
        "    try:\n",
        "        print(pd.read_sql(sql, engine).to_markdown(index=False),'\\n\\n', )\n",
        "    except Exception as e:\n",
        "        print(f\"Error executing query: {e}\")\n",
        "    print('-' * 80)\n",
        "    print()\n"
      ],
      "metadata": {
        "id": "5BcByjo73jwb",
        "colab": {
          "base_uri": "https://localhost:8080/",
          "height": 237
        },
        "outputId": "3f38bede-b210-4044-ae03-ecb407b0dbc2"
      },
      "execution_count": null,
      "outputs": [
        {
          "output_type": "stream",
          "name": "stdout",
          "text": [
            "What's the release year of 'Food Buildings Of The Materials Construction'? : SELECT release_year\n",
            "FROM moviess\n",
            "WHERE title = 'Food Buildings Of The Materials Construction'; \n",
            "\n",
            "\n",
            "Error executing query: (sqlite3.OperationalError) no such table: moviess\n",
            "[SQL: SELECT release_year\n",
            "FROM moviess\n",
            "WHERE title = 'Food Buildings Of The Materials Construction';]\n",
            "(Background on this error at: https://sqlalche.me/e/20/e3q8)\n",
            "--------------------------------------------------------------------------------\n",
            "\n"
          ]
        }
      ]
    },
    {
      "cell_type": "code",
      "source": [
        "error_handling_prompt = '''\n",
        "You are a database response handler for business users.\n",
        "Under stand the user query, the generated sql and the error that has occured.\n",
        "\n",
        "provide a polite way to say that there was an error in the query and apologise.\n",
        "your response may be seen by LLMs further down the line.\n",
        "\n",
        "User Query: {user_query}\n",
        "\n",
        "SQL Query: {sql}\n",
        "\n",
        "Error: {error}\n",
        "'''\n",
        "\n",
        "for user_query in user_queries:\n",
        "    resp = model.generate_content(\n",
        "        prompt.format(user_query=user_query, database_schema=database_schema) + special_instructions\n",
        "        ).text\n",
        "    sql = resp.strip().split('```sql')[1].split(\n",
        "        '```')[0].strip()  # Extract SQL query from response\n",
        "    print(user_query, ':', sql, '\\n\\n')\n",
        "    db_response = None\n",
        "    try:\n",
        "        db_response = pd.read_sql(sql, engine).to_markdown(index=False)\n",
        "    except Exception as e:\n",
        "        db_response = model.generate_content(\n",
        "            error_handling_prompt.format(\n",
        "                error=str(e),\n",
        "                user_query=user_query,\n",
        "                sql=sql\n",
        "              )\n",
        "          ).text\n",
        "\n",
        "    print(db_response,'\\n\\n', )\n",
        "    print('-' * 80)\n",
        "    print()\n"
      ],
      "metadata": {
        "id": "HxpuGrhW3juH",
        "colab": {
          "base_uri": "https://localhost:8080/",
          "height": 257
        },
        "outputId": "fabba102-0e45-43af-8f0e-3cbcb074616c"
      },
      "execution_count": null,
      "outputs": [
        {
          "output_type": "stream",
          "name": "stdout",
          "text": [
            "What's the release year of 'Food Buildings Of The Materials Construction'? : SELECT releas_year\n",
            "FROM movies\n",
            "WHERE title = 'Food Buildings Of The Materials Construction'; \n",
            "\n",
            "\n",
            "I apologize, but I encountered an error while trying to retrieve the release year for 'Food Buildings Of The Materials Construction'. It seems there was an issue with the specific column name I requested from the database.\n",
            "\n",
            "I'm sorry for this inconvenience and am currently unable to provide the release year. Please let me know if you'd like me to try again, or if there's another way I can assist you. \n",
            "\n",
            "\n",
            "--------------------------------------------------------------------------------\n",
            "\n"
          ]
        }
      ]
    },
    {
      "cell_type": "code",
      "source": [
        "#@title Self Correction\n",
        "\n",
        "error_handling_prompt = '''\n",
        "You are a database response handler for business users.\n",
        "Under stand the user query, the generated sql and the error that has occured.\n",
        "\n",
        "if you can fix the query provide the fixed query and query alone. add in a comment: `--fixed query` at the end to mark fix\n",
        "\n",
        "else provide a polite way to say that there was an error in the query and apologise.\n",
        "your response may be seen by LLMs further down the line.\n",
        "\n",
        "User Query: {user_query}\n",
        "\n",
        "SQL Query: {sql}\n",
        "\n",
        "schema: {database_schema}\n",
        "\n",
        "Error: {error}\n",
        "'''\n",
        "\n",
        "for user_query in user_queries:\n",
        "    resp = model.generate_content(\n",
        "        prompt.format(user_query=user_query, database_schema=database_schema) + special_instructions\n",
        "        ).text\n",
        "    sql = resp.strip().split('```sql')[1].split(\n",
        "        '```')[0].strip()  # Extract SQL query from response\n",
        "    print(user_query, ':', sql, '\\n\\n')\n",
        "    db_response = None\n",
        "    try:\n",
        "        db_response = pd.read_sql(sql, engine).to_markdown(index=False)\n",
        "    except Exception as e:\n",
        "        db_response = model.generate_content(\n",
        "            error_handling_prompt.format(\n",
        "                error=str(e),\n",
        "                user_query=user_query,\n",
        "                sql=sql,\n",
        "                database_schema=database_schema\n",
        "              )\n",
        "          ).text\n",
        "\n",
        "    print(db_response,'\\n\\n', )\n",
        "    print('-' * 80)\n",
        "    print()\n"
      ],
      "metadata": {
        "id": "P8noSmuP5lqH",
        "colab": {
          "base_uri": "https://localhost:8080/",
          "height": 237
        },
        "outputId": "3f228abe-6fd1-4584-8178-3b9fda19dbf3"
      },
      "execution_count": null,
      "outputs": [
        {
          "output_type": "stream",
          "name": "stdout",
          "text": [
            "What's the release year of 'Food Buildings Of The Materials Construction'? : SELECT relese_year  -- Intentional misspelling of 'release_year'\n",
            "FROM movies\n",
            "WHERE title = 'Food Buildings Of The Materials Construction'; \n",
            "\n",
            "\n",
            "SELECT release_year\n",
            "FROM movies\n",
            "WHERE title = 'Food Buildings Of The Materials Construction'; --fixed query \n",
            "\n",
            "\n",
            "--------------------------------------------------------------------------------\n",
            "\n"
          ]
        }
      ]
    },
    {
      "cell_type": "code",
      "source": [
        "pd.read_sql(db_response, engine)"
      ],
      "metadata": {
        "colab": {
          "base_uri": "https://localhost:8080/",
          "height": 81
        },
        "id": "D--lAgMnfhdT",
        "outputId": "0c748f67-62b7-4244-b4db-4e2902d72b9e"
      },
      "execution_count": null,
      "outputs": [
        {
          "output_type": "execute_result",
          "data": {
            "text/plain": [
              "   release_year\n",
              "0          1980"
            ],
            "text/html": [
              "\n",
              "  <div id=\"df-0c6a2b28-2865-4871-8d09-44f0f350d8d4\" class=\"colab-df-container\">\n",
              "    <div>\n",
              "<style scoped>\n",
              "    .dataframe tbody tr th:only-of-type {\n",
              "        vertical-align: middle;\n",
              "    }\n",
              "\n",
              "    .dataframe tbody tr th {\n",
              "        vertical-align: top;\n",
              "    }\n",
              "\n",
              "    .dataframe thead th {\n",
              "        text-align: right;\n",
              "    }\n",
              "</style>\n",
              "<table border=\"1\" class=\"dataframe\">\n",
              "  <thead>\n",
              "    <tr style=\"text-align: right;\">\n",
              "      <th></th>\n",
              "      <th>release_year</th>\n",
              "    </tr>\n",
              "  </thead>\n",
              "  <tbody>\n",
              "    <tr>\n",
              "      <th>0</th>\n",
              "      <td>1980</td>\n",
              "    </tr>\n",
              "  </tbody>\n",
              "</table>\n",
              "</div>\n",
              "    <div class=\"colab-df-buttons\">\n",
              "\n",
              "  <div class=\"colab-df-container\">\n",
              "    <button class=\"colab-df-convert\" onclick=\"convertToInteractive('df-0c6a2b28-2865-4871-8d09-44f0f350d8d4')\"\n",
              "            title=\"Convert this dataframe to an interactive table.\"\n",
              "            style=\"display:none;\">\n",
              "\n",
              "  <svg xmlns=\"http://www.w3.org/2000/svg\" height=\"24px\" viewBox=\"0 -960 960 960\">\n",
              "    <path d=\"M120-120v-720h720v720H120Zm60-500h600v-160H180v160Zm220 220h160v-160H400v160Zm0 220h160v-160H400v160ZM180-400h160v-160H180v160Zm440 0h160v-160H620v160ZM180-180h160v-160H180v160Zm440 0h160v-160H620v160Z\"/>\n",
              "  </svg>\n",
              "    </button>\n",
              "\n",
              "  <style>\n",
              "    .colab-df-container {\n",
              "      display:flex;\n",
              "      gap: 12px;\n",
              "    }\n",
              "\n",
              "    .colab-df-convert {\n",
              "      background-color: #E8F0FE;\n",
              "      border: none;\n",
              "      border-radius: 50%;\n",
              "      cursor: pointer;\n",
              "      display: none;\n",
              "      fill: #1967D2;\n",
              "      height: 32px;\n",
              "      padding: 0 0 0 0;\n",
              "      width: 32px;\n",
              "    }\n",
              "\n",
              "    .colab-df-convert:hover {\n",
              "      background-color: #E2EBFA;\n",
              "      box-shadow: 0px 1px 2px rgba(60, 64, 67, 0.3), 0px 1px 3px 1px rgba(60, 64, 67, 0.15);\n",
              "      fill: #174EA6;\n",
              "    }\n",
              "\n",
              "    .colab-df-buttons div {\n",
              "      margin-bottom: 4px;\n",
              "    }\n",
              "\n",
              "    [theme=dark] .colab-df-convert {\n",
              "      background-color: #3B4455;\n",
              "      fill: #D2E3FC;\n",
              "    }\n",
              "\n",
              "    [theme=dark] .colab-df-convert:hover {\n",
              "      background-color: #434B5C;\n",
              "      box-shadow: 0px 1px 3px 1px rgba(0, 0, 0, 0.15);\n",
              "      filter: drop-shadow(0px 1px 2px rgba(0, 0, 0, 0.3));\n",
              "      fill: #FFFFFF;\n",
              "    }\n",
              "  </style>\n",
              "\n",
              "    <script>\n",
              "      const buttonEl =\n",
              "        document.querySelector('#df-0c6a2b28-2865-4871-8d09-44f0f350d8d4 button.colab-df-convert');\n",
              "      buttonEl.style.display =\n",
              "        google.colab.kernel.accessAllowed ? 'block' : 'none';\n",
              "\n",
              "      async function convertToInteractive(key) {\n",
              "        const element = document.querySelector('#df-0c6a2b28-2865-4871-8d09-44f0f350d8d4');\n",
              "        const dataTable =\n",
              "          await google.colab.kernel.invokeFunction('convertToInteractive',\n",
              "                                                    [key], {});\n",
              "        if (!dataTable) return;\n",
              "\n",
              "        const docLinkHtml = 'Like what you see? Visit the ' +\n",
              "          '<a target=\"_blank\" href=https://colab.research.google.com/notebooks/data_table.ipynb>data table notebook</a>'\n",
              "          + ' to learn more about interactive tables.';\n",
              "        element.innerHTML = '';\n",
              "        dataTable['output_type'] = 'display_data';\n",
              "        await google.colab.output.renderOutput(dataTable, element);\n",
              "        const docLink = document.createElement('div');\n",
              "        docLink.innerHTML = docLinkHtml;\n",
              "        element.appendChild(docLink);\n",
              "      }\n",
              "    </script>\n",
              "  </div>\n",
              "\n",
              "\n",
              "    </div>\n",
              "  </div>\n"
            ],
            "application/vnd.google.colaboratory.intrinsic+json": {
              "type": "dataframe",
              "summary": "{\n  \"name\": \"pd\",\n  \"rows\": 1,\n  \"fields\": [\n    {\n      \"column\": \"release_year\",\n      \"properties\": {\n        \"dtype\": \"number\",\n        \"std\": null,\n        \"min\": 1980,\n        \"max\": 1980,\n        \"num_unique_values\": 1,\n        \"samples\": [\n          1980\n        ],\n        \"semantic_type\": \"\",\n        \"description\": \"\"\n      }\n    }\n  ]\n}"
            }
          },
          "metadata": {},
          "execution_count": 46
        }
      ]
    },
    {
      "cell_type": "markdown",
      "source": [
        "\n",
        "### Beyond Keywords: Bridging the Semantic Gap\n",
        "Sometimes a simple keyword search isn't enough to capture the \"movie magic\" in a query. How do you find a film with an \"intense atmosphere\" or a \"heartwarming plot\"? This section introduces the concept of the semantic gap. We'll explore how movie embeddings—numerical representations of text—can bridge this gap, allowing us to move beyond exact matches and perform powerful semantic searches to find movies based on their conceptual meaning.\n",
        "\n",
        "> Using [SQLLiteVec](https://python.langchain.com/docs/integrations/vectorstores/sqlitevec/)"
      ],
      "metadata": {
        "id": "OxEPrwOh3JGs"
      }
    },
    {
      "cell_type": "code",
      "source": [
        "#@title Installing pre-reqs\n",
        "\n",
        "!pip install --upgrade -qU langchain langchain-community sqlite-vec langchain-huggingface sentence-transformers\n",
        "\n"
      ],
      "metadata": {
        "id": "zgPmQuyU3kXO",
        "colab": {
          "base_uri": "https://localhost:8080/"
        },
        "outputId": "dd3224b7-8b54-42c3-94a7-3ae1c2d8c463"
      },
      "execution_count": null,
      "outputs": [
        {
          "output_type": "stream",
          "name": "stdout",
          "text": [
            "\u001b[?25l   \u001b[90m━━━━━━━━━━━━━━━━━━━━━━━━━━━━━━━━━━━━━━━━\u001b[0m \u001b[32m0.0/2.5 MB\u001b[0m \u001b[31m?\u001b[0m eta \u001b[36m-:--:--\u001b[0m\r\u001b[2K   \u001b[91m━━━━━━━━━━━━━━━━━━━━━━━\u001b[0m\u001b[90m╺\u001b[0m\u001b[90m━━━━━━━━━━━━━━━━\u001b[0m \u001b[32m1.5/2.5 MB\u001b[0m \u001b[31m43.9 MB/s\u001b[0m eta \u001b[36m0:00:01\u001b[0m\r\u001b[2K   \u001b[90m━━━━━━━━━━━━━━━━━━━━━━━━━━━━━━━━━━━━━━━━\u001b[0m \u001b[32m2.5/2.5 MB\u001b[0m \u001b[31m44.2 MB/s\u001b[0m eta \u001b[36m0:00:00\u001b[0m\n",
            "\u001b[?25h\u001b[?25l   \u001b[90m━━━━━━━━━━━━━━━━━━━━━━━━━━━━━━━━━━━━━━━━\u001b[0m \u001b[32m0.0/151.6 kB\u001b[0m \u001b[31m?\u001b[0m eta \u001b[36m-:--:--\u001b[0m\r\u001b[2K   \u001b[90m━━━━━━━━━━━━━━━━━━━━━━━━━━━━━━━━━━━━━━━━\u001b[0m \u001b[32m151.6/151.6 kB\u001b[0m \u001b[31m14.7 MB/s\u001b[0m eta \u001b[36m0:00:00\u001b[0m\n",
            "\u001b[2K   \u001b[90m━━━━━━━━━━━━━━━━━━━━━━━━━━━━━━━━━━━━━━━━\u001b[0m \u001b[32m470.2/470.2 kB\u001b[0m \u001b[31m36.9 MB/s\u001b[0m eta \u001b[36m0:00:00\u001b[0m\n",
            "\u001b[2K   \u001b[90m━━━━━━━━━━━━━━━━━━━━━━━━━━━━━━━━━━━━━━━━\u001b[0m \u001b[32m45.2/45.2 kB\u001b[0m \u001b[31m4.8 MB/s\u001b[0m eta \u001b[36m0:00:00\u001b[0m\n",
            "\u001b[2K   \u001b[90m━━━━━━━━━━━━━━━━━━━━━━━━━━━━━━━━━━━━━━━━\u001b[0m \u001b[32m363.4/363.4 MB\u001b[0m \u001b[31m4.5 MB/s\u001b[0m eta \u001b[36m0:00:00\u001b[0m\n",
            "\u001b[2K   \u001b[90m━━━━━━━━━━━━━━━━━━━━━━━━━━━━━━━━━━━━━━━━\u001b[0m \u001b[32m13.8/13.8 MB\u001b[0m \u001b[31m87.8 MB/s\u001b[0m eta \u001b[36m0:00:00\u001b[0m\n",
            "\u001b[2K   \u001b[90m━━━━━━━━━━━━━━━━━━━━━━━━━━━━━━━━━━━━━━━━\u001b[0m \u001b[32m24.6/24.6 MB\u001b[0m \u001b[31m61.5 MB/s\u001b[0m eta \u001b[36m0:00:00\u001b[0m\n",
            "\u001b[2K   \u001b[90m━━━━━━━━━━━━━━━━━━━━━━━━━━━━━━━━━━━━━━━━\u001b[0m \u001b[32m883.7/883.7 kB\u001b[0m \u001b[31m38.2 MB/s\u001b[0m eta \u001b[36m0:00:00\u001b[0m\n",
            "\u001b[2K   \u001b[90m━━━━━━━━━━━━━━━━━━━━━━━━━━━━━━━━━━━━━━━━\u001b[0m \u001b[32m664.8/664.8 MB\u001b[0m \u001b[31m2.0 MB/s\u001b[0m eta \u001b[36m0:00:00\u001b[0m\n",
            "\u001b[2K   \u001b[90m━━━━━━━━━━━━━━━━━━━━━━━━━━━━━━━━━━━━━━━━\u001b[0m \u001b[32m211.5/211.5 MB\u001b[0m \u001b[31m5.6 MB/s\u001b[0m eta \u001b[36m0:00:00\u001b[0m\n",
            "\u001b[2K   \u001b[90m━━━━━━━━━━━━━━━━━━━━━━━━━━━━━━━━━━━━━━━━\u001b[0m \u001b[32m56.3/56.3 MB\u001b[0m \u001b[31m14.0 MB/s\u001b[0m eta \u001b[36m0:00:00\u001b[0m\n",
            "\u001b[2K   \u001b[90m━━━━━━━━━━━━━━━━━━━━━━━━━━━━━━━━━━━━━━━━\u001b[0m \u001b[32m127.9/127.9 MB\u001b[0m \u001b[31m7.6 MB/s\u001b[0m eta \u001b[36m0:00:00\u001b[0m\n",
            "\u001b[2K   \u001b[90m━━━━━━━━━━━━━━━━━━━━━━━━━━━━━━━━━━━━━━━━\u001b[0m \u001b[32m207.5/207.5 MB\u001b[0m \u001b[31m5.7 MB/s\u001b[0m eta \u001b[36m0:00:00\u001b[0m\n",
            "\u001b[2K   \u001b[90m━━━━━━━━━━━━━━━━━━━━━━━━━━━━━━━━━━━━━━━━\u001b[0m \u001b[32m21.1/21.1 MB\u001b[0m \u001b[31m110.4 MB/s\u001b[0m eta \u001b[36m0:00:00\u001b[0m\n",
            "\u001b[2K   \u001b[90m━━━━━━━━━━━━━━━━━━━━━━━━━━━━━━━━━━━━━━━━\u001b[0m \u001b[32m50.9/50.9 kB\u001b[0m \u001b[31m4.8 MB/s\u001b[0m eta \u001b[36m0:00:00\u001b[0m\n",
            "\u001b[?25h\u001b[31mERROR: pip's dependency resolver does not currently take into account all the packages that are installed. This behaviour is the source of the following dependency conflicts.\n",
            "cudf-cu12 25.6.0 requires pandas<2.2.4dev0,>=2.0, but you have pandas 2.3.1 which is incompatible.\n",
            "dask-cudf-cu12 25.6.0 requires pandas<2.2.4dev0,>=2.0, but you have pandas 2.3.1 which is incompatible.\u001b[0m\u001b[31m\n",
            "\u001b[0m"
          ]
        }
      ]
    },
    {
      "cell_type": "markdown",
      "source": [
        "#### Approach 1: Stuff everything to docs"
      ],
      "metadata": {
        "id": "aREB4tJSLxnK"
      }
    },
    {
      "cell_type": "code",
      "source": [
        "# r = model.generate_content(prompt.format(user_query='Build a single aggregation query to show all the data per movie in a single row', database_schema=database_schema)).text\n",
        "# sql = r.split('```sql')[-1].split('```')[0]\n",
        "import pandas as pd\n",
        "from sqlalchemy import create_engine\n",
        "\n",
        "DB_NAME = 'movies.db' #@param\n",
        "\n",
        "engine = create_engine(f'sqlite:///{DB_NAME}')\n",
        "\n",
        "data = pd.read_sql(\n",
        "    '''\n",
        "SELECT\n",
        "  m.movie_id,\n",
        "  m.title,\n",
        "  m.release_year,\n",
        "  m.duration_minutes,\n",
        "  m.synopsis,\n",
        "  m.budget_usd,\n",
        "  m.box_office_gross_usd,\n",
        "  d.director_name,\n",
        "  s.studio_name,\n",
        "  GROUP_CONCAT( g.genre_name, ', ') AS genres,\n",
        "  GROUP_CONCAT( a.actor_name || ' (as ' || cm.role_name || ')', '; ') AS cast_members,\n",
        "  COUNT( r.review_id) AS total_reviews,\n",
        "  ROUND(AVG(r.rating), 2) AS average_rating,\n",
        "  GROUP_CONCAT( '(' || r.reviewer_name || ' - ' || r.rating || '/10): ' || r.review_text, '\\n--- ') AS all_reviews_details\n",
        "FROM movies AS m\n",
        "LEFT JOIN directors AS d\n",
        "  ON m.director_id = d.director_id\n",
        "LEFT JOIN studios AS s\n",
        "  ON m.studio_id = s.studio_id\n",
        "LEFT JOIN movie_genres AS mg\n",
        "  ON m.movie_id = mg.movie_id\n",
        "LEFT JOIN genres AS g\n",
        "  ON mg.genre_id = g.genre_id\n",
        "LEFT JOIN cast_members AS cm\n",
        "  ON m.movie_id = cm.movie_id\n",
        "LEFT JOIN actors AS a\n",
        "  ON cm.actor_id = a.actor_id\n",
        "LEFT JOIN reviews AS r\n",
        "  ON m.movie_id = r.movie_id\n",
        "GROUP BY\n",
        "  m.movie_id,\n",
        "  m.title,\n",
        "  m.release_year,\n",
        "  m.duration_minutes,\n",
        "  m.synopsis,\n",
        "  m.budget_usd,\n",
        "  m.box_office_gross_usd,\n",
        "  d.director_name,\n",
        "  s.studio_name\n",
        "ORDER BY\n",
        "  m.movie_id;\n",
        "    ''',\n",
        "    engine\n",
        ")\n",
        "data = [str(i) for i in data.to_dict('records')]\n",
        "\n",
        "# len(data)\n",
        "\n",
        "data[0]"
      ],
      "metadata": {
        "id": "6aakiEJm3kU6",
        "colab": {
          "base_uri": "https://localhost:8080/",
          "height": 146
        },
        "outputId": "1e601eac-d2d7-412f-b9bc-6a9012d58d38"
      },
      "execution_count": null,
      "outputs": [
        {
          "output_type": "execute_result",
          "data": {
            "text/plain": [
              "'{\\'movie_id\\': 1, \\'title\\': \\'Colors Screenwriting Of The Emotions Linear Algebra\\', \\'release_year\\': 2011, \\'duration_minutes\\': 142, \\'synopsis\\': \\'A thrilling story about geometry meat and its cameos. The plot twists kept me on the edge of my seat.\\', \\'budget_usd\\': 179737961.19, \\'box_office_gross_usd\\': 1404855204.63, \\'director_name\\': \\'rank-language\\', \\'studio_name\\': \\'weather Entertainment\\', \\'genres\\': None, \\'cast_members\\': \\'quiet-biography (as Villain); quiet-biography (as Villain); quiet-biography (as Villain); quiet-biography (as Villain); quiet-biography (as Villain); quiet-biography (as Villain); quiet-biography (as Villain); quiet-biography (as Villain); quiet-biography (as Villain); quiet-biography (as Villain); quiet-biography (as Villain); quiet-biography (as Villain); quiet-biography (as Villain); quiet-biography (as Villain); quiet-biography (as Villain); quiet-biography (as Villain); quiet-biography (as Villain); quiet-biography (as Villain); quiet-biography (as Villain); quiet-biography (as Villain); quiet-biography (as Villain); quiet-biography (as Villain); quiet-biography (as Villain); quiet-biography (as Villain); quiet-biography (as Villain); quiet-biography (as Villain); quiet-biography (as Villain); quiet-biography (as Villain); quiet-biography (as Villain); quiet-biography (as Villain); quiet-biography (as Villain); quiet-biography (as Villain); quiet-biography (as Villain); quiet-biography (as Villain); quiet-biography (as Villain); quiet-biography (as Villain); quiet-biography (as Villain); quiet-biography (as Villain); quiet-biography (as Villain); quiet-biography (as Villain); quiet-biography (as Villain); quiet-biography (as Villain); quiet-biography (as Villain); quiet-biography (as Villain); quiet-biography (as Villain); quiet-biography (as Villain); quiet-biography (as Villain); quiet-biography (as Villain); quiet-biography (as Villain); quiet-biography (as Villain); quiet-biography (as Villain); quiet-biography (as Villain); quiet-biography (as Villain); quiet-biography (as Villain); quiet-biography (as Villain); quiet-biography (as Villain); quiet-biography (as Villain); quiet-biography (as Villain); quiet-biography (as Villain); teal-complement (as Hero); teal-complement (as Hero); teal-complement (as Hero); teal-complement (as Hero); teal-complement (as Hero); teal-complement (as Hero); teal-complement (as Hero); teal-complement (as Hero); teal-complement (as Hero); teal-complement (as Hero); teal-complement (as Hero); teal-complement (as Hero); teal-complement (as Hero); teal-complement (as Hero); teal-complement (as Hero); teal-complement (as Hero); teal-complement (as Hero); teal-complement (as Hero); teal-complement (as Hero); teal-complement (as Hero); teal-complement (as Hero); teal-complement (as Hero); teal-complement (as Hero); teal-complement (as Hero); teal-complement (as Hero); teal-complement (as Hero); teal-complement (as Hero); teal-complement (as Hero); teal-complement (as Hero); teal-complement (as Hero); teal-complement (as Hero); teal-complement (as Hero); teal-complement (as Hero); teal-complement (as Hero); teal-complement (as Hero); teal-complement (as Hero); teal-complement (as Hero); teal-complement (as Hero); teal-complement (as Hero); teal-complement (as Hero); teal-complement (as Hero); teal-complement (as Hero); teal-complement (as Hero); teal-complement (as Hero); teal-complement (as Hero); teal-complement (as Hero); teal-complement (as Hero); teal-complement (as Hero); teal-complement (as Hero); teal-complement (as Hero); teal-complement (as Hero); teal-complement (as Hero); teal-complement (as Hero); teal-complement (as Hero); teal-complement (as Hero); teal-complement (as Hero); teal-complement (as Hero); teal-complement (as Hero); teal-complement (as Hero); latent-curry (as Villain); latent-curry (as Villain); latent-curry (as Villain); latent-curry (as Villain); latent-curry (as Villain); latent-curry (as Villain); latent-curry (as Villain); latent-curry (as Villain); latent-curry (as Villain); latent-curry (as Villain); latent-curry (as Villain); latent-curry (as Villain); latent-curry (as Villain); latent-curry (as Villain); latent-curry (as Villain); latent-curry (as Villain); latent-curry (as Villain); latent-curry (as Villain); latent-curry (as Villain); latent-curry (as Villain); latent-curry (as Villain); latent-curry (as Villain); latent-curry (as Villain); latent-curry (as Villain); latent-curry (as Villain); latent-curry (as Villain); latent-curry (as Villain); latent-curry (as Villain); latent-curry (as Villain); latent-curry (as Villain); latent-curry (as Villain); latent-curry (as Villain); latent-curry (as Villain); latent-curry (as Villain); latent-curry (as Villain); latent-curry (as Villain); latent-curry (as Villain); latent-curry (as Villain); latent-curry (as Villain); latent-curry (as Villain); latent-curry (as Villain); latent-curry (as Villain); latent-curry (as Villain); latent-curry (as Villain); latent-curry (as Villain); latent-curry (as Villain); latent-curry (as Villain); latent-curry (as Villain); latent-curry (as Villain); latent-curry (as Villain); latent-curry (as Villain); latent-curry (as Villain); latent-curry (as Villain); latent-curry (as Villain); latent-curry (as Villain); latent-curry (as Villain); latent-curry (as Villain); latent-curry (as Villain); latent-curry (as Villain); tossed-cart (as Protagonist); tossed-cart (as Protagonist); tossed-cart (as Protagonist); tossed-cart (as Protagonist); tossed-cart (as Protagonist); tossed-cart (as Protagonist); tossed-cart (as Protagonist); tossed-cart (as Protagonist); tossed-cart (as Protagonist); tossed-cart (as Protagonist); tossed-cart (as Protagonist); tossed-cart (as Protagonist); tossed-cart (as Protagonist); tossed-cart (as Protagonist); tossed-cart (as Protagonist); tossed-cart (as Protagonist); tossed-cart (as Protagonist); tossed-cart (as Protagonist); tossed-cart (as Protagonist); tossed-cart (as Protagonist); tossed-cart (as Protagonist); tossed-cart (as Protagonist); tossed-cart (as Protagonist); tossed-cart (as Protagonist); tossed-cart (as Protagonist); tossed-cart (as Protagonist); tossed-cart (as Protagonist); tossed-cart (as Protagonist); tossed-cart (as Protagonist); tossed-cart (as Protagonist); tossed-cart (as Protagonist); tossed-cart (as Protagonist); tossed-cart (as Protagonist); tossed-cart (as Protagonist); tossed-cart (as Protagonist); tossed-cart (as Protagonist); tossed-cart (as Protagonist); tossed-cart (as Protagonist); tossed-cart (as Protagonist); tossed-cart (as Protagonist); tossed-cart (as Protagonist); tossed-cart (as Protagonist); tossed-cart (as Protagonist); tossed-cart (as Protagonist); tossed-cart (as Protagonist); tossed-cart (as Protagonist); tossed-cart (as Protagonist); tossed-cart (as Protagonist); tossed-cart (as Protagonist); tossed-cart (as Protagonist); tossed-cart (as Protagonist); tossed-cart (as Protagonist); tossed-cart (as Protagonist); tossed-cart (as Protagonist); tossed-cart (as Protagonist); tossed-cart (as Protagonist); tossed-cart (as Protagonist); tossed-cart (as Protagonist); tossed-cart (as Protagonist); white-sweeper (as Antagonist); white-sweeper (as Antagonist); white-sweeper (as Antagonist); white-sweeper (as Antagonist); white-sweeper (as Antagonist); white-sweeper (as Antagonist); white-sweeper (as Antagonist); white-sweeper (as Antagonist); white-sweeper (as Antagonist); white-sweeper (as Antagonist); white-sweeper (as Antagonist); white-sweeper (as Antagonist); white-sweeper (as Antagonist); white-sweeper (as Antagonist); white-sweeper (as Antagonist); white-sweeper (as Antagonist); white-sweeper (as Antagonist); white-sweeper (as Antagonist); white-sweeper (as Antagonist); white-sweeper (as Antagonist); white-sweeper (as Antagonist); white-sweeper (as Antagonist); white-sweeper (as Antagonist); white-sweeper (as Antagonist); white-sweeper (as Antagonist); white-sweeper (as Antagonist); white-sweeper (as Antagonist); white-sweeper (as Antagonist); white-sweeper (as Antagonist); white-sweeper (as Antagonist); white-sweeper (as Antagonist); white-sweeper (as Antagonist); white-sweeper (as Antagonist); white-sweeper (as Antagonist); white-sweeper (as Antagonist); white-sweeper (as Antagonist); white-sweeper (as Antagonist); white-sweeper (as Antagonist); white-sweeper (as Antagonist); white-sweeper (as Antagonist); white-sweeper (as Antagonist); white-sweeper (as Antagonist); white-sweeper (as Antagonist); white-sweeper (as Antagonist); white-sweeper (as Antagonist); white-sweeper (as Antagonist); white-sweeper (as Antagonist); white-sweeper (as Antagonist); white-sweeper (as Antagonist); white-sweeper (as Antagonist); white-sweeper (as Antagonist); white-sweeper (as Antagonist); white-sweeper (as Antagonist); white-sweeper (as Antagonist); white-sweeper (as Antagonist); white-sweeper (as Antagonist); white-sweeper (as Antagonist); white-sweeper (as Antagonist); white-sweeper (as Antagonist)\\', \\'total_reviews\\': 295, \\'average_rating\\': 5.32, \\'all_reviews_details\\': \"(frozen-classifier - 5/10): An instant classic, I\\'ll watch it again. The plot twists kept me on the edge of my seat.\\\\n--- (moderato-mushroom - 3/10): Overrated and predictable. Absolutely terrible, wasted my time.\\\\n--- (unsolvable-pond - 10/10): Visually stunning, highly recommend! Absolutely terrible, wasted my time.\\\\n--- (hot-ricotta - 5/10): Great acting, weak script. Absolutely terrible, wasted my time.\\\\n--- (topped-flat - 3/10): A must-watch! Captivating story and brilliant performances. An instant classic, I\\'ll watch it again.\\\\n--- (proper-taco - 9/10): Absolutely terrible, wasted my time. Visually stunning, highly recommend!\\\\n--- (exhaustive-cornice - 7/10): Surprisingly good, exceeded my expectations. Visually stunning, highly recommend!\\\\n--- (canary-slider - 9/10): The plot twists kept me on the edge of my seat. Decent movie, but a bit slow in the middle.\\\\n--- (rowdy-sound - 1/10): Surprisingly good, exceeded my expectations. Visually stunning, highly recommend!\\\\n--- (complete-ringtone - 5/10): The plot twists kept me on the edge of my seat. An instant classic, I\\'ll watch it again.\\\\n--- (animato-space - 7/10): Surprisingly good, exceeded my expectations. An instant classic, I\\'ll watch it again.\\\\n--- (savage-soccer - 2/10): Visually stunning, highly recommend! Decent movie, but a bit slow in the middle.\\\\n--- (teal-ascender - 4/10): An instant classic, I\\'ll watch it again. Decent movie, but a bit slow in the middle.\\\\n--- (tractable-melody - 7/10): Overrated and predictable. Surprisingly good, exceeded my expectations.\\\\n--- (cheesy-ray - 7/10): A true cinematic masterpiece. Overrated and predictable.\\\\n--- (savory-ohm - 2/10): A true cinematic masterpiece. A true cinematic masterpiece.\\\\n--- (genteel-anthology - 2/10): Decent movie, but a bit slow in the middle. Great acting, weak script.\\\\n--- (senior-emboss - 4/10): An instant classic, I\\'ll watch it again. Surprisingly good, exceeded my expectations.\\\\n--- (worn-chock - 1/10): The plot twists kept me on the edge of my seat. A true cinematic masterpiece.\\\\n--- (humid-store - 2/10): An instant classic, I\\'ll watch it again. Decent movie, but a bit slow in the middle.\\\\n--- (noisy-angler - 1/10): The plot twists kept me on the edge of my seat. Visually stunning, highly recommend!\\\\n--- (steel-weed - 10/10): Decent movie, but a bit slow in the middle. The plot twists kept me on the edge of my seat.\\\\n--- (active-parkway - 6/10): Surprisingly good, exceeded my expectations. A true cinematic masterpiece.\\\\n--- (internal-permutation - 2/10): A must-watch! Captivating story and brilliant performances. The plot twists kept me on the edge of my seat.\\\\n--- (regular-dope - 2/10): Surprisingly good, exceeded my expectations. The plot twists kept me on the edge of my seat.\\\\n--- (nullary-pattern - 8/10): Surprisingly good, exceeded my expectations. Decent movie, but a bit slow in the middle.\\\\n--- (ordered-space - 6/10): An instant classic, I\\'ll watch it again. Decent movie, but a bit slow in the middle.\\\\n--- (silver-taxi - 5/10): Overrated and predictable. A must-watch! Captivating story and brilliant performances.\\\\n--- (absolute-sardine - 10/10): Decent movie, but a bit slow in the middle. Surprisingly good, exceeded my expectations.\\\\n--- (customer-volume - 5/10): Overrated and predictable. Decent movie, but a bit slow in the middle.\\\\n--- (wide-motor - 6/10): A must-watch! Captivating story and brilliant performances. Visually stunning, highly recommend!\\\\n--- (district-paddle - 9/10): An instant classic, I\\'ll watch it again. Overrated and predictable.\\\\n--- (quiet-score - 10/10): Great acting, weak script. Visually stunning, highly recommend!\\\\n--- (connected-redshift - 9/10): Great acting, weak script. The plot twists kept me on the edge of my seat.\\\\n--- (simmered-channel - 10/10): The plot twists kept me on the edge of my seat. Visually stunning, highly recommend!\\\\n--- (polynomial-template - 2/10): Surprisingly good, exceeded my expectations. The plot twists kept me on the edge of my seat.\\\\n--- (juvenile-maltese - 3/10): Absolutely terrible, wasted my time. The plot twists kept me on the edge of my seat.\\\\n--- (seasoned-fennel - 5/10): A must-watch! Captivating story and brilliant performances. An instant classic, I\\'ll watch it again.\\\\n--- (nippy-eagle - 7/10): The plot twists kept me on the edge of my seat. A must-watch! Captivating story and brilliant performances.\\\\n--- (distinct-port - 1/10): The plot twists kept me on the edge of my seat. An instant classic, I\\'ll watch it again.\\\\n--- (sienna-fixed - 9/10): Great acting, weak script. Surprisingly good, exceeded my expectations.\\\\n--- (golden-emerald - 8/10): The plot twists kept me on the edge of my seat. The plot twists kept me on the edge of my seat.\\\\n--- (brownian-cabin - 2/10): A must-watch! Captivating story and brilliant performances. Overrated and predictable.\\\\n--- (glass-cell - 2/10): An instant classic, I\\'ll watch it again. The plot twists kept me on the edge of my seat.\\\\n--- (snow-squircle - 4/10): Decent movie, but a bit slow in the middle. Absolutely terrible, wasted my time.\\\\n--- (aquamarine-web - 10/10): An instant classic, I\\'ll watch it again. A true cinematic masterpiece.\\\\n--- (oily-fort - 2/10): Visually stunning, highly recommend! Visually stunning, highly recommend!\\\\n--- (excited-cherry - 9/10): Great acting, weak script. Decent movie, but a bit slow in the middle.\\\\n--- (curious-square - 2/10): A must-watch! Captivating story and brilliant performances. A must-watch! Captivating story and brilliant performances.\\\\n--- (coplanar-shoot - 7/10): Great acting, weak script. Absolutely terrible, wasted my time.\\\\n--- (zingy-squash - 5/10): Decent movie, but a bit slow in the middle. A true cinematic masterpiece.\\\\n--- (adjacent-pique - 8/10): Great acting, weak script. Overrated and predictable.\\\\n--- (faint-concept - 4/10): Absolutely terrible, wasted my time. The plot twists kept me on the edge of my seat.\\\\n--- (devout-sample - 1/10): The plot twists kept me on the edge of my seat. Absolutely terrible, wasted my time.\\\\n--- (dense-pulse - 9/10): The plot twists kept me on the edge of my seat. Decent movie, but a bit slow in the middle.\\\\n--- (religious-davit - 4/10): An instant classic, I\\'ll watch it again. Absolutely terrible, wasted my time.\\\\n--- (warm-thinner - 2/10): Overrated and predictable. Absolutely terrible, wasted my time.\\\\n--- (dark-soccer - 6/10): Visually stunning, highly recommend! A true cinematic masterpiece.\\\\n--- (flush-medal - 8/10): Decent movie, but a bit slow in the middle. Decent movie, but a bit slow in the middle.\\\\n--- (frozen-classifier - 5/10): An instant classic, I\\'ll watch it again. The plot twists kept me on the edge of my seat.\\\\n--- (moderato-mushroom - 3/10): Overrated and predictable. Absolutely terrible, wasted my time.\\\\n--- (unsolvable-pond - 10/10): Visually stunning, highly recommend! Absolutely terrible, wasted my time.\\\\n--- (hot-ricotta - 5/10): Great acting, weak script. Absolutely terrible, wasted my time.\\\\n--- (topped-flat - 3/10): A must-watch! Captivating story and brilliant performances. An instant classic, I\\'ll watch it again.\\\\n--- (proper-taco - 9/10): Absolutely terrible, wasted my time. Visually stunning, highly recommend!\\\\n--- (exhaustive-cornice - 7/10): Surprisingly good, exceeded my expectations. Visually stunning, highly recommend!\\\\n--- (canary-slider - 9/10): The plot twists kept me on the edge of my seat. Decent movie, but a bit slow in the middle.\\\\n--- (rowdy-sound - 1/10): Surprisingly good, exceeded my expectations. Visually stunning, highly recommend!\\\\n--- (complete-ringtone - 5/10): The plot twists kept me on the edge of my seat. An instant classic, I\\'ll watch it again.\\\\n--- (animato-space - 7/10): Surprisingly good, exceeded my expectations. An instant classic, I\\'ll watch it again.\\\\n--- (savage-soccer - 2/10): Visually stunning, highly recommend! Decent movie, but a bit slow in the middle.\\\\n--- (teal-ascender - 4/10): An instant classic, I\\'ll watch it again. Decent movie, but a bit slow in the middle.\\\\n--- (tractable-melody - 7/10): Overrated and predictable. Surprisingly good, exceeded my expectations.\\\\n--- (cheesy-ray - 7/10): A true cinematic masterpiece. Overrated and predictable.\\\\n--- (savory-ohm - 2/10): A true cinematic masterpiece. A true cinematic masterpiece.\\\\n--- (genteel-anthology - 2/10): Decent movie, but a bit slow in the middle. Great acting, weak script.\\\\n--- (senior-emboss - 4/10): An instant classic, I\\'ll watch it again. Surprisingly good, exceeded my expectations.\\\\n--- (worn-chock - 1/10): The plot twists kept me on the edge of my seat. A true cinematic masterpiece.\\\\n--- (humid-store - 2/10): An instant classic, I\\'ll watch it again. Decent movie, but a bit slow in the middle.\\\\n--- (noisy-angler - 1/10): The plot twists kept me on the edge of my seat. Visually stunning, highly recommend!\\\\n--- (steel-weed - 10/10): Decent movie, but a bit slow in the middle. The plot twists kept me on the edge of my seat.\\\\n--- (active-parkway - 6/10): Surprisingly good, exceeded my expectations. A true cinematic masterpiece.\\\\n--- (internal-permutation - 2/10): A must-watch! Captivating story and brilliant performances. The plot twists kept me on the edge of my seat.\\\\n--- (regular-dope - 2/10): Surprisingly good, exceeded my expectations. The plot twists kept me on the edge of my seat.\\\\n--- (nullary-pattern - 8/10): Surprisingly good, exceeded my expectations. Decent movie, but a bit slow in the middle.\\\\n--- (ordered-space - 6/10): An instant classic, I\\'ll watch it again. Decent movie, but a bit slow in the middle.\\\\n--- (silver-taxi - 5/10): Overrated and predictable. A must-watch! Captivating story and brilliant performances.\\\\n--- (absolute-sardine - 10/10): Decent movie, but a bit slow in the middle. Surprisingly good, exceeded my expectations.\\\\n--- (customer-volume - 5/10): Overrated and predictable. Decent movie, but a bit slow in the middle.\\\\n--- (wide-motor - 6/10): A must-watch! Captivating story and brilliant performances. Visually stunning, highly recommend!\\\\n--- (district-paddle - 9/10): An instant classic, I\\'ll watch it again. Overrated and predictable.\\\\n--- (quiet-score - 10/10): Great acting, weak script. Visually stunning, highly recommend!\\\\n--- (connected-redshift - 9/10): Great acting, weak script. The plot twists kept me on the edge of my seat.\\\\n--- (simmered-channel - 10/10): The plot twists kept me on the edge of my seat. Visually stunning, highly recommend!\\\\n--- (polynomial-template - 2/10): Surprisingly good, exceeded my expectations. The plot twists kept me on the edge of my seat.\\\\n--- (juvenile-maltese - 3/10): Absolutely terrible, wasted my time. The plot twists kept me on the edge of my seat.\\\\n--- (seasoned-fennel - 5/10): A must-watch! Captivating story and brilliant performances. An instant classic, I\\'ll watch it again.\\\\n--- (nippy-eagle - 7/10): The plot twists kept me on the edge of my seat. A must-watch! Captivating story and brilliant performances.\\\\n--- (distinct-port - 1/10): The plot twists kept me on the edge of my seat. An instant classic, I\\'ll watch it again.\\\\n--- (sienna-fixed - 9/10): Great acting, weak script. Surprisingly good, exceeded my expectations.\\\\n--- (golden-emerald - 8/10): The plot twists kept me on the edge of my seat. The plot twists kept me on the edge of my seat.\\\\n--- (brownian-cabin - 2/10): A must-watch! Captivating story and brilliant performances. Overrated and predictable.\\\\n--- (glass-cell - 2/10): An instant classic, I\\'ll watch it again. The plot twists kept me on the edge of my seat.\\\\n--- (snow-squircle - 4/10): Decent movie, but a bit slow in the middle. Absolutely terrible, wasted my time.\\\\n--- (aquamarine-web - 10/10): An instant classic, I\\'ll watch it again. A true cinematic masterpiece.\\\\n--- (oily-fort - 2/10): Visually stunning, highly recommend! Visually stunning, highly recommend!\\\\n--- (excited-cherry - 9/10): Great acting, weak script. Decent movie, but a bit slow in the middle.\\\\n--- (curious-square - 2/10): A must-watch! Captivating story and brilliant performances. A must-watch! Captivating story and brilliant performances.\\\\n--- (coplanar-shoot - 7/10): Great acting, weak script. Absolutely terrible, wasted my time.\\\\n--- (zingy-squash - 5/10): Decent movie, but a bit slow in the middle. A true cinematic masterpiece.\\\\n--- (adjacent-pique - 8/10): Great acting, weak script. Overrated and predictable.\\\\n--- (faint-concept - 4/10): Absolutely terrible, wasted my time. The plot twists kept me on the edge of my seat.\\\\n--- (devout-sample - 1/10): The plot twists kept me on the edge of my seat. Absolutely terrible, wasted my time.\\\\n--- (dense-pulse - 9/10): The plot twists kept me on the edge of my seat. Decent movie, but a bit slow in the middle.\\\\n--- (religious-davit - 4/10): An instant classic, I\\'ll watch it again. Absolutely terrible, wasted my time.\\\\n--- (warm-thinner - 2/10): Overrated and predictable. Absolutely terrible, wasted my time.\\\\n--- (dark-soccer - 6/10): Visually stunning, highly recommend! A true cinematic masterpiece.\\\\n--- (flush-medal - 8/10): Decent movie, but a bit slow in the middle. Decent movie, but a bit slow in the middle.\\\\n--- (frozen-classifier - 5/10): An instant classic, I\\'ll watch it again. The plot twists kept me on the edge of my seat.\\\\n--- (moderato-mushroom - 3/10): Overrated and predictable. Absolutely terrible, wasted my time.\\\\n--- (unsolvable-pond - 10/10): Visually stunning, highly recommend! Absolutely terrible, wasted my time.\\\\n--- (hot-ricotta - 5/10): Great acting, weak script. Absolutely terrible, wasted my time.\\\\n--- (topped-flat - 3/10): A must-watch! Captivating story and brilliant performances. An instant classic, I\\'ll watch it again.\\\\n--- (proper-taco - 9/10): Absolutely terrible, wasted my time. Visually stunning, highly recommend!\\\\n--- (exhaustive-cornice - 7/10): Surprisingly good, exceeded my expectations. Visually stunning, highly recommend!\\\\n--- (canary-slider - 9/10): The plot twists kept me on the edge of my seat. Decent movie, but a bit slow in the middle.\\\\n--- (rowdy-sound - 1/10): Surprisingly good, exceeded my expectations. Visually stunning, highly recommend!\\\\n--- (complete-ringtone - 5/10): The plot twists kept me on the edge of my seat. An instant classic, I\\'ll watch it again.\\\\n--- (animato-space - 7/10): Surprisingly good, exceeded my expectations. An instant classic, I\\'ll watch it again.\\\\n--- (savage-soccer - 2/10): Visually stunning, highly recommend! Decent movie, but a bit slow in the middle.\\\\n--- (teal-ascender - 4/10): An instant classic, I\\'ll watch it again. Decent movie, but a bit slow in the middle.\\\\n--- (tractable-melody - 7/10): Overrated and predictable. Surprisingly good, exceeded my expectations.\\\\n--- (cheesy-ray - 7/10): A true cinematic masterpiece. Overrated and predictable.\\\\n--- (savory-ohm - 2/10): A true cinematic masterpiece. A true cinematic masterpiece.\\\\n--- (genteel-anthology - 2/10): Decent movie, but a bit slow in the middle. Great acting, weak script.\\\\n--- (senior-emboss - 4/10): An instant classic, I\\'ll watch it again. Surprisingly good, exceeded my expectations.\\\\n--- (worn-chock - 1/10): The plot twists kept me on the edge of my seat. A true cinematic masterpiece.\\\\n--- (humid-store - 2/10): An instant classic, I\\'ll watch it again. Decent movie, but a bit slow in the middle.\\\\n--- (noisy-angler - 1/10): The plot twists kept me on the edge of my seat. Visually stunning, highly recommend!\\\\n--- (steel-weed - 10/10): Decent movie, but a bit slow in the middle. The plot twists kept me on the edge of my seat.\\\\n--- (active-parkway - 6/10): Surprisingly good, exceeded my expectations. A true cinematic masterpiece.\\\\n--- (internal-permutation - 2/10): A must-watch! Captivating story and brilliant performances. The plot twists kept me on the edge of my seat.\\\\n--- (regular-dope - 2/10): Surprisingly good, exceeded my expectations. The plot twists kept me on the edge of my seat.\\\\n--- (nullary-pattern - 8/10): Surprisingly good, exceeded my expectations. Decent movie, but a bit slow in the middle.\\\\n--- (ordered-space - 6/10): An instant classic, I\\'ll watch it again. Decent movie, but a bit slow in the middle.\\\\n--- (silver-taxi - 5/10): Overrated and predictable. A must-watch! Captivating story and brilliant performances.\\\\n--- (absolute-sardine - 10/10): Decent movie, but a bit slow in the middle. Surprisingly good, exceeded my expectations.\\\\n--- (customer-volume - 5/10): Overrated and predictable. Decent movie, but a bit slow in the middle.\\\\n--- (wide-motor - 6/10): A must-watch! Captivating story and brilliant performances. Visually stunning, highly recommend!\\\\n--- (district-paddle - 9/10): An instant classic, I\\'ll watch it again. Overrated and predictable.\\\\n--- (quiet-score - 10/10): Great acting, weak script. Visually stunning, highly recommend!\\\\n--- (connected-redshift - 9/10): Great acting, weak script. The plot twists kept me on the edge of my seat.\\\\n--- (simmered-channel - 10/10): The plot twists kept me on the edge of my seat. Visually stunning, highly recommend!\\\\n--- (polynomial-template - 2/10): Surprisingly good, exceeded my expectations. The plot twists kept me on the edge of my seat.\\\\n--- (juvenile-maltese - 3/10): Absolutely terrible, wasted my time. The plot twists kept me on the edge of my seat.\\\\n--- (seasoned-fennel - 5/10): A must-watch! Captivating story and brilliant performances. An instant classic, I\\'ll watch it again.\\\\n--- (nippy-eagle - 7/10): The plot twists kept me on the edge of my seat. A must-watch! Captivating story and brilliant performances.\\\\n--- (distinct-port - 1/10): The plot twists kept me on the edge of my seat. An instant classic, I\\'ll watch it again.\\\\n--- (sienna-fixed - 9/10): Great acting, weak script. Surprisingly good, exceeded my expectations.\\\\n--- (golden-emerald - 8/10): The plot twists kept me on the edge of my seat. The plot twists kept me on the edge of my seat.\\\\n--- (brownian-cabin - 2/10): A must-watch! Captivating story and brilliant performances. Overrated and predictable.\\\\n--- (glass-cell - 2/10): An instant classic, I\\'ll watch it again. The plot twists kept me on the edge of my seat.\\\\n--- (snow-squircle - 4/10): Decent movie, but a bit slow in the middle. Absolutely terrible, wasted my time.\\\\n--- (aquamarine-web - 10/10): An instant classic, I\\'ll watch it again. A true cinematic masterpiece.\\\\n--- (oily-fort - 2/10): Visually stunning, highly recommend! Visually stunning, highly recommend!\\\\n--- (excited-cherry - 9/10): Great acting, weak script. Decent movie, but a bit slow in the middle.\\\\n--- (curious-square - 2/10): A must-watch! Captivating story and brilliant performances. A must-watch! Captivating story and brilliant performances.\\\\n--- (coplanar-shoot - 7/10): Great acting, weak script. Absolutely terrible, wasted my time.\\\\n--- (zingy-squash - 5/10): Decent movie, but a bit slow in the middle. A true cinematic masterpiece.\\\\n--- (adjacent-pique - 8/10): Great acting, weak script. Overrated and predictable.\\\\n--- (faint-concept - 4/10): Absolutely terrible, wasted my time. The plot twists kept me on the edge of my seat.\\\\n--- (devout-sample - 1/10): The plot twists kept me on the edge of my seat. Absolutely terrible, wasted my time.\\\\n--- (dense-pulse - 9/10): The plot twists kept me on the edge of my seat. Decent movie, but a bit slow in the middle.\\\\n--- (religious-davit - 4/10): An instant classic, I\\'ll watch it again. Absolutely terrible, wasted my time.\\\\n--- (warm-thinner - 2/10): Overrated and predictable. Absolutely terrible, wasted my time.\\\\n--- (dark-soccer - 6/10): Visually stunning, highly recommend! A true cinematic masterpiece.\\\\n--- (flush-medal - 8/10): Decent movie, but a bit slow in the middle. Decent movie, but a bit slow in the middle.\\\\n--- (frozen-classifier - 5/10): An instant classic, I\\'ll watch it again. The plot twists kept me on the edge of my seat.\\\\n--- (moderato-mushroom - 3/10): Overrated and predictable. Absolutely terrible, wasted my time.\\\\n--- (unsolvable-pond - 10/10): Visually stunning, highly recommend! Absolutely terrible, wasted my time.\\\\n--- (hot-ricotta - 5/10): Great acting, weak script. Absolutely terrible, wasted my time.\\\\n--- (topped-flat - 3/10): A must-watch! Captivating story and brilliant performances. An instant classic, I\\'ll watch it again.\\\\n--- (proper-taco - 9/10): Absolutely terrible, wasted my time. Visually stunning, highly recommend!\\\\n--- (exhaustive-cornice - 7/10): Surprisingly good, exceeded my expectations. Visually stunning, highly recommend!\\\\n--- (canary-slider - 9/10): The plot twists kept me on the edge of my seat. Decent movie, but a bit slow in the middle.\\\\n--- (rowdy-sound - 1/10): Surprisingly good, exceeded my expectations. Visually stunning, highly recommend!\\\\n--- (complete-ringtone - 5/10): The plot twists kept me on the edge of my seat. An instant classic, I\\'ll watch it again.\\\\n--- (animato-space - 7/10): Surprisingly good, exceeded my expectations. An instant classic, I\\'ll watch it again.\\\\n--- (savage-soccer - 2/10): Visually stunning, highly recommend! Decent movie, but a bit slow in the middle.\\\\n--- (teal-ascender - 4/10): An instant classic, I\\'ll watch it again. Decent movie, but a bit slow in the middle.\\\\n--- (tractable-melody - 7/10): Overrated and predictable. Surprisingly good, exceeded my expectations.\\\\n--- (cheesy-ray - 7/10): A true cinematic masterpiece. Overrated and predictable.\\\\n--- (savory-ohm - 2/10): A true cinematic masterpiece. A true cinematic masterpiece.\\\\n--- (genteel-anthology - 2/10): Decent movie, but a bit slow in the middle. Great acting, weak script.\\\\n--- (senior-emboss - 4/10): An instant classic, I\\'ll watch it again. Surprisingly good, exceeded my expectations.\\\\n--- (worn-chock - 1/10): The plot twists kept me on the edge of my seat. A true cinematic masterpiece.\\\\n--- (humid-store - 2/10): An instant classic, I\\'ll watch it again. Decent movie, but a bit slow in the middle.\\\\n--- (noisy-angler - 1/10): The plot twists kept me on the edge of my seat. Visually stunning, highly recommend!\\\\n--- (steel-weed - 10/10): Decent movie, but a bit slow in the middle. The plot twists kept me on the edge of my seat.\\\\n--- (active-parkway - 6/10): Surprisingly good, exceeded my expectations. A true cinematic masterpiece.\\\\n--- (internal-permutation - 2/10): A must-watch! Captivating story and brilliant performances. The plot twists kept me on the edge of my seat.\\\\n--- (regular-dope - 2/10): Surprisingly good, exceeded my expectations. The plot twists kept me on the edge of my seat.\\\\n--- (nullary-pattern - 8/10): Surprisingly good, exceeded my expectations. Decent movie, but a bit slow in the middle.\\\\n--- (ordered-space - 6/10): An instant classic, I\\'ll watch it again. Decent movie, but a bit slow in the middle.\\\\n--- (silver-taxi - 5/10): Overrated and predictable. A must-watch! Captivating story and brilliant performances.\\\\n--- (absolute-sardine - 10/10): Decent movie, but a bit slow in the middle. Surprisingly good, exceeded my expectations.\\\\n--- (customer-volume - 5/10): Overrated and predictable. Decent movie, but a bit slow in the middle.\\\\n--- (wide-motor - 6/10): A must-watch! Captivating story and brilliant performances. Visually stunning, highly recommend!\\\\n--- (district-paddle - 9/10): An instant classic, I\\'ll watch it again. Overrated and predictable.\\\\n--- (quiet-score - 10/10): Great acting, weak script. Visually stunning, highly recommend!\\\\n--- (connected-redshift - 9/10): Great acting, weak script. The plot twists kept me on the edge of my seat.\\\\n--- (simmered-channel - 10/10): The plot twists kept me on the edge of my seat. Visually stunning, highly recommend!\\\\n--- (polynomial-template - 2/10): Surprisingly good, exceeded my expectations. The plot twists kept me on the edge of my seat.\\\\n--- (juvenile-maltese - 3/10): Absolutely terrible, wasted my time. The plot twists kept me on the edge of my seat.\\\\n--- (seasoned-fennel - 5/10): A must-watch! Captivating story and brilliant performances. An instant classic, I\\'ll watch it again.\\\\n--- (nippy-eagle - 7/10): The plot twists kept me on the edge of my seat. A must-watch! Captivating story and brilliant performances.\\\\n--- (distinct-port - 1/10): The plot twists kept me on the edge of my seat. An instant classic, I\\'ll watch it again.\\\\n--- (sienna-fixed - 9/10): Great acting, weak script. Surprisingly good, exceeded my expectations.\\\\n--- (golden-emerald - 8/10): The plot twists kept me on the edge of my seat. The plot twists kept me on the edge of my seat.\\\\n--- (brownian-cabin - 2/10): A must-watch! Captivating story and brilliant performances. Overrated and predictable.\\\\n--- (glass-cell - 2/10): An instant classic, I\\'ll watch it again. The plot twists kept me on the edge of my seat.\\\\n--- (snow-squircle - 4/10): Decent movie, but a bit slow in the middle. Absolutely terrible, wasted my time.\\\\n--- (aquamarine-web - 10/10): An instant classic, I\\'ll watch it again. A true cinematic masterpiece.\\\\n--- (oily-fort - 2/10): Visually stunning, highly recommend! Visually stunning, highly recommend!\\\\n--- (excited-cherry - 9/10): Great acting, weak script. Decent movie, but a bit slow in the middle.\\\\n--- (curious-square - 2/10): A must-watch! Captivating story and brilliant performances. A must-watch! Captivating story and brilliant performances.\\\\n--- (coplanar-shoot - 7/10): Great acting, weak script. Absolutely terrible, wasted my time.\\\\n--- (zingy-squash - 5/10): Decent movie, but a bit slow in the middle. A true cinematic masterpiece.\\\\n--- (adjacent-pique - 8/10): Great acting, weak script. Overrated and predictable.\\\\n--- (faint-concept - 4/10): Absolutely terrible, wasted my time. The plot twists kept me on the edge of my seat.\\\\n--- (devout-sample - 1/10): The plot twists kept me on the edge of my seat. Absolutely terrible, wasted my time.\\\\n--- (dense-pulse - 9/10): The plot twists kept me on the edge of my seat. Decent movie, but a bit slow in the middle.\\\\n--- (religious-davit - 4/10): An instant classic, I\\'ll watch it again. Absolutely terrible, wasted my time.\\\\n--- (warm-thinner - 2/10): Overrated and predictable. Absolutely terrible, wasted my time.\\\\n--- (dark-soccer - 6/10): Visually stunning, highly recommend! A true cinematic masterpiece.\\\\n--- (flush-medal - 8/10): Decent movie, but a bit slow in the middle. Decent movie, but a bit slow in the middle.\\\\n--- (frozen-classifier - 5/10): An instant classic, I\\'ll watch it again. The plot twists kept me on the edge of my seat.\\\\n--- (moderato-mushroom - 3/10): Overrated and predictable. Absolutely terrible, wasted my time.\\\\n--- (unsolvable-pond - 10/10): Visually stunning, highly recommend! Absolutely terrible, wasted my time.\\\\n--- (hot-ricotta - 5/10): Great acting, weak script. Absolutely terrible, wasted my time.\\\\n--- (topped-flat - 3/10): A must-watch! Captivating story and brilliant performances. An instant classic, I\\'ll watch it again.\\\\n--- (proper-taco - 9/10): Absolutely terrible, wasted my time. Visually stunning, highly recommend!\\\\n--- (exhaustive-cornice - 7/10): Surprisingly good, exceeded my expectations. Visually stunning, highly recommend!\\\\n--- (canary-slider - 9/10): The plot twists kept me on the edge of my seat. Decent movie, but a bit slow in the middle.\\\\n--- (rowdy-sound - 1/10): Surprisingly good, exceeded my expectations. Visually stunning, highly recommend!\\\\n--- (complete-ringtone - 5/10): The plot twists kept me on the edge of my seat. An instant classic, I\\'ll watch it again.\\\\n--- (animato-space - 7/10): Surprisingly good, exceeded my expectations. An instant classic, I\\'ll watch it again.\\\\n--- (savage-soccer - 2/10): Visually stunning, highly recommend! Decent movie, but a bit slow in the middle.\\\\n--- (teal-ascender - 4/10): An instant classic, I\\'ll watch it again. Decent movie, but a bit slow in the middle.\\\\n--- (tractable-melody - 7/10): Overrated and predictable. Surprisingly good, exceeded my expectations.\\\\n--- (cheesy-ray - 7/10): A true cinematic masterpiece. Overrated and predictable.\\\\n--- (savory-ohm - 2/10): A true cinematic masterpiece. A true cinematic masterpiece.\\\\n--- (genteel-anthology - 2/10): Decent movie, but a bit slow in the middle. Great acting, weak script.\\\\n--- (senior-emboss - 4/10): An instant classic, I\\'ll watch it again. Surprisingly good, exceeded my expectations.\\\\n--- (worn-chock - 1/10): The plot twists kept me on the edge of my seat. A true cinematic masterpiece.\\\\n--- (humid-store - 2/10): An instant classic, I\\'ll watch it again. Decent movie, but a bit slow in the middle.\\\\n--- (noisy-angler - 1/10): The plot twists kept me on the edge of my seat. Visually stunning, highly recommend!\\\\n--- (steel-weed - 10/10): Decent movie, but a bit slow in the middle. The plot twists kept me on the edge of my seat.\\\\n--- (active-parkway - 6/10): Surprisingly good, exceeded my expectations. A true cinematic masterpiece.\\\\n--- (internal-permutation - 2/10): A must-watch! Captivating story and brilliant performances. The plot twists kept me on the edge of my seat.\\\\n--- (regular-dope - 2/10): Surprisingly good, exceeded my expectations. The plot twists kept me on the edge of my seat.\\\\n--- (nullary-pattern - 8/10): Surprisingly good, exceeded my expectations. Decent movie, but a bit slow in the middle.\\\\n--- (ordered-space - 6/10): An instant classic, I\\'ll watch it again. Decent movie, but a bit slow in the middle.\\\\n--- (silver-taxi - 5/10): Overrated and predictable. A must-watch! Captivating story and brilliant performances.\\\\n--- (absolute-sardine - 10/10): Decent movie, but a bit slow in the middle. Surprisingly good, exceeded my expectations.\\\\n--- (customer-volume - 5/10): Overrated and predictable. Decent movie, but a bit slow in the middle.\\\\n--- (wide-motor - 6/10): A must-watch! Captivating story and brilliant performances. Visually stunning, highly recommend!\\\\n--- (district-paddle - 9/10): An instant classic, I\\'ll watch it again. Overrated and predictable.\\\\n--- (quiet-score - 10/10): Great acting, weak script. Visually stunning, highly recommend!\\\\n--- (connected-redshift - 9/10): Great acting, weak script. The plot twists kept me on the edge of my seat.\\\\n--- (simmered-channel - 10/10): The plot twists kept me on the edge of my seat. Visually stunning, highly recommend!\\\\n--- (polynomial-template - 2/10): Surprisingly good, exceeded my expectations. The plot twists kept me on the edge of my seat.\\\\n--- (juvenile-maltese - 3/10): Absolutely terrible, wasted my time. The plot twists kept me on the edge of my seat.\\\\n--- (seasoned-fennel - 5/10): A must-watch! Captivating story and brilliant performances. An instant classic, I\\'ll watch it again.\\\\n--- (nippy-eagle - 7/10): The plot twists kept me on the edge of my seat. A must-watch! Captivating story and brilliant performances.\\\\n--- (distinct-port - 1/10): The plot twists kept me on the edge of my seat. An instant classic, I\\'ll watch it again.\\\\n--- (sienna-fixed - 9/10): Great acting, weak script. Surprisingly good, exceeded my expectations.\\\\n--- (golden-emerald - 8/10): The plot twists kept me on the edge of my seat. The plot twists kept me on the edge of my seat.\\\\n--- (brownian-cabin - 2/10): A must-watch! Captivating story and brilliant performances. Overrated and predictable.\\\\n--- (glass-cell - 2/10): An instant classic, I\\'ll watch it again. The plot twists kept me on the edge of my seat.\\\\n--- (snow-squircle - 4/10): Decent movie, but a bit slow in the middle. Absolutely terrible, wasted my time.\\\\n--- (aquamarine-web - 10/10): An instant classic, I\\'ll watch it again. A true cinematic masterpiece.\\\\n--- (oily-fort - 2/10): Visually stunning, highly recommend! Visually stunning, highly recommend!\\\\n--- (excited-cherry - 9/10): Great acting, weak script. Decent movie, but a bit slow in the middle.\\\\n--- (curious-square - 2/10): A must-watch! Captivating story and brilliant performances. A must-watch! Captivating story and brilliant performances.\\\\n--- (coplanar-shoot - 7/10): Great acting, weak script. Absolutely terrible, wasted my time.\\\\n--- (zingy-squash - 5/10): Decent movie, but a bit slow in the middle. A true cinematic masterpiece.\\\\n--- (adjacent-pique - 8/10): Great acting, weak script. Overrated and predictable.\\\\n--- (faint-concept - 4/10): Absolutely terrible, wasted my time. The plot twists kept me on the edge of my seat.\\\\n--- (devout-sample - 1/10): The plot twists kept me on the edge of my seat. Absolutely terrible, wasted my time.\\\\n--- (dense-pulse - 9/10): The plot twists kept me on the edge of my seat. Decent movie, but a bit slow in the middle.\\\\n--- (religious-davit - 4/10): An instant classic, I\\'ll watch it again. Absolutely terrible, wasted my time.\\\\n--- (warm-thinner - 2/10): Overrated and predictable. Absolutely terrible, wasted my time.\\\\n--- (dark-soccer - 6/10): Visually stunning, highly recommend! A true cinematic masterpiece.\\\\n--- (flush-medal - 8/10): Decent movie, but a bit slow in the middle. Decent movie, but a bit slow in the middle.\"}'"
            ],
            "application/vnd.google.colaboratory.intrinsic+json": {
              "type": "string"
            }
          },
          "metadata": {},
          "execution_count": 49
        }
      ]
    },
    {
      "cell_type": "code",
      "source": [],
      "metadata": {
        "id": "U_C95ex7l1bJ"
      },
      "execution_count": null,
      "outputs": []
    },
    {
      "cell_type": "code",
      "source": [
        "from langchain_community.embeddings import OllamaEmbeddings\n",
        "from langchain_community.vectorstores import SQLiteVec\n",
        "from tqdm.auto import tqdm\n",
        "from langchain_huggingface import HuggingFaceEmbeddings\n",
        "\n",
        "embedding_function = HuggingFaceEmbeddings(model_name=\"sentence-transformers/LaBSE\")\n",
        "\n",
        "connection = SQLiteVec.create_connection(db_file=\"vec.db\")\n",
        "\n",
        "vector_store = SQLiteVec(\n",
        "    table=\"movie_intelligence\",\n",
        "    embedding=embedding_function,\n",
        "    connection=connection,\n",
        "    )\n",
        "\n",
        "\n",
        "_ = vector_store.add_texts(texts=data)"
      ],
      "metadata": {
        "id": "aqpPd-mDTxcD"
      },
      "execution_count": null,
      "outputs": []
    },
    {
      "cell_type": "code",
      "source": [
        "# query = \"Funny Movie\" #@param\n",
        "# for doc in vector_store.similarity_search(query):\n",
        "#   print(doc)"
      ],
      "metadata": {
        "id": "anmjnIyB7wLS"
      },
      "execution_count": null,
      "outputs": []
    },
    {
      "cell_type": "markdown",
      "source": [
        "#### Approach 2: Distinct Vector DBs"
      ],
      "metadata": {
        "id": "kRXNcYszzSb1"
      }
    },
    {
      "cell_type": "code",
      "source": [
        "\n",
        "from langchain_community.embeddings import OllamaEmbeddings\n",
        "from langchain_community.vectorstores import SQLiteVec\n",
        "from tqdm.auto import tqdm\n",
        "from langchain_huggingface import HuggingFaceEmbeddings\n",
        "\n",
        "embedding_function = HuggingFaceEmbeddings(model_name=\"sentence-transformers/LaBSE\")\n",
        "\n",
        "tables_to_vectorize = [\n",
        "    'genres',\n",
        "    # 'reviews',\n",
        "    'movies',\n",
        "]\n",
        "stores = {}\n",
        "for table_name in tqdm(tables_to_vectorize):\n",
        "    data = pd.read_sql(\n",
        "        f'''\n",
        "        SELECT * FROM {table_name}\n",
        "        ''',\n",
        "        engine\n",
        "    )\n",
        "\n",
        "    print(data.head().to_markdown())\n",
        "\n",
        "    data = [str(i) for i in data.to_dict('records')]\n",
        "\n",
        "    connection = SQLiteVec.create_connection(db_file=f\"{table_name}_vec.db\")\n",
        "\n",
        "    vector_store = SQLiteVec(\n",
        "        table=\"intelligence\",\n",
        "        embedding=embedding_function,\n",
        "        connection=connection,\n",
        "        )\n",
        "\n",
        "    _ = vector_store.add_texts(texts=data)\n",
        "    stores[table_name] = vector_store"
      ],
      "metadata": {
        "id": "9NL6WhwbxHLl",
        "colab": {
          "base_uri": "https://localhost:8080/",
          "height": 413,
          "referenced_widgets": [
            "d1f27df86433480aa867362a272e22af",
            "2c2b3ce9423c40f7a445754ae067a327",
            "a21393885014424b9f83e67a31ff89e4",
            "a49ed88000e0493fb87ec5a76179a320",
            "770a628bba0740f98b1dd75d0c44823d",
            "bfc23b6e72b847dabb360a1edfe6e2c8",
            "9b014788afcc4057a5aa4b39d7b13b16",
            "12e6dbd1d56c4a9aafdd9a4387284717",
            "bb5ae924600546d0896d6ae5fbc68770",
            "a7688861b9c04805b889680491e07118",
            "874f868d52cd485cb69e86c3c57d96ac"
          ]
        },
        "outputId": "f3de277d-ac2a-4e07-dd93-46e30f6827a9"
      },
      "execution_count": null,
      "outputs": [
        {
          "output_type": "display_data",
          "data": {
            "text/plain": [
              "  0%|          | 0/2 [00:00<?, ?it/s]"
            ],
            "application/vnd.jupyter.widget-view+json": {
              "version_major": 2,
              "version_minor": 0,
              "model_id": "d1f27df86433480aa867362a272e22af"
            }
          },
          "metadata": {}
        },
        {
          "output_type": "stream",
          "name": "stdout",
          "text": [
            "|    |   genre_id | genre_name   |\n",
            "|---:|-----------:|:-------------|\n",
            "|  0 |          1 | Action       |\n",
            "|  1 |          2 | Comedy       |\n",
            "|  2 |          3 | Drama        |\n",
            "|  3 |          4 | Sci-Fi       |\n",
            "|  4 |          5 | Horror       |\n"
          ]
        },
        {
          "output_type": "stream",
          "name": "stderr",
          "text": [
            "/usr/local/lib/python3.11/dist-packages/torch/nn/modules/module.py:1750: FutureWarning: `encoder_attention_mask` is deprecated and will be removed in version 4.55.0 for `BertSdpaSelfAttention.forward`.\n",
            "  return forward_call(*args, **kwargs)\n"
          ]
        },
        {
          "output_type": "stream",
          "name": "stdout",
          "text": [
            "|    |   movie_id | title                                              |   release_year |   duration_minutes | synopsis                                                                                                                 |   budget_usd |   box_office_gross_usd |   director_id |   studio_id |\n",
            "|---:|-----------:|:---------------------------------------------------|---------------:|-------------------:|:-------------------------------------------------------------------------------------------------------------------------|-------------:|-----------------------:|--------------:|------------:|\n",
            "|  0 |          1 | Music Theory Music Theory Of The Quantity Writing  |           1980 |                180 | A thrilling story about construction cats and its villains. An instant classic, I'll watch it again.                     |  1.17366e+08 |            1.03501e+09 |            10 |           1 |\n",
            "|  1 |          2 | Corporate Prefixes Automobiles Of The Shape Design |           1983 |                150 | A thrilling story about sound cats and its mentors. Visually stunning, highly recommend!                                 |  3.05392e+07 |            1.33624e+08 |            31 |          20 |\n",
            "|  2 |          3 | Size Filmmaking Of The Appearance Cheese           |           2002 |                157 | A thrilling story about appearance houses and its sidekicks. Great acting, weak script.                                  |  9.83529e+07 |            9.77495e+08 |            17 |           8 |\n",
            "|  3 |          4 | Taste History Of The Quantity Metals               |           2021 |                140 | A thrilling story about speed sports and its love interests. Overrated and predictable.                                  |  5.81188e+06 |            1.22213e+07 |            29 |           6 |\n",
            "|  4 |          5 | Temperature 3D Graphics Of The Size Astronomy      |           2002 |                169 | A thrilling story about weather history and its antagonists. A must-watch! Captivating story and brilliant performances. |  1.96106e+08 |            2.80581e+08 |            31 |          15 |\n"
          ]
        },
        {
          "output_type": "stream",
          "name": "stderr",
          "text": [
            "/usr/local/lib/python3.11/dist-packages/torch/nn/modules/module.py:1750: FutureWarning: `encoder_attention_mask` is deprecated and will be removed in version 4.55.0 for `BertSdpaSelfAttention.forward`.\n",
            "  return forward_call(*args, **kwargs)\n"
          ]
        }
      ]
    },
    {
      "cell_type": "code",
      "source": [
        "# vector_store = stores['reviews']\n",
        "# query = 'Loved the movie'\n",
        "# for doc in vector_store.similarity_search_with_score(query):\n",
        "#   print(doc)"
      ],
      "metadata": {
        "id": "yqQnAvKayEMj"
      },
      "execution_count": null,
      "outputs": []
    },
    {
      "cell_type": "code",
      "source": [
        "vector_store = stores['genres']\n",
        "query = 'Punching'\n",
        "\n",
        "for doc in vector_store.similarity_search_with_score(query,):\n",
        "  print(doc)\n",
        "\n"
      ],
      "metadata": {
        "id": "lW0eDZVnaKc1",
        "colab": {
          "base_uri": "https://localhost:8080/"
        },
        "outputId": "08f557eb-271f-4e35-dc38-504f1c142829"
      },
      "execution_count": null,
      "outputs": [
        {
          "output_type": "stream",
          "name": "stdout",
          "text": [
            "(Document(metadata={}, page_content=\"{'genre_id': 7, 'genre_name': 'Animation'}\"), 1.3685766458511353)\n",
            "(Document(metadata={}, page_content=\"{'genre_id': 7, 'genre_name': 'Animation'}\"), 1.3685766458511353)\n",
            "(Document(metadata={}, page_content=\"{'genre_id': 7, 'genre_name': 'Animation'}\"), 1.3685766458511353)\n",
            "(Document(metadata={}, page_content=\"{'genre_id': 7, 'genre_name': 'Animation'}\"), 1.3685766458511353)\n"
          ]
        }
      ]
    },
    {
      "cell_type": "code",
      "source": [
        "vector_store = stores['movies']\n",
        "query = 'Punching'\n",
        "\n",
        "for doc in vector_store.similarity_search_with_score(query,):\n",
        "  print(doc)\n",
        "\n"
      ],
      "metadata": {
        "id": "iHvwVE120H3B",
        "colab": {
          "base_uri": "https://localhost:8080/"
        },
        "outputId": "ef2170ff-fbb5-491a-c077-8330563057ee"
      },
      "execution_count": null,
      "outputs": [
        {
          "output_type": "stream",
          "name": "stdout",
          "text": [
            "(Document(metadata={}, page_content='{\\'movie_id\\': 69, \\'title\\': \\'Character Birds Of The Speed Cheese\\', \\'release_year\\': 1997, \\'duration_minutes\\': 177, \\'synopsis\\': \"A thrilling story about algorithms fish and its love interests. An instant classic, I\\'ll watch it again.\", \\'budget_usd\\': 75886332.01, \\'box_office_gross_usd\\': 158186375.83, \\'director_id\\': 31, \\'studio_id\\': 19}'), 1.3794889450073242)\n",
            "(Document(metadata={}, page_content='{\\'movie_id\\': 69, \\'title\\': \\'Character Birds Of The Speed Cheese\\', \\'release_year\\': 1997, \\'duration_minutes\\': 177, \\'synopsis\\': \"A thrilling story about algorithms fish and its love interests. An instant classic, I\\'ll watch it again.\", \\'budget_usd\\': 75886332.01, \\'box_office_gross_usd\\': 158186375.83, \\'director_id\\': 31, \\'studio_id\\': 19}'), 1.3794889450073242)\n",
            "(Document(metadata={}, page_content=\"{'movie_id': 70, 'title': 'Appearance 3D Printing Of The Construction Fast Food', 'release_year': 2024, 'duration_minutes': 133, 'synopsis': 'A thrilling story about algorithms corporate and its love interests. The plot twists kept me on the edge of my seat.', 'budget_usd': 60514502.84, 'box_office_gross_usd': 600090568.82, 'director_id': 1, 'studio_id': 9}\"), 1.3803833723068237)\n",
            "(Document(metadata={}, page_content=\"{'movie_id': 70, 'title': 'Appearance 3D Printing Of The Construction Fast Food', 'release_year': 2024, 'duration_minutes': 133, 'synopsis': 'A thrilling story about algorithms corporate and its love interests. The plot twists kept me on the edge of my seat.', 'budget_usd': 60514502.84, 'box_office_gross_usd': 600090568.82, 'director_id': 1, 'studio_id': 9}\"), 1.3803833723068237)\n"
          ]
        }
      ]
    },
    {
      "cell_type": "markdown",
      "source": [
        "\n",
        "## Module 4: Session Review & Next Steps\n",
        "\n",
        "### Session 1 Recap & Key Takeaways\n",
        "This section provides a quick recap of everything we've learned in the first session. We'll quickly review the journey from our initial concepts and first queries to unlocking the power of schema and aggregates. This summary will reinforce the foundational principles and key techniques, ensuring you're confident in our progress.\n",
        "\n",
        "### Your First Steps & Preparing for Session 2\n",
        "We'll wrap up the session by highlighting the key takeaways for your first steps in Tabular RAG. We'll then set the stage for Session 2, where we'll build on this foundation to tackle multi-table queries, advanced aggregations, and the conceptual semantic search we just discussed. Session 2 is where we'll truly unlock the full potential of our movie universe."
      ],
      "metadata": {
        "id": "1pnAXUtOsKZa"
      }
    },
    {
      "cell_type": "code",
      "execution_count": null,
      "metadata": {
        "id": "x9LVetGmSwkS",
        "cellView": "form"
      },
      "outputs": [],
      "source": [
        "#@markdown ---"
      ]
    },
    {
      "cell_type": "markdown",
      "source": [
        "# Session 2"
      ],
      "metadata": {
        "id": "a4KDBknMs-sq"
      }
    },
    {
      "cell_type": "markdown",
      "source": [
        "## Module 1: Joining the Movie Universe (Multi-Table Queries)\n",
        "\n",
        "### The Connected World: Speaking Across Movie Tables\n",
        "So far, we've only talked to one movie table at a time. But the real power of a database comes from the relationships between its tables. Our movie universe is interconnected: a movie has a director, and a movie features several actors. This section introduces the concept of foreign keys as the \"glue\" that links our tables, allowing us to ask questions that span across the movies, actors, directors, cast_members, and movie_genres tables. We'll explore these relationships and set the stage for how we can navigate this web of data.\n",
        "\n",
        "### The Glue: The Power of SQL JOINs\n",
        "To navigate the relationships between our movie tables, we use the JOIN operation. This powerful SQL command allows us to combine rows from two or more tables based on a related column, like a movie_id or an actor_id. We'll focus on the two most common types: the INNER JOIN, which finds matching data in both tables (e.g., which actors are in a specific movie), and the LEFT JOIN, which returns all records from one table even if there are no matches in the other (e.g., all movies, even those without a genre assigned).\n",
        "\n",
        "### Live Demo: Multi-Table Movie Query Magic\n",
        "This live demonstration brings our JOIN concepts to life. We'll present a natural language challenge like, \"List all actors who appeared in 'The Matrix'.\" You'll see how the LLM, now aware of our table relationships, generates a sophisticated SQL query that uses INNER JOIN to connect the movies table with the cast_members and actors tables. We'll execute this multi-table query and see how the LLM orchestrates the entire process to provide a comprehensive and accurate answer.\n",
        "\n",
        "\n"
      ],
      "metadata": {
        "id": "qqs-z5QprtZq"
      }
    },
    {
      "cell_type": "code",
      "source": [
        "movie_name = pd.read_sql('select title from movies', engine).sample(1).title.values[0]\n",
        "\n",
        "print('Working with Movie Name: ', movie_name )"
      ],
      "metadata": {
        "colab": {
          "base_uri": "https://localhost:8080/"
        },
        "id": "WdKZt7roxJAm",
        "outputId": "9ac19c32-bfe5-44ae-d1ae-1b96bc8f46b1"
      },
      "execution_count": null,
      "outputs": [
        {
          "output_type": "stream",
          "name": "stdout",
          "text": [
            "Working with Movie Name:  Colors 3D Graphics Of The Physics Minerals\n"
          ]
        }
      ]
    },
    {
      "cell_type": "code",
      "source": [
        "#@title Using DDL instead of data dictionary\n",
        "\n",
        "ddl = '''\n",
        "CREATE TABLE directors (\n",
        "    director_id BIGINT,\n",
        "    director_name TEXT,\n",
        "    birth_date TEXT,\n",
        "    nationality TEXT\n",
        ")\n",
        "\n",
        "CREATE TABLE movies (\n",
        "    movie_id BIGINT,\n",
        "    title TEXT,\n",
        "    release_year BIGINT,\n",
        "    duration_minutes BIGINT,\n",
        "    synopsis TEXT,\n",
        "    budget_usd FLOAT,\n",
        "    box_office_gross_usd FLOAT,\n",
        "    director_id BIGINT,\n",
        "    studio_id BIGINT\n",
        ")\n",
        "\n",
        "CREATE TABLE studios (\n",
        "    studio_id BIGINT,\n",
        "    studio_name TEXT,\n",
        "    founded_year BIGINT,\n",
        "    country TEXT\n",
        ")\n",
        "'''\n",
        "\n",
        "# Sample Queries\n",
        "\n",
        "user_queries = [\n",
        "    f\"Which studios own the movie: '{movie_name}'?\",\n",
        "]\n",
        "\n",
        "\n",
        "prompt = \"\"\"\n",
        "You are an AI assistant that can answer questions about a movie database.\n",
        "The database contains information about movies, directors, actors, studios, genres, cast members, and reviews.\n",
        "Your task is to answer the user's query based on the provided database information.\n",
        "\n",
        "User Query: {user_query}\n",
        "\n",
        "Generate a SQL query to retrieve the requested information from the database.\n",
        "database: sqlite:///movies.db\n",
        "\n",
        "database schema:\n",
        "{ddl}\n",
        "\n",
        "USE ONLY THE SCHEMA PROVIDED. DO NOT ASSUME OTHER TABLE NAMES.\n",
        "\n",
        "\"\"\"\n",
        "\n",
        "\n",
        "rag_prompt = '''\n",
        "You are an AI assistant that can answer questions about a movie database.\n",
        "The database contains information about movies, directors, actors, studios, genres, cast members,\n",
        "and reviews.\n",
        "Your task is to answer the user's query based on the provided database information.\n",
        "\n",
        "User Query: {user_query}\n",
        "\n",
        "SQL Query: {resp}\n",
        "\n",
        "Database Response:\n",
        "{data_response}\n",
        "\n",
        "'''\n",
        "\n",
        "for user_query in user_queries:\n",
        "    resp = model.generate_content(prompt.format(\n",
        "        user_query=user_query, ddl=ddl)).text\n",
        "    resp = resp.strip().split('```sql')[1].split(\n",
        "        '```')[0].strip()  # Extract SQL query from response\n",
        "\n",
        "    try:\n",
        "\n",
        "        data_response = pd.read_sql(resp, engine).to_markdown(index=False)\n",
        "\n",
        "        llm_resp = model.generate_content(rag_prompt.format(\n",
        "            user_query=user_query,\n",
        "            resp=resp,\n",
        "            data_response=data_response\n",
        "        )\n",
        "        ).text.strip()\n",
        "\n",
        "        print(user_query, ':', llm_resp)\n",
        "\n",
        "    except Exception as e:\n",
        "        print(f\"Error executing query: {e}\")\n",
        "\n",
        "    print('-' * 80)\n",
        "    print()"
      ],
      "metadata": {
        "colab": {
          "base_uri": "https://localhost:8080/",
          "height": 71
        },
        "id": "16f02LSQNly7",
        "outputId": "01bf6478-2b93-4091-d2e7-302cb98c3df7"
      },
      "execution_count": null,
      "outputs": [
        {
          "output_type": "stream",
          "name": "stdout",
          "text": [
            "Which studios own the movie: 'Food Meat Of The Materials Physics Waves'? : The movie 'Food Meat Of The Materials Physics Waves' is owned by **speed Pictures**.\n",
            "--------------------------------------------------------------------------------\n",
            "\n"
          ]
        }
      ]
    },
    {
      "cell_type": "markdown",
      "source": [
        "### Dynamic Schema Discovery (PRAGMA table_info for SQLite)\n",
        "\n",
        "For more robust and scalable solutions, manually embedding schema in every prompt isn't practical. This segment introduces dynamic schema discovery, where our Python code programmatically extracts the database structure. Specifically for SQLite, we'll leverage the PRAGMA table_info command to query the database itself for its table and column metadata. This allows our system to automatically retrieve the latest schema information and pass it to the LLM, making our Tabular RAG application adaptable to database changes without manual prompt updates."
      ],
      "metadata": {
        "id": "d0PhIZjAPanU"
      }
    },
    {
      "cell_type": "code",
      "source": [
        "\n",
        "def get_schema(table_name, engine=engine):\n",
        "    \"\"\"\n",
        "    Retrieves the schema of a specified table in the SQLite database.\n",
        "\n",
        "    Args:\n",
        "        table_name (str): The name of the table to retrieve schema for.\n",
        "        engine: SQLAlchemy engine connected to the SQLite database.\n",
        "\n",
        "    Returns:\n",
        "        str: Formatted string representing the table schema.\n",
        "    \"\"\"\n",
        "    conn = engine.connect()\n",
        "    columns_info = conn.exec_driver_sql(\n",
        "        f'PRAGMA table_info(\"{table_name}\")').fetchall()\n",
        "\n",
        "    table_columns = [(col[1], col[2]) for col in columns_info]\n",
        "\n",
        "    formatted_string = f\"{table_name}:\\n\"\n",
        "    for col_name, col_type in table_columns:\n",
        "        formatted_string += f\" {col_name} ({col_type})\\n\"\n",
        "\n",
        "    return formatted_string\n"
      ],
      "metadata": {
        "id": "rdc6y6XVHnB_"
      },
      "execution_count": null,
      "outputs": []
    },
    {
      "cell_type": "code",
      "source": [
        "\n",
        "\n",
        "ddl = f'''\n",
        "\n",
        "{get_schema('movies', engine=engine)}\n",
        "\n",
        "{get_schema('directors', engine=engine)}\n",
        "'''\n",
        "\n",
        "user_queries = [\n",
        "    f\"Which studios own the movie: '{movie_name}'?\",\n",
        "]\n",
        "\n",
        "\n",
        "prompt = \"\"\"\n",
        "You are an AI assistant that can answer questions about a movie database.\n",
        "The database contains information about movies, directors, actors, studios, genres, cast members, and reviews.\n",
        "Your task is to answer the user's query based on the provided database information.\n",
        "\n",
        "User Query: {user_query}\n",
        "\n",
        "Generate a SQL query to retrieve the requested information from the database.\n",
        "database: sqlite:///movies.db\n",
        "\n",
        "database schema:\n",
        "{ddl}\n",
        "\n",
        "\"\"\"\n",
        "\n",
        "\n",
        "rag_prompt = '''\n",
        "You are an AI assistant that can answer questions about a movie database.\n",
        "The database contains information about movies, directors, actors, studios, genres, cast members,\n",
        "and reviews.\n",
        "Your task is to answer the user's query based on the provided database information.\n",
        "\n",
        "User Query: {user_query}\n",
        "\n",
        "SQL Query: {resp}\n",
        "\n",
        "Database Response:\n",
        "{data_response}\n",
        "\n",
        "'''\n",
        "\n",
        "for user_query in user_queries:\n",
        "    resp = model.generate_content(prompt.format(\n",
        "        user_query=user_query, ddl=ddl)).text\n",
        "    sql = resp.strip().split('```sql')[1].split(\n",
        "        '```')[0].strip()  # Extract SQL query from response\n",
        "\n",
        "    print('DEBUG:', sql)\n",
        "\n",
        "    try:\n",
        "\n",
        "        data_response = pd.read_sql(sql, engine).to_markdown(index=False)\n",
        "\n",
        "        llm_resp = model.generate_content(rag_prompt.format(\n",
        "            user_query=user_query,\n",
        "            resp=sql,\n",
        "            data_response=data_response\n",
        "        )\n",
        "        ).text.strip()\n",
        "\n",
        "        print(user_query, ':', llm_resp)\n",
        "\n",
        "    except Exception as e:\n",
        "        print(f\"Error executing query: {e}\")\n",
        "        print(sql)\n",
        "\n",
        "    print('-' * 80)\n",
        "    print()"
      ],
      "metadata": {
        "colab": {
          "base_uri": "https://localhost:8080/",
          "height": 198
        },
        "id": "PNI8a4FaPXxY",
        "outputId": "f1b36731-f363-4584-e62e-8eff13013123"
      },
      "execution_count": null,
      "outputs": [
        {
          "output_type": "stream",
          "name": "stdout",
          "text": [
            "DEBUG: SELECT\n",
            "  T2.studio_name\n",
            "FROM movies AS T1\n",
            "INNER JOIN studios AS T2\n",
            "  ON T1.studio_id = T2.studio_id\n",
            "WHERE\n",
            "  T1.title = 'Food Meat Of The Materials Physics Waves';\n",
            "Which studios own the movie: 'Food Meat Of The Materials Physics Waves'? : The movie 'Food Meat Of The Materials Physics Waves' is owned by **speed Pictures**.\n",
            "--------------------------------------------------------------------------------\n",
            "\n"
          ]
        }
      ]
    },
    {
      "cell_type": "markdown",
      "source": [
        "## Fetching Schema with Python: Practical Example (Movie Tables)\n",
        "\n",
        "Now that we understand the concept of dynamic schema discovery, this segment brings it to life with a practical Python example. We'll write and execute code that connects to our movies_db.db SQLite database and uses the PRAGMA table_info command to programmatically extract the names of all tables and their respective columns, along with their data types. This hands-on demonstration will show you exactly how to retrieve this vital \"movie script\" information directly from your database, preparing it for inclusion in our LLM prompts.\n",
        "\n",
        "\n",
        "- Step 1: Identify tables\n",
        "- Step 2: Check Table Schemas\n",
        "- Step 3: Generate SQL\n",
        "- Step 4: Retrieve data\n",
        "- Step 5: RAG\n"
      ],
      "metadata": {
        "id": "giqJsl5iPkT0"
      }
    },
    {
      "cell_type": "code",
      "source": [
        "user_query = f\"Which studios own the movie: '{movie_name}'?\" #@param\n",
        "\n"
      ],
      "metadata": {
        "id": "oCt1j5GIPXuj"
      },
      "execution_count": null,
      "outputs": []
    },
    {
      "cell_type": "code",
      "source": [
        "#@title Step 1\n",
        "import json\n",
        "\n",
        "tables = pd.read_sql(f\"SELECT name FROM sqlite_master WHERE type='table' AND name NOT LIKE 'sqlite_%';\", engine).to_markdown(index=False)\n",
        "\n",
        "table_choice_prompt = f'''\n",
        "\n",
        "You are an experienced Engineer and have been given the task of being the data retriever.\n",
        "\n",
        "Given the user query, make a choice on the tables to be used to fetch the data and then be able to build the answer.\n",
        "\n",
        "user query: {user_query}\n",
        "\n",
        "table names: {tables}\n",
        "\n",
        "Respond with the table names to be used as a json list of table names\n",
        "'''\n",
        "\n",
        "table_choice = model.generate_content(table_choice_prompt).text\n",
        "json_parsed = json.loads(table_choice.split('```json')[-1].split('```')[0])\n",
        "\n",
        "print(json_parsed)"
      ],
      "metadata": {
        "colab": {
          "base_uri": "https://localhost:8080/",
          "height": 35
        },
        "id": "ZQAh9ts6PXkr",
        "outputId": "eadfb56d-8a1b-4db4-d9ae-8e31f8a87e06"
      },
      "execution_count": null,
      "outputs": [
        {
          "output_type": "stream",
          "name": "stdout",
          "text": [
            "['movies', 'studios']\n"
          ]
        }
      ]
    },
    {
      "cell_type": "code",
      "source": [
        "#@title Step 2\n",
        "\n",
        "schemas = []\n",
        "\n",
        "for table_name in json_parsed:\n",
        "  schemas.append(get_schema(table_name, engine=engine))\n",
        "\n",
        "schemas_prompt = '\\n\\n'.join(schemas)\n",
        "\n",
        "print(schemas_prompt)"
      ],
      "metadata": {
        "colab": {
          "base_uri": "https://localhost:8080/"
        },
        "id": "xURMnQebPqc6",
        "outputId": "b1515fb3-cf6a-4e0e-f3e5-11e6634bbaf8"
      },
      "execution_count": null,
      "outputs": [
        {
          "output_type": "stream",
          "name": "stdout",
          "text": [
            "movies:\n",
            " movie_id (BIGINT)\n",
            " title (TEXT)\n",
            " release_year (BIGINT)\n",
            " duration_minutes (BIGINT)\n",
            " synopsis (TEXT)\n",
            " budget_usd (FLOAT)\n",
            " box_office_gross_usd (FLOAT)\n",
            " director_id (BIGINT)\n",
            " studio_id (BIGINT)\n",
            "\n",
            "\n",
            "studios:\n",
            " studio_id (BIGINT)\n",
            " studio_name (TEXT)\n",
            " founded_year (BIGINT)\n",
            " country (TEXT)\n",
            "\n"
          ]
        }
      ]
    },
    {
      "cell_type": "code",
      "source": [
        "#@title Step 3, 4, 5\n",
        "prompt = \"\"\"\n",
        "You are an AI assistant that can answer questions about a movie database.\n",
        "The database contains information about movies, directors, actors, studios, genres, cast members, and reviews.\n",
        "Your task is to answer the user's query based on the provided database information.\n",
        "\n",
        "User Query: {user_query}\n",
        "\n",
        "Generate a SQL query to retrieve the requested information from the database.\n",
        "database: sqlite:///movies.db\n",
        "\n",
        "database schema:\n",
        "{ddl}\n",
        "\n",
        "\"\"\"\n",
        "\n",
        "\n",
        "rag_prompt = '''\n",
        "You are an AI assistant that can answer questions about a movie database.\n",
        "The database contains information about movies, directors, actors, studios, genres, cast members,\n",
        "and reviews.\n",
        "Your task is to answer the user's query based on the provided database information.\n",
        "\n",
        "User Query: {user_query}\n",
        "\n",
        "SQL Query: {resp}\n",
        "\n",
        "Database Response:\n",
        "{data_response}\n",
        "\n",
        "'''\n",
        "\n",
        "\n",
        "resp = model.generate_content(prompt.format(\n",
        "    user_query=user_query, ddl=schemas_prompt)).text\n",
        "sql = resp.strip().split('```sql')[1].split(\n",
        "    '```')[0].strip()  # Extract SQL query from response\n",
        "\n",
        "print('-'*80)\n",
        "print('DEBUG:', sql)\n",
        "print('-'*80)\n",
        "\n",
        "try:\n",
        "\n",
        "    data_response = pd.read_sql(sql, engine).to_markdown(index=False)\n",
        "\n",
        "    llm_resp = model.generate_content(rag_prompt.format(\n",
        "        user_query=user_query,\n",
        "        resp=sql,\n",
        "        data_response=data_response\n",
        "    )\n",
        "    ).text.strip()\n",
        "\n",
        "    print(user_query, ':', llm_resp)\n",
        "\n",
        "except Exception as e:\n",
        "    print(f\"Error executing query: {e}\")\n",
        "    print(sql)\n",
        "\n",
        "print('-' * 80)\n",
        "print()"
      ],
      "metadata": {
        "colab": {
          "base_uri": "https://localhost:8080/",
          "height": 234
        },
        "cellView": "form",
        "id": "zJeAVo2qPqal",
        "outputId": "e729ea62-f60c-4c26-8966-d9927b4b8aab"
      },
      "execution_count": null,
      "outputs": [
        {
          "output_type": "stream",
          "name": "stdout",
          "text": [
            "--------------------------------------------------------------------------------\n",
            "DEBUG: SELECT\n",
            "  T2.studio_name\n",
            "FROM movies AS T1\n",
            "INNER JOIN studios AS T2\n",
            "  ON T1.studio_id = T2.studio_id\n",
            "WHERE\n",
            "  T1.title = 'Food Meat Of The Materials Physics Waves';\n",
            "--------------------------------------------------------------------------------\n",
            "Which studios own the movie: 'Food Meat Of The Materials Physics Waves'? : The movie 'Food Meat Of The Materials Physics Waves' is owned by **speed Pictures**.\n",
            "--------------------------------------------------------------------------------\n",
            "\n"
          ]
        }
      ]
    },
    {
      "cell_type": "markdown",
      "source": [
        "## Module 2: Advanced Movie Analytics (Aggregations & Ranking)\n",
        "\n",
        "### Beyond Simple Summaries: Advanced Aggregations\n",
        "We've learned to get simple totals with COUNT, but what if we want more nuanced insights? This section moves beyond basic summary statistics to advanced aggregations. We'll introduce the GROUP BY clause, a fundamental tool that lets us partition our data into groups based on a specific column (e.g., group all movies by genre). We'll then use COUNT and other aggregates within these groups to answer questions like, \"How many movies are in each genre?\".\n",
        "\n",
        "### Filtering & Ranking Movie Data\n",
        "Once we've grouped our data, we often want to refine those results. This section introduces the HAVING clause, which allows us to filter the results of a GROUP BY operation based on a condition (e.g., \"show me only genres with more than 10 movies\"). We'll also cover the essential ORDER BY and LIMIT clauses, which let us sort our data and restrict the output to a specific number of records, enabling us to easily find top-ranked items like the \"top 5 longest movies.\"\n",
        "\n",
        "### Live Demo: Complex Aggregations & Ranking\n",
        "This live demonstration combines everything we've learned about advanced analytics. We'll pose a series of challenging natural language questions that require the LLM to use GROUP BY, HAVING, ORDER BY, and LIMIT in a single query. We'll also explore temporal queries using SQLite's date functions to answer questions like \"How many movies were released in each decade?\". You'll see how the LLM orchestrates these complex operations to provide a powerful and precise analytical summary of our movie data.\n",
        "\n"
      ],
      "metadata": {
        "id": "l_BW7WdSsDFi"
      }
    },
    {
      "cell_type": "code",
      "source": [
        "#@title Step 1\n",
        "import json\n",
        "\n",
        "def discover_tables(user_query, engine=engine):\n",
        "\n",
        "  tables = pd.read_sql(f\"SELECT name FROM sqlite_master WHERE type='table' AND name NOT LIKE 'sqlite_%';\", engine).to_markdown(index=False)\n",
        "\n",
        "  table_choice_prompt = f'''\n",
        "\n",
        "  You are an experienced Engineer and have been given the task of being the data retriever.\n",
        "\n",
        "  Given the user query, make a choice on the tables to be used to fetch the data and then be able to build the answer.\n",
        "\n",
        "  user query: {user_query}\n",
        "\n",
        "  table names: {tables}\n",
        "\n",
        "  Respond with the table names to be used as a json list of table names\n",
        "  '''\n",
        "\n",
        "  table_choice = model.generate_content(table_choice_prompt).text\n",
        "  json_parsed = json.loads(table_choice.split('```json')[-1].split('```')[0])\n",
        "\n",
        "  return (json_parsed)\n",
        "\n",
        "def build_ddl_prompt(json_parsed, engine=engine):\n",
        "  schemas = []\n",
        "\n",
        "  for table_name in json_parsed:\n",
        "    schemas.append(get_schema(table_name, engine=engine))\n",
        "\n",
        "  schemas_prompt = '\\n\\n'.join(schemas)\n",
        "\n",
        "  return (schemas_prompt)\n",
        "\n",
        "\n",
        "def r_of_rag(user_query, schemas_prompt, engine):\n",
        "\n",
        "  prompt = \"\"\"\n",
        "  You are an AI assistant that can answer questions about a movie database.\n",
        "  The database contains information about movies, directors, actors, studios, genres, cast members, and reviews.\n",
        "  Your task is to answer the user's query based on the provided database information.\n",
        "\n",
        "  User Query: {user_query}\n",
        "\n",
        "  Generate a SQL query to retrieve the requested information from the database.\n",
        "  database: sqlite:///movies.db\n",
        "\n",
        "  database schema:\n",
        "  {ddl}\n",
        "\n",
        "  \"\"\"\n",
        "\n",
        "  resp = model.generate_content(prompt.format(\n",
        "    user_query=user_query, ddl=schemas_prompt)).text\n",
        "  try:\n",
        "\n",
        "    sql = resp.strip().split('```sql')[1].split(\n",
        "      '```')[0].strip()  # Extract SQL query from response\n",
        "\n",
        "    print('-'*80)\n",
        "    print(sql)\n",
        "    print('-'*80)\n",
        "    data_response = pd.read_sql(sql, engine).to_markdown(index=False)\n",
        "    return data_response\n",
        "  except Exception as e:\n",
        "    print(e)\n",
        "  return \"\"\n",
        "\n",
        "\n",
        "def ag_of_rag(user_query, data_response, engine, chat_history):\n",
        "  rag_prompt = '''\n",
        "  You are an AI assistant that can answer questions about a movie database.\n",
        "  The database contains information about movies, directors, actors, studios, genres, cast members,\n",
        "  and reviews.\n",
        "  Your task is to answer the user's query based on the provided database information.\n",
        "\n",
        "  User Query: {user_query}\n",
        "\n",
        "  Chat History:\n",
        "\n",
        "  {chat_history}\n",
        "\n",
        "  Database Response:\n",
        "  {data_response}\n",
        "\n",
        "  '''\n",
        "\n",
        "  try:\n",
        "      llm_resp = model.generate_content(rag_prompt.format(\n",
        "          user_query=user_query,\n",
        "          data_response=data_response,\n",
        "          chat_history=chat_history\n",
        "      )\n",
        "      ).text.strip()\n",
        "\n",
        "      return llm_resp\n",
        "\n",
        "  except Exception as e:\n",
        "      print(f\"Error executing query: {e}\")\n",
        "\n",
        "user_queries = [\n",
        "    f'I need to understand the popularity of the movie {movie_name}',\n",
        "    f'What are the movies in the similar popularity scale?',\n",
        "    f'What are the most common Genres for these movies?',\n",
        "    f'Ok, I want to undertand what could be a common cast to such successful movies. Rank them by their performance in terms of overall movie rating'\n",
        "]\n",
        "\n",
        "history = []\n",
        "\n",
        "for user_query in user_queries[:]:\n",
        "  json_parsed = discover_tables(user_query)\n",
        "  schemas_prompt = build_ddl_prompt(json_parsed)\n",
        "  data_response = r_of_rag(user_query, schemas_prompt, engine)\n",
        "  # print(data_response)\n",
        "  history.append(f'data_context: \\n{data_response}')\n",
        "  resp = ag_of_rag(user_query, data_response, engine, history)\n",
        "  history.append(f'user_query: {user_query}\\nanswer: {resp}')\n",
        "  print(user_query, ':', resp)\n",
        "  print('-'*80)"
      ],
      "metadata": {
        "colab": {
          "base_uri": "https://localhost:8080/",
          "height": 1000
        },
        "id": "zMxPmKU8NnCY",
        "outputId": "fd9c8528-e006-40ef-fc61-b8d87a356428"
      },
      "execution_count": null,
      "outputs": [
        {
          "output_type": "stream",
          "name": "stdout",
          "text": [
            "--------------------------------------------------------------------------------\n",
            "SELECT\n",
            "  m.title,\n",
            "  m.box_office_gross_usd,\n",
            "  COUNT(r.review_id) AS number_of_reviews,\n",
            "  AVG(r.rating) AS average_rating\n",
            "FROM movies AS m\n",
            "LEFT JOIN reviews AS r\n",
            "  ON m.movie_id = r.movie_id\n",
            "WHERE\n",
            "  m.title = 'Colors 3D Graphics Of The Physics Minerals'\n",
            "GROUP BY\n",
            "  m.movie_id,\n",
            "  m.title,\n",
            "  m.box_office_gross_usd;\n",
            "--------------------------------------------------------------------------------\n",
            "I need to understand the popularity of the movie Colors 3D Graphics Of The Physics Minerals : Based on the information provided, here's an understanding of the popularity of \"Colors 3D Graphics Of The Physics Minerals\":\n",
            "\n",
            "*   **Box Office:** The movie earned approximately **$116.82 million** at the box office, indicating a moderate level of commercial success.\n",
            "*   **Reviews:** It received **81 reviews**, which is a relatively low number, suggesting it might not have been widely seen or discussed.\n",
            "*   **Average Rating:** The movie holds an average rating of **5.72 out of 10**, indicating a somewhat mixed to slightly positive reception among those who reviewed it.\n",
            "\n",
            "In summary, while it had a decent box office performance, the relatively low number of reviews and a middle-of-the-road rating suggest it was not a widely acclaimed or massively popular film.\n",
            "--------------------------------------------------------------------------------\n",
            "--------------------------------------------------------------------------------\n",
            "SELECT\n",
            "  title,\n",
            "  box_office_gross_usd\n",
            "FROM movies\n",
            "ORDER BY\n",
            "  box_office_gross_usd DESC;\n",
            "--------------------------------------------------------------------------------\n",
            "What are the movies in the similar popularity scale? : Based on box office gross, which was used to gauge popularity in the previous turn, \"Colors 3D Graphics Of The Physics Minerals\" earned approximately $116.82 million.\n",
            "\n",
            "Here are movies with a similar box office popularity scale (around $100 million to $130 million):\n",
            "\n",
            "*   **Corporate Prefixes Music Instruments Of The Physics Typography**: $129.18 million\n",
            "*   **Quantity Cotton Of The Taste Cotton**: $128.61 million\n",
            "*   **Geometry Houses Of The Geometry Fish**: $124.53 million\n",
            "*   **Character Cats Of The Algorithms Radio**: $120.82 million\n",
            "*   **Speed Screenwriting Of The Emotions Phones**: $114.96 million\n",
            "*   **Shape Physics Of The Physics Filmmaking**: $109.69 million\n",
            "--------------------------------------------------------------------------------\n",
            "--------------------------------------------------------------------------------\n",
            "SELECT\n",
            "  T1.genre_name,\n",
            "  COUNT(T2.movie_id) AS movie_count\n",
            "FROM genres AS T1\n",
            "INNER JOIN movie_genres AS T2\n",
            "  ON T1.genre_id = T2.genre_id\n",
            "GROUP BY\n",
            "  T1.genre_name\n",
            "ORDER BY\n",
            "  movie_count DESC;\n",
            "--------------------------------------------------------------------------------\n",
            "What are the most common Genres for these movies? : Based on the movies in the similar popularity scale, the most common genres are:\n",
            "\n",
            "*   **Animation** (4 movies)\n",
            "*   **Horror** (3 movies)\n",
            "*   **Action** (3 movies)\n",
            "--------------------------------------------------------------------------------\n",
            "--------------------------------------------------------------------------------\n",
            "SELECT\n",
            "  A.actor_name,\n",
            "  AVG(R.rating) AS average_movie_rating\n",
            "FROM actors AS A\n",
            "JOIN cast_members AS CM\n",
            "  ON A.actor_id = CM.actor_id\n",
            "JOIN reviews AS R\n",
            "  ON CM.movie_id = R.movie_id\n",
            "GROUP BY\n",
            "  A.actor_name\n",
            "ORDER BY\n",
            "  average_movie_rating DESC;\n",
            "--------------------------------------------------------------------------------\n",
            "Ok, I want to undertand what could be a common cast to such successful movies. Rank them by their performance in terms of overall movie rating : Based on the overall movie rating performance, here are some actors who could be considered part of a \"common cast\" for successful movies, ranked by their average movie rating:\n",
            "\n",
            "*   **zingy-archive**: 5.63\n",
            "*   **bare-taping**: 5.61\n",
            "*   **rigid-emmentaler**: 5.61\n",
            "*   **objective-band**: 5.60\n",
            "*   **rosy-application**: 5.59\n",
            "*   **isomorphic-trip**: 5.57\n",
            "*   **collinear-outboard**: 5.55\n",
            "*   **camel-bed**: 5.53\n",
            "*   **deterministic-pan**: 5.53\n",
            "*   **hot-breakout**: 5.52\n",
            "--------------------------------------------------------------------------------\n"
          ]
        }
      ]
    },
    {
      "cell_type": "code",
      "source": [
        "[print(msg, '\\n', '-'*80) for i, msg in enumerate(history) if i%2==1]"
      ],
      "metadata": {
        "colab": {
          "base_uri": "https://localhost:8080/"
        },
        "id": "OWsT3CLaNm-3",
        "outputId": "02123dc2-0b48-41b6-e569-47a2815f8d9b"
      },
      "execution_count": null,
      "outputs": [
        {
          "output_type": "stream",
          "name": "stdout",
          "text": [
            "user_query: I need to understand the popularity of the movie Colors 3D Graphics Of The Physics Minerals\n",
            "answer: Based on the information provided, here's an understanding of the popularity of \"Colors 3D Graphics Of The Physics Minerals\":\n",
            "\n",
            "*   **Box Office:** The movie earned approximately **$116.82 million** at the box office, indicating a moderate level of commercial success.\n",
            "*   **Reviews:** It received **81 reviews**, which is a relatively low number, suggesting it might not have been widely seen or discussed.\n",
            "*   **Average Rating:** The movie holds an average rating of **5.72 out of 10**, indicating a somewhat mixed to slightly positive reception among those who reviewed it.\n",
            "\n",
            "In summary, while it had a decent box office performance, the relatively low number of reviews and a middle-of-the-road rating suggest it was not a widely acclaimed or massively popular film. \n",
            " --------------------------------------------------------------------------------\n",
            "user_query: What are the movies in the similar popularity scale?\n",
            "answer: Based on box office gross, which was used to gauge popularity in the previous turn, \"Colors 3D Graphics Of The Physics Minerals\" earned approximately $116.82 million.\n",
            "\n",
            "Here are movies with a similar box office popularity scale (around $100 million to $130 million):\n",
            "\n",
            "*   **Corporate Prefixes Music Instruments Of The Physics Typography**: $129.18 million\n",
            "*   **Quantity Cotton Of The Taste Cotton**: $128.61 million\n",
            "*   **Geometry Houses Of The Geometry Fish**: $124.53 million\n",
            "*   **Character Cats Of The Algorithms Radio**: $120.82 million\n",
            "*   **Speed Screenwriting Of The Emotions Phones**: $114.96 million\n",
            "*   **Shape Physics Of The Physics Filmmaking**: $109.69 million \n",
            " --------------------------------------------------------------------------------\n",
            "user_query: What are the most common Genres for these movies?\n",
            "answer: Based on the movies in the similar popularity scale, the most common genres are:\n",
            "\n",
            "*   **Animation** (4 movies)\n",
            "*   **Horror** (3 movies)\n",
            "*   **Action** (3 movies) \n",
            " --------------------------------------------------------------------------------\n",
            "user_query: Ok, I want to undertand what could be a common cast to such successful movies. Rank them by their performance in terms of overall movie rating\n",
            "answer: Based on the overall movie rating performance, here are some actors who could be considered part of a \"common cast\" for successful movies, ranked by their average movie rating:\n",
            "\n",
            "*   **zingy-archive**: 5.63\n",
            "*   **bare-taping**: 5.61\n",
            "*   **rigid-emmentaler**: 5.61\n",
            "*   **objective-band**: 5.60\n",
            "*   **rosy-application**: 5.59\n",
            "*   **isomorphic-trip**: 5.57\n",
            "*   **collinear-outboard**: 5.55\n",
            "*   **camel-bed**: 5.53\n",
            "*   **deterministic-pan**: 5.53\n",
            "*   **hot-breakout**: 5.52 \n",
            " --------------------------------------------------------------------------------\n"
          ]
        },
        {
          "output_type": "execute_result",
          "data": {
            "text/plain": [
              "[None, None, None, None]"
            ]
          },
          "metadata": {},
          "execution_count": 20
        }
      ]
    },
    {
      "cell_type": "markdown",
      "source": [
        "## Module 3: The Hybrid RAG System: Blending SQL & Semantic Search\n",
        "### The Ultimate Challenge: Bridging the Semantic Gap\n",
        "Pure SQL is fantastic for structured queries, but it struggles with subjective or conceptual questions like, \"Find sci-fi movies with a thrilling plot.\" There's a semantic gap between a user's intent and what the database can understand through keywords alone. This section introduces the concept of a Hybrid Retrieval-Augmented Generation (RAG) system that blends structured SQL queries with a powerful vector-based semantic search to bridge this gap and provide truly intelligent answers.\n",
        "\n",
        "### The Hybrid Workflow: Blending SQL & Vector Search\n",
        "Our hybrid system will act as a smart orchestrator. When a user asks a complex question, the system will break it down. We'll demonstrate a scenario: \"Find highly-rated sci-fi movies directed by Christopher Nolan with thrilling plots.\" The system will first use semantic search to find movie synopses with a \"thrilling plot\" and then use a structured SQL query to filter those results for \"sci-fi genre\" and \"Christopher Nolan.\" This workflow shows how we can combine the best of both worlds to generate a comprehensive and accurate response.\n",
        "\n"
      ],
      "metadata": {
        "id": "DxEh3eSRsDeR"
      }
    },
    {
      "cell_type": "code",
      "source": [
        "user_query = f'My kid likes Fighting Animated Movies. Recommend some which even i can watch. I love movies of actors in Horror and Comedy' #@param"
      ],
      "metadata": {
        "id": "upQA6KDZyvqJ"
      },
      "execution_count": null,
      "outputs": []
    },
    {
      "cell_type": "code",
      "source": [
        "prompt = '''\n",
        "You are my personal AI Assistant having access to a movie database.\n",
        "You need to answer my queries and recommend me movies based\n",
        "'''\n",
        "\n",
        "p1 = '''\n",
        "Given a user query, make a descision on whether you need to do Document Based RAG(`DRAG`) or Tabular RAG(`TRAG`).\n",
        "based on the user query: `{user_query}` decide and respond back with only the keywords [`DRAG`, `TRAG`]. You can return both or just 1 as per requirement.\n",
        "\n",
        "In case of `DRAG`, you have access to  `movies` and `genres` table indexes, make a cognitive choice and return the relevant indexes as well to use for my use case.\n",
        "'''\n",
        "\n",
        "resp = model.generate_content(p1.format(user_query=user_query)).text\n",
        "\n",
        "print(resp)\n",
        "\n",
        "context = ''\n",
        "if 'DRAG' in resp:\n",
        "\n",
        "  if 'reviews' in resp:\n",
        "    vector_store = stores['reviews']\n",
        "    context+='\\n---\\n'+'reviews'+'\\n\\n'+'\\n'.join([doc.page_content  for doc in vector_store.similarity_search(user_query)])+'\\n---\\n'\n",
        "  if 'movies' in resp:\n",
        "    vector_store = stores['movies']\n",
        "    context+='\\n---\\n'+'movies'+'\\n\\n'+'\\n'.join([doc.page_content  for doc in vector_store.similarity_search(user_query)])+'\\n---\\n'\n",
        "  if 'genres' in resp:\n",
        "    vector_store = stores['genres']\n",
        "    context+='\\n---\\n'+'genres'+'\\n\\n'+'\\n'.join([doc.page_content  for doc in vector_store.similarity_search(user_query)])+'\\n---\\n'\n",
        "\n",
        "if 'TRAG' in resp:\n",
        "  # DO TRAG\n",
        "  # adding DRAG Context to User Query\n",
        "  uq = 'user_query: '+'\\n\\n'+user_query+'\\n---\\n'+context+'\\n---\\n'\n",
        "  json_parsed = discover_tables(uq)\n",
        "  schemas_prompt = build_ddl_prompt(json_parsed)\n",
        "  data_response = r_of_rag(uq, schemas_prompt, engine)\n",
        "  resp = ag_of_rag(uq, data_response, engine, [])\n",
        "  print(user_query, ':', resp)\n",
        "\n",
        "# print(context)"
      ],
      "metadata": {
        "colab": {
          "base_uri": "https://localhost:8080/",
          "height": 745
        },
        "id": "2J8kO0thyvnW",
        "outputId": "79626ddc-0528-4302-ac1b-b6458c821887"
      },
      "execution_count": null,
      "outputs": [
        {
          "output_type": "stream",
          "name": "stdout",
          "text": [
            "TRAG\n",
            "--------------------------------------------------------------------------------\n",
            "SELECT\n",
            "  A.actor_name,\n",
            "  AVG(MR.avg_rating) AS actor_overall_average_movie_rating\n",
            "FROM actors AS A\n",
            "JOIN cast_members AS CM\n",
            "  ON A.actor_id = CM.actor_id\n",
            "JOIN (\n",
            "  SELECT\n",
            "    M.movie_id,\n",
            "    AVG(R.rating) AS avg_rating\n",
            "  FROM movies AS M\n",
            "  JOIN reviews AS R\n",
            "    ON M.movie_id = R.movie_id\n",
            "  GROUP BY\n",
            "    M.movie_id\n",
            ") AS MR\n",
            "  ON CM.movie_id = MR.movie_id\n",
            "GROUP BY\n",
            "  A.actor_id,\n",
            "  A.actor_name\n",
            "ORDER BY\n",
            "  actor_overall_average_movie_rating DESC;\n",
            "--------------------------------------------------------------------------------\n",
            "Ok, I want to undertand what could be a common cast to such successful movies. Rank them by their performance in terms of overall movie rating : Based on the overall average movie rating for the movies they have been in, here are the actors ranked from highest to lowest:\n",
            "\n",
            "*   **zingy-archive**: 5.64\n",
            "*   **bare-taping**: 5.63\n",
            "*   **rigid-emmentaler**: 5.61\n",
            "*   **objective-band**: 5.60\n",
            "*   **rosy-application**: 5.60\n",
            "*   **isomorphic-trip**: 5.58\n",
            "*   **deterministic-pan**: 5.54\n",
            "*   **camel-bed**: 5.53\n",
            "*   **collinear-outboard**: 5.53\n",
            "*   **maroon-program**: 5.52\n"
          ]
        }
      ]
    },
    {
      "cell_type": "code",
      "source": [],
      "metadata": {
        "id": "AraSpPuvyvc0"
      },
      "execution_count": null,
      "outputs": []
    },
    {
      "cell_type": "code",
      "source": [],
      "metadata": {
        "id": "kxND2ZfTyvaD"
      },
      "execution_count": null,
      "outputs": []
    },
    {
      "cell_type": "code",
      "source": [],
      "metadata": {
        "id": "p_nGJCLcyu8y"
      },
      "execution_count": null,
      "outputs": []
    },
    {
      "cell_type": "markdown",
      "source": [
        "## Module 4: Building Resilient & Scalable Movie RAG Systems\n",
        "\n",
        "### Security, Robustness, & Performance\n",
        "Building a production-ready system requires more than just clever queries. This section focuses on the critical aspects of security and performance. We'll address the ever-present threat of SQL injection, a vulnerability that can be exploited even in a simple SQLite database, and show how to prevent it using parameterized queries. We'll also discuss strategies for improving performance through indexing and how to handle ambiguous user queries gracefully, ensuring our system is not only smart but also safe, fast, and user-friendly.\n",
        "\n"
      ],
      "metadata": {
        "id": "jb7zQInXsDcF"
      }
    },
    {
      "cell_type": "code",
      "source": [
        "import pandas as pd\n",
        "from sqlalchemy import create_engine\n",
        "\n",
        "# Sample data\n",
        "data = {\n",
        "    'product_id': [101, 102, 201, 202, 301],\n",
        "    'name': ['Laptop', 'Keyboard', 'Sci-Fi Novel', 'History Book', 'T-Shirt'],\n",
        "    'category': ['Electronics', 'Electronics', 'Books', 'Books', 'Apparel']\n",
        "}\n",
        "df = pd.DataFrame(data)\n",
        "\n",
        "# Create a SQLite database and table\n",
        "engine = create_engine('sqlite:///products.db')\n",
        "df.to_sql('products', engine, if_exists='replace', index=False)\n",
        "\n",
        "print(\"Database 'products.db' created successfully.\")"
      ],
      "metadata": {
        "colab": {
          "base_uri": "https://localhost:8080/"
        },
        "id": "Oj_HSDBh8B9p",
        "outputId": "ca7cd856-dc0c-40f3-c1c0-0fe2da0d8e48"
      },
      "execution_count": null,
      "outputs": [
        {
          "output_type": "stream",
          "name": "stdout",
          "text": [
            "Database 'products.db' created successfully.\n"
          ]
        }
      ]
    },
    {
      "cell_type": "code",
      "source": [
        "from sqlalchemy import create_engine, text\n",
        "import pandas as pd\n",
        "\n",
        "engine = create_engine('sqlite:///products.db')\n",
        "\n",
        "def get_products_vulnerable(llm_generated_filter: str):\n",
        "    \"\"\"\n",
        "    VULNERABLE function that uses string formatting to build a query.\n",
        "    This is dangerous!\n",
        "    \"\"\"\n",
        "    # The developer trusts the LLM output and stitches it directly into the SQL.\n",
        "    query = f\"SELECT * FROM products WHERE {llm_generated_filter}\"\n",
        "    print(f\"Executing Dangerous Query: {query}\\n\")\n",
        "\n",
        "    with engine.connect() as conn:\n",
        "        # Using pandas to read the result\n",
        "        result_df = pd.read_sql(query, conn)\n",
        "    return result_df\n",
        "\n",
        "# --- The Attack ---\n",
        "\n",
        "# Case 1: A normal, \"good\" prompt from the LLM\n",
        "# User asks: \"Find me all electronics\" -> LLM generates: \"category = 'Electronics'\"\n",
        "good_filter = \"category = 'Electronics'\"\n",
        "print(\"--- Running with a normal, safe filter ---\")\n",
        "df_good = get_products_vulnerable(good_filter)\n",
        "print(df_good)\n",
        "\n",
        "\n",
        "# Case 2: A malicious prompt that tricks the LLM or is injected by a user\n",
        "# User asks: \"Find books, or whatever, just show me everything\"\n",
        "# A naive LLM or a direct attacker might generate the following payload:\n",
        "malicious_filter = \"category = 'Books' OR '1'='1'\"\n",
        "\n",
        "print(\"\\n\\n--- Running with a MALICIOUS filter (SQL Injection) ---\")\n",
        "df_hacked = get_products_vulnerable(malicious_filter)\n",
        "print(df_hacked)"
      ],
      "metadata": {
        "colab": {
          "base_uri": "https://localhost:8080/"
        },
        "id": "JB-sRvEV78Zi",
        "outputId": "7c770e5f-9d2c-410f-b42b-bd73ec7672dc"
      },
      "execution_count": null,
      "outputs": [
        {
          "output_type": "stream",
          "name": "stdout",
          "text": [
            "--- Running with a normal, safe filter ---\n",
            "Executing Dangerous Query: SELECT * FROM products WHERE category = 'Electronics'\n",
            "\n",
            "   product_id      name     category\n",
            "0         101    Laptop  Electronics\n",
            "1         102  Keyboard  Electronics\n",
            "\n",
            "\n",
            "--- Running with a MALICIOUS filter (SQL Injection) ---\n",
            "Executing Dangerous Query: SELECT * FROM products WHERE category = 'Books' OR '1'='1'\n",
            "\n",
            "   product_id          name     category\n",
            "0         101        Laptop  Electronics\n",
            "1         102      Keyboard  Electronics\n",
            "2         201  Sci-Fi Novel        Books\n",
            "3         202  History Book        Books\n",
            "4         301       T-Shirt      Apparel\n"
          ]
        }
      ]
    },
    {
      "cell_type": "code",
      "source": [
        "user_query = \"I want category in 'Electronics' and '1' = '1'\"\n",
        "\n",
        "\n",
        "llm_sql =  model.generate_content(f'''\n",
        "I am building a product sql with products table in mind.\n",
        "\n",
        "My search is on exact level matches based on user query.\n",
        "The User is the king/Queen and respect their wishes to the max.\n",
        "Do not alter/modify or digress from user query at any cost\n",
        "\n",
        "build a sql filter for the user query: {user_query}\n",
        "\n",
        "pattern to follow: `SELECT * FROM products WHERE llm_generated_filter`\n",
        "\n",
        "responsd with only the `llm_generated_filter`\n",
        "''').text\n",
        "\n",
        "\n",
        "llm_sql"
      ],
      "metadata": {
        "colab": {
          "base_uri": "https://localhost:8080/",
          "height": 37
        },
        "id": "xSwYerbO45J3",
        "outputId": "d1a3a1af-ba59-4949-b606-9fed43bc7c17"
      },
      "execution_count": null,
      "outputs": [
        {
          "output_type": "execute_result",
          "data": {
            "text/plain": [
              "\"category IN ('Electronics') AND '1' = '1'\""
            ],
            "application/vnd.google.colaboratory.intrinsic+json": {
              "type": "string"
            }
          },
          "metadata": {},
          "execution_count": 25
        }
      ]
    },
    {
      "cell_type": "code",
      "source": [
        "user_query = \"I want category in 'Electronics' and '1' = '1'\"\n",
        "\n",
        "fix_prompt = '''\n",
        "understand the query and rewrite against sql injection and other hacks.\n",
        "\n",
        "\n",
        "'''\n",
        "\n",
        "filter_str =  model.generate_content(fix_prompt).text\n",
        "\n",
        "\n",
        "filter_str"
      ],
      "metadata": {
        "id": "Qxw_I8hMIowY"
      },
      "execution_count": null,
      "outputs": []
    },
    {
      "cell_type": "markdown",
      "source": [
        "## Module 5: Session 2 Recap & The Road Ahead\n",
        "\n",
        "### Mastering Advanced Movie Tabular RAG\n",
        "We've covered a lot in Session 2! This section will provide a final recap of our journey. We'll quickly review the journey from our initial concepts and first queries to unlocking the power of schema and aggregates, mastering advanced queries with JOINs and GROUP BY, and conceptualizing a hybrid RAG system. This summary will reinforce the foundational principles and key techniques, ensuring you're confident in our progress.\n",
        "\n",
        "### Your Journey Continues\n",
        "As we conclude the session, we'll offer some final thoughts on the future of Tabular RAG and how you can continue to apply these concepts to your own data. The skills you've developed are not limited to our movie database; they are the foundation for building intelligent systems that can converse with any structured data source. We’ll offer guidance on how to scale these concepts beyond SQLite and into larger, more complex database environments."
      ],
      "metadata": {
        "id": "_6QWWpGesDZf"
      }
    },
    {
      "cell_type": "code",
      "source": [],
      "metadata": {
        "id": "BrFZL7yz8d49"
      },
      "execution_count": null,
      "outputs": []
    }
  ]
}